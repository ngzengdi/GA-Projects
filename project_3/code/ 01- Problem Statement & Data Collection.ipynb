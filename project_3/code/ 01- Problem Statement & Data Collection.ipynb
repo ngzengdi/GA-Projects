{
 "cells": [
  {
   "cell_type": "markdown",
   "id": "53696161-0ade-4027-a18a-377403b8b6d0",
   "metadata": {},
   "source": [
    "# Project 3: Web APIs & NLP -01"
   ]
  },
  {
   "cell_type": "markdown",
   "id": "48bcfa2d-5d93-4508-9373-5cf70b6f9c87",
   "metadata": {},
   "source": [
    "## Background"
   ]
  },
  {
   "cell_type": "markdown",
   "id": "c7b4441d-be3a-4a61-ac31-6f8e07a6c8eb",
   "metadata": {},
   "source": [
    "Trip.com Group Limited is a leading global one-stop travel platform, integrating a comprehensive suite of travel products and services and differentiated travel content.  \n",
    "\n",
    "The Company provides one-stop travel services through Ctrip and Qunar:  \n",
    " - Our accommodation business provides over 1.2 million global accommodation offerings, covering hotels, motels, resorts, homes, apartments, bed and breakfasts, hostels, and other properties.  \n",
    " - Our air ticketing business offers flights from over 480 airlines, covering over 2,600 airports in over 200 countries and regions.  \n",
    " - We also offer over 310,000 in-destination activities around the world.    \n",
    "\n",
    "The Company provides travel services to non-Chinese customers mainly through Trip.com and Skyscanner."
   ]
  },
  {
   "cell_type": "markdown",
   "id": "c1fa1aaf-56b5-4a12-9067-5be73b01ff51",
   "metadata": {},
   "source": [
    "Vision \"to be the world's leading and most trusted family of online travel brands that aspires to deliver the perfect trip at the best price for every traveler.\""
   ]
  },
  {
   "cell_type": "markdown",
   "id": "02d9c708-5110-4c10-94f7-5570ecaad0d9",
   "metadata": {},
   "source": [
    "The goal is to penetrate America especially North America and we plan to use be more visible on search engine thus marketing started keyword research. Keyword research is the process of finding and analyzing search terms that people enter into search engines with the goal of using that data for a specific purpose, often for search engine optimization (SEO) or general marketing. Keyword research can uncover queries to target, the popularity of these queries, their ranking difficulty, and more. In order to do so, we will need to identify keys words especially long-tail keywords that can get to the customers. "
   ]
  },
  {
   "cell_type": "markdown",
   "id": "05f258ea-2cb5-48da-b915-73e829fe620b",
   "metadata": {},
   "source": [
    "In this project, we will be using Reddit to pull from r/Flights and r/Hotels 5000 entrys each to build a text classification model to help the marketing team identify which word should be for flight domain and which word should be for hotel domain. The model will also help to identify the top few words with high coeficient to help the marketing team see if we can identify long-tail keywords. "
   ]
  },
  {
   "cell_type": "markdown",
   "id": "39552f82-4d44-4457-bccb-6c71592c398c",
   "metadata": {},
   "source": [
    "Text classification gives you a richer SEO audit of the words that characterize your page content. Exploring word frequency against content in multiple pages will lead to more decisive SEO insights into inserting the words meant to be emphasized in a search query."
   ]
  },
  {
   "cell_type": "markdown",
   "id": "2dc5f2d6-4c00-4d9c-a95c-31dacf9c248c",
   "metadata": {},
   "source": [
    "## Problem Statement"
   ]
  },
  {
   "cell_type": "markdown",
   "id": "bb9ed3db-a1e0-49f4-af5b-e571ea729c5f",
   "metadata": {},
   "source": [
    "Do a Keyword research to uncover queries to target and the popularity of these queries using supervised learning technique so we’ll need some labeled data to train our model. \n"
   ]
  },
  {
   "cell_type": "markdown",
   "id": "6b1731dd-4e1d-4a64-be3d-4afacee5b6d9",
   "metadata": {},
   "source": [
    "## Data Collection"
   ]
  },
  {
   "cell_type": "code",
   "execution_count": 1,
   "id": "f24e425a-12ee-4cd6-b46c-eb7c49f72ce5",
   "metadata": {},
   "outputs": [],
   "source": [
    "#import libraries\n",
    "import time\n",
    "import pandas as pd\n",
    "import numpy as np\n",
    "import requests "
   ]
  },
  {
   "cell_type": "code",
   "execution_count": 2,
   "id": "c8735c73-4aae-4a28-a9b3-525454510622",
   "metadata": {},
   "outputs": [],
   "source": [
    "# Define the base urls for submissions/comments from the reddit api\n",
    "baseurl = 'https://api.pushshift.io/reddit/search/submission'"
   ]
  },
  {
   "cell_type": "markdown",
   "id": "f4f445e8-05ad-4855-ae3c-00bb1d217644",
   "metadata": {},
   "source": [
    "### Create Functions"
   ]
  },
  {
   "cell_type": "code",
   "execution_count": 3,
   "id": "d93bc5a3-0dd1-459b-bf0d-a197927aa4b8",
   "metadata": {},
   "outputs": [],
   "source": [
    "# Define a function to get new parameters for the preceding 500 posts\n",
    "def get_params(base_df, subreddit):\n",
    "    params = {\n",
    "        'subreddit': subreddit, \n",
    "        'size': 500, \n",
    "        'before': base_df.loc[(base_df.shape[0] - 1), 'created_utc'] \n",
    "    }\n",
    "    return params"
   ]
  },
  {
   "cell_type": "code",
   "execution_count": 4,
   "id": "afe75d63-afe3-48b9-8145-e1f4d8dd770c",
   "metadata": {},
   "outputs": [],
   "source": [
    "# Define a function that returns a list of dictionaries for the content of each post\n",
    "def get_posts(params, baseurl='https://api.pushshift.io/reddit/search/submission'):\n",
    "    res = requests.get(baseurl, params)\n",
    "    if res.status_code != 200:\n",
    "        return f'Error! Status code: {res.status_code}'\n",
    "    else:\n",
    "        posts = res.json()['data']\n",
    "    return posts"
   ]
  },
  {
   "cell_type": "code",
   "execution_count": 5,
   "id": "486cbcf2-887e-41e6-8e50-ec22cc450aee",
   "metadata": {},
   "outputs": [],
   "source": [
    "# Define a function to turn the list of posts into a DataFrame\n",
    "def create_new_df(posts):\n",
    "    return pd.DataFrame(posts)"
   ]
  },
  {
   "cell_type": "code",
   "execution_count": 6,
   "id": "df48444f-758e-4173-8485-c7901ff71ade",
   "metadata": {},
   "outputs": [],
   "source": [
    "# Define a function to update the base DataFrame with the 500 succeeding posts\n",
    "def update_df(base_df, subreddit):\n",
    "    params = get_params(base_df, subreddit)\n",
    "    # print(len(posts))\n",
    "    df2 = create_new_df(get_posts(params))\n",
    "    # print(df2.shape)\n",
    "    updated = pd.concat([base_df, df2], axis=0, ignore_index=True, sort=True)\n",
    "    return updated"
   ]
  },
  {
   "cell_type": "markdown",
   "id": "d03d7ffb-14cc-427f-ae61-3208de9199bb",
   "metadata": {},
   "source": [
    "### Collecting Flights data:"
   ]
  },
  {
   "cell_type": "code",
   "execution_count": 7,
   "id": "aba0919f-4551-4ec5-9dae-b7b325e75827",
   "metadata": {},
   "outputs": [],
   "source": [
    "# Set up url parameters for the first pull from the Beatles subreddit (first 500 posts)\n",
    "params_flights = {\n",
    "    'subreddit': 'flights', \n",
    "    'size': 500\n",
    "}"
   ]
  },
  {
   "cell_type": "code",
   "execution_count": 8,
   "id": "be91df8d-41b3-4064-bfbc-79c37e2eeffd",
   "metadata": {},
   "outputs": [],
   "source": [
    "# Create a base dataframe from the posts\n",
    "df_flights = create_new_df(get_posts (params_flights))"
   ]
  },
  {
   "cell_type": "code",
   "execution_count": 9,
   "id": "e23e8572-6da6-40de-be85-909e2675e2b1",
   "metadata": {},
   "outputs": [
    {
     "data": {
      "text/plain": [
       "(499, 93)"
      ]
     },
     "execution_count": 9,
     "metadata": {},
     "output_type": "execute_result"
    }
   ],
   "source": [
    "# Look at the shape (rows, columns)\n",
    "df_flights.shape"
   ]
  },
  {
   "cell_type": "code",
   "execution_count": 10,
   "id": "d67de303-cf24-4be1-a96c-915bb2b3d4ac",
   "metadata": {},
   "outputs": [
    {
     "data": {
      "text/html": [
       "<div>\n",
       "<style scoped>\n",
       "    .dataframe tbody tr th:only-of-type {\n",
       "        vertical-align: middle;\n",
       "    }\n",
       "\n",
       "    .dataframe tbody tr th {\n",
       "        vertical-align: top;\n",
       "    }\n",
       "\n",
       "    .dataframe thead th {\n",
       "        text-align: right;\n",
       "    }\n",
       "</style>\n",
       "<table border=\"1\" class=\"dataframe\">\n",
       "  <thead>\n",
       "    <tr style=\"text-align: right;\">\n",
       "      <th></th>\n",
       "      <th>subreddit</th>\n",
       "      <th>selftext</th>\n",
       "      <th>author_fullname</th>\n",
       "      <th>gilded</th>\n",
       "      <th>title</th>\n",
       "      <th>link_flair_richtext</th>\n",
       "      <th>subreddit_name_prefixed</th>\n",
       "      <th>hidden</th>\n",
       "      <th>pwls</th>\n",
       "      <th>link_flair_css_class</th>\n",
       "      <th>...</th>\n",
       "      <th>retrieved_utc</th>\n",
       "      <th>updated_utc</th>\n",
       "      <th>utc_datetime_str</th>\n",
       "      <th>post_hint</th>\n",
       "      <th>url_overridden_by_dest</th>\n",
       "      <th>preview</th>\n",
       "      <th>media_metadata</th>\n",
       "      <th>poll_data</th>\n",
       "      <th>is_gallery</th>\n",
       "      <th>gallery_data</th>\n",
       "    </tr>\n",
       "  </thead>\n",
       "  <tbody>\n",
       "    <tr>\n",
       "      <th>0</th>\n",
       "      <td>Flights</td>\n",
       "      <td>To date, I just purchased my cheapest internat...</td>\n",
       "      <td>t2_jn6mtl1y</td>\n",
       "      <td>0</td>\n",
       "      <td>$9AUD Flight</td>\n",
       "      <td>[]</td>\n",
       "      <td>r/Flights</td>\n",
       "      <td>False</td>\n",
       "      <td>6</td>\n",
       "      <td>None</td>\n",
       "      <td>...</td>\n",
       "      <td>1678772394</td>\n",
       "      <td>1678772395</td>\n",
       "      <td>2023-03-14 05:39:36</td>\n",
       "      <td>NaN</td>\n",
       "      <td>NaN</td>\n",
       "      <td>NaN</td>\n",
       "      <td>NaN</td>\n",
       "      <td>NaN</td>\n",
       "      <td>NaN</td>\n",
       "      <td>NaN</td>\n",
       "    </tr>\n",
       "    <tr>\n",
       "      <th>1</th>\n",
       "      <td>Flights</td>\n",
       "      <td></td>\n",
       "      <td>t2_9wpssbnd</td>\n",
       "      <td>0</td>\n",
       "      <td>I'm an engineer with a design to reverse engin...</td>\n",
       "      <td>[]</td>\n",
       "      <td>r/Flights</td>\n",
       "      <td>False</td>\n",
       "      <td>6</td>\n",
       "      <td>images</td>\n",
       "      <td>...</td>\n",
       "      <td>1678761438</td>\n",
       "      <td>1678761439</td>\n",
       "      <td>2023-03-14 02:37:06</td>\n",
       "      <td>image</td>\n",
       "      <td>https://i.redd.it/8p6p65e2amna1.png</td>\n",
       "      <td>{'images': [{'source': {'url': 'https://previe...</td>\n",
       "      <td>NaN</td>\n",
       "      <td>NaN</td>\n",
       "      <td>NaN</td>\n",
       "      <td>NaN</td>\n",
       "    </tr>\n",
       "    <tr>\n",
       "      <th>2</th>\n",
       "      <td>Flights</td>\n",
       "      <td>[removed]</td>\n",
       "      <td>t2_t7tp8zm5</td>\n",
       "      <td>0</td>\n",
       "      <td>TAP AIR FLIGHT SONG</td>\n",
       "      <td>[]</td>\n",
       "      <td>r/Flights</td>\n",
       "      <td>False</td>\n",
       "      <td>6</td>\n",
       "      <td>None</td>\n",
       "      <td>...</td>\n",
       "      <td>1678756708</td>\n",
       "      <td>1678756709</td>\n",
       "      <td>2023-03-14 01:18:15</td>\n",
       "      <td>NaN</td>\n",
       "      <td>NaN</td>\n",
       "      <td>NaN</td>\n",
       "      <td>NaN</td>\n",
       "      <td>NaN</td>\n",
       "      <td>NaN</td>\n",
       "      <td>NaN</td>\n",
       "    </tr>\n",
       "    <tr>\n",
       "      <th>3</th>\n",
       "      <td>Flights</td>\n",
       "      <td>Context: I got a flight centre gift card for $...</td>\n",
       "      <td>t2_3kl6aczr</td>\n",
       "      <td>0</td>\n",
       "      <td>what would you do? awful rule regarding Porter...</td>\n",
       "      <td>[]</td>\n",
       "      <td>r/Flights</td>\n",
       "      <td>False</td>\n",
       "      <td>6</td>\n",
       "      <td>None</td>\n",
       "      <td>...</td>\n",
       "      <td>1678753915</td>\n",
       "      <td>1678753916</td>\n",
       "      <td>2023-03-14 00:31:38</td>\n",
       "      <td>NaN</td>\n",
       "      <td>NaN</td>\n",
       "      <td>NaN</td>\n",
       "      <td>NaN</td>\n",
       "      <td>NaN</td>\n",
       "      <td>NaN</td>\n",
       "      <td>NaN</td>\n",
       "    </tr>\n",
       "    <tr>\n",
       "      <th>4</th>\n",
       "      <td>Flights</td>\n",
       "      <td>[removed]</td>\n",
       "      <td>t2_4rayi7px</td>\n",
       "      <td>0</td>\n",
       "      <td>EVA Air CC Verification</td>\n",
       "      <td>[]</td>\n",
       "      <td>r/Flights</td>\n",
       "      <td>False</td>\n",
       "      <td>6</td>\n",
       "      <td>None</td>\n",
       "      <td>...</td>\n",
       "      <td>1678749495</td>\n",
       "      <td>1678749496</td>\n",
       "      <td>2023-03-13 23:17:59</td>\n",
       "      <td>NaN</td>\n",
       "      <td>NaN</td>\n",
       "      <td>NaN</td>\n",
       "      <td>NaN</td>\n",
       "      <td>NaN</td>\n",
       "      <td>NaN</td>\n",
       "      <td>NaN</td>\n",
       "    </tr>\n",
       "  </tbody>\n",
       "</table>\n",
       "<p>5 rows × 93 columns</p>\n",
       "</div>"
      ],
      "text/plain": [
       "  subreddit                                           selftext  \\\n",
       "0   Flights  To date, I just purchased my cheapest internat...   \n",
       "1   Flights                                                      \n",
       "2   Flights                                          [removed]   \n",
       "3   Flights  Context: I got a flight centre gift card for $...   \n",
       "4   Flights                                          [removed]   \n",
       "\n",
       "  author_fullname  gilded                                              title  \\\n",
       "0     t2_jn6mtl1y       0                                       $9AUD Flight   \n",
       "1     t2_9wpssbnd       0  I'm an engineer with a design to reverse engin...   \n",
       "2     t2_t7tp8zm5       0                                TAP AIR FLIGHT SONG   \n",
       "3     t2_3kl6aczr       0  what would you do? awful rule regarding Porter...   \n",
       "4     t2_4rayi7px       0                            EVA Air CC Verification   \n",
       "\n",
       "  link_flair_richtext subreddit_name_prefixed  hidden  pwls  \\\n",
       "0                  []               r/Flights   False     6   \n",
       "1                  []               r/Flights   False     6   \n",
       "2                  []               r/Flights   False     6   \n",
       "3                  []               r/Flights   False     6   \n",
       "4                  []               r/Flights   False     6   \n",
       "\n",
       "  link_flair_css_class  ...  retrieved_utc updated_utc     utc_datetime_str  \\\n",
       "0                 None  ...     1678772394  1678772395  2023-03-14 05:39:36   \n",
       "1               images  ...     1678761438  1678761439  2023-03-14 02:37:06   \n",
       "2                 None  ...     1678756708  1678756709  2023-03-14 01:18:15   \n",
       "3                 None  ...     1678753915  1678753916  2023-03-14 00:31:38   \n",
       "4                 None  ...     1678749495  1678749496  2023-03-13 23:17:59   \n",
       "\n",
       "   post_hint               url_overridden_by_dest  \\\n",
       "0        NaN                                  NaN   \n",
       "1      image  https://i.redd.it/8p6p65e2amna1.png   \n",
       "2        NaN                                  NaN   \n",
       "3        NaN                                  NaN   \n",
       "4        NaN                                  NaN   \n",
       "\n",
       "                                             preview media_metadata poll_data  \\\n",
       "0                                                NaN            NaN       NaN   \n",
       "1  {'images': [{'source': {'url': 'https://previe...            NaN       NaN   \n",
       "2                                                NaN            NaN       NaN   \n",
       "3                                                NaN            NaN       NaN   \n",
       "4                                                NaN            NaN       NaN   \n",
       "\n",
       "   is_gallery gallery_data  \n",
       "0         NaN          NaN  \n",
       "1         NaN          NaN  \n",
       "2         NaN          NaN  \n",
       "3         NaN          NaN  \n",
       "4         NaN          NaN  \n",
       "\n",
       "[5 rows x 93 columns]"
      ]
     },
     "execution_count": 10,
     "metadata": {},
     "output_type": "execute_result"
    }
   ],
   "source": [
    "df_flights.head()"
   ]
  },
  {
   "cell_type": "code",
   "execution_count": 11,
   "id": "35adf74a-7ffe-4e8b-88ea-dc36d13341b5",
   "metadata": {},
   "outputs": [
    {
     "data": {
      "text/html": [
       "<div>\n",
       "<style scoped>\n",
       "    .dataframe tbody tr th:only-of-type {\n",
       "        vertical-align: middle;\n",
       "    }\n",
       "\n",
       "    .dataframe tbody tr th {\n",
       "        vertical-align: top;\n",
       "    }\n",
       "\n",
       "    .dataframe thead th {\n",
       "        text-align: right;\n",
       "    }\n",
       "</style>\n",
       "<table border=\"1\" class=\"dataframe\">\n",
       "  <thead>\n",
       "    <tr style=\"text-align: right;\">\n",
       "      <th></th>\n",
       "      <th>subreddit</th>\n",
       "      <th>selftext</th>\n",
       "      <th>title</th>\n",
       "      <th>created_utc</th>\n",
       "    </tr>\n",
       "  </thead>\n",
       "  <tbody>\n",
       "    <tr>\n",
       "      <th>0</th>\n",
       "      <td>Flights</td>\n",
       "      <td>To date, I just purchased my cheapest internat...</td>\n",
       "      <td>$9AUD Flight</td>\n",
       "      <td>1678772376</td>\n",
       "    </tr>\n",
       "    <tr>\n",
       "      <th>1</th>\n",
       "      <td>Flights</td>\n",
       "      <td></td>\n",
       "      <td>I'm an engineer with a design to reverse engin...</td>\n",
       "      <td>1678761426</td>\n",
       "    </tr>\n",
       "    <tr>\n",
       "      <th>2</th>\n",
       "      <td>Flights</td>\n",
       "      <td>[removed]</td>\n",
       "      <td>TAP AIR FLIGHT SONG</td>\n",
       "      <td>1678756695</td>\n",
       "    </tr>\n",
       "    <tr>\n",
       "      <th>3</th>\n",
       "      <td>Flights</td>\n",
       "      <td>Context: I got a flight centre gift card for $...</td>\n",
       "      <td>what would you do? awful rule regarding Porter...</td>\n",
       "      <td>1678753898</td>\n",
       "    </tr>\n",
       "    <tr>\n",
       "      <th>4</th>\n",
       "      <td>Flights</td>\n",
       "      <td>[removed]</td>\n",
       "      <td>EVA Air CC Verification</td>\n",
       "      <td>1678749479</td>\n",
       "    </tr>\n",
       "  </tbody>\n",
       "</table>\n",
       "</div>"
      ],
      "text/plain": [
       "  subreddit                                           selftext  \\\n",
       "0   Flights  To date, I just purchased my cheapest internat...   \n",
       "1   Flights                                                      \n",
       "2   Flights                                          [removed]   \n",
       "3   Flights  Context: I got a flight centre gift card for $...   \n",
       "4   Flights                                          [removed]   \n",
       "\n",
       "                                               title  created_utc  \n",
       "0                                       $9AUD Flight   1678772376  \n",
       "1  I'm an engineer with a design to reverse engin...   1678761426  \n",
       "2                                TAP AIR FLIGHT SONG   1678756695  \n",
       "3  what would you do? awful rule regarding Porter...   1678753898  \n",
       "4                            EVA Air CC Verification   1678749479  "
      ]
     },
     "execution_count": 11,
     "metadata": {},
     "output_type": "execute_result"
    }
   ],
   "source": [
    "df_flights[['subreddit', 'selftext', 'title', 'created_utc']].head()"
   ]
  },
  {
   "cell_type": "code",
   "execution_count": 12,
   "id": "f5d3620c-e9ff-4bca-9b96-3efdbe45623a",
   "metadata": {},
   "outputs": [
    {
     "data": {
      "text/plain": [
       "(4996, 116)"
      ]
     },
     "execution_count": 12,
     "metadata": {},
     "output_type": "execute_result"
    }
   ],
   "source": [
    "# Update the Flights dataframe with the 4500 succeeding posts\n",
    "for i in range(9):\n",
    "    df_flights = update_df(df_flights, 'flights')\n",
    "    \n",
    "df_flights.shape"
   ]
  },
  {
   "cell_type": "code",
   "execution_count": 13,
   "id": "37be30d5-5c69-485e-866d-c2eb70cadcec",
   "metadata": {},
   "outputs": [
    {
     "data": {
      "text/html": [
       "<div>\n",
       "<style scoped>\n",
       "    .dataframe tbody tr th:only-of-type {\n",
       "        vertical-align: middle;\n",
       "    }\n",
       "\n",
       "    .dataframe tbody tr th {\n",
       "        vertical-align: top;\n",
       "    }\n",
       "\n",
       "    .dataframe thead th {\n",
       "        text-align: right;\n",
       "    }\n",
       "</style>\n",
       "<table border=\"1\" class=\"dataframe\">\n",
       "  <thead>\n",
       "    <tr style=\"text-align: right;\">\n",
       "      <th></th>\n",
       "      <th>subreddit</th>\n",
       "      <th>selftext</th>\n",
       "      <th>title</th>\n",
       "      <th>created_utc</th>\n",
       "    </tr>\n",
       "  </thead>\n",
       "  <tbody>\n",
       "    <tr>\n",
       "      <th>4991</th>\n",
       "      <td>Flights</td>\n",
       "      <td>I just booked our flights and I realized I acc...</td>\n",
       "      <td>Do children need ID to travel domestically?</td>\n",
       "      <td>1491165745</td>\n",
       "    </tr>\n",
       "    <tr>\n",
       "      <th>4992</th>\n",
       "      <td>Flights</td>\n",
       "      <td></td>\n",
       "      <td>UÇUŞ RÖTARINDA TAZMİNAT ALMAK</td>\n",
       "      <td>1491157678</td>\n",
       "    </tr>\n",
       "    <tr>\n",
       "      <th>4993</th>\n",
       "      <td>Flights</td>\n",
       "      <td>Hi, just found this subreddit as I'm looking f...</td>\n",
       "      <td>Help figuring out a flight to Bulgaria</td>\n",
       "      <td>1491068847</td>\n",
       "    </tr>\n",
       "    <tr>\n",
       "      <th>4994</th>\n",
       "      <td>Flights</td>\n",
       "      <td>[deleted]</td>\n",
       "      <td>Is this a bait and switch by Southwest?</td>\n",
       "      <td>1491021573</td>\n",
       "    </tr>\n",
       "    <tr>\n",
       "      <th>4995</th>\n",
       "      <td>Flights</td>\n",
       "      <td>Hey all,\\n\\nMy friend and I are travelling fro...</td>\n",
       "      <td>Flying to Rome, transferring flight in London....</td>\n",
       "      <td>1490991509</td>\n",
       "    </tr>\n",
       "  </tbody>\n",
       "</table>\n",
       "</div>"
      ],
      "text/plain": [
       "     subreddit                                           selftext  \\\n",
       "4991   Flights  I just booked our flights and I realized I acc...   \n",
       "4992   Flights                                                      \n",
       "4993   Flights  Hi, just found this subreddit as I'm looking f...   \n",
       "4994   Flights                                          [deleted]   \n",
       "4995   Flights  Hey all,\\n\\nMy friend and I are travelling fro...   \n",
       "\n",
       "                                                  title  created_utc  \n",
       "4991        Do children need ID to travel domestically?   1491165745  \n",
       "4992                      UÇUŞ RÖTARINDA TAZMİNAT ALMAK   1491157678  \n",
       "4993             Help figuring out a flight to Bulgaria   1491068847  \n",
       "4994            Is this a bait and switch by Southwest?   1491021573  \n",
       "4995  Flying to Rome, transferring flight in London....   1490991509  "
      ]
     },
     "execution_count": 13,
     "metadata": {},
     "output_type": "execute_result"
    }
   ],
   "source": [
    "df_flights[['subreddit', 'selftext', 'title', 'created_utc']].tail()"
   ]
  },
  {
   "cell_type": "markdown",
   "id": "532916ee-4a94-4dbc-ac7c-9a1672513cfe",
   "metadata": {},
   "source": [
    "### Collecting Hotels data:"
   ]
  },
  {
   "cell_type": "code",
   "execution_count": 14,
   "id": "9f3453d2-f4d0-45d3-9614-5997566e16f8",
   "metadata": {},
   "outputs": [],
   "source": [
    "# Set up url parameters for the first pull from the Beatles subreddit (first 500 posts)\n",
    "params_hotels = {\n",
    "    'subreddit': 'hotels', \n",
    "    'size': 500\n",
    "}"
   ]
  },
  {
   "cell_type": "code",
   "execution_count": 15,
   "id": "4d99000e-d271-4c14-9af7-70c817b0d7ee",
   "metadata": {},
   "outputs": [],
   "source": [
    "# Create a base dataframe from the posts\n",
    "df_hotels = create_new_df(get_posts (params_hotels))"
   ]
  },
  {
   "cell_type": "code",
   "execution_count": 16,
   "id": "a9e69fc5-9b54-41fc-a60c-c6375698e030",
   "metadata": {},
   "outputs": [
    {
     "data": {
      "text/plain": [
       "(500, 92)"
      ]
     },
     "execution_count": 16,
     "metadata": {},
     "output_type": "execute_result"
    }
   ],
   "source": [
    "# Look at the shape (rows, columns)\n",
    "df_hotels.shape"
   ]
  },
  {
   "cell_type": "code",
   "execution_count": 17,
   "id": "8068a7a5-65b7-406c-a2cc-eb4ab81aacf9",
   "metadata": {},
   "outputs": [
    {
     "data": {
      "text/html": [
       "<div>\n",
       "<style scoped>\n",
       "    .dataframe tbody tr th:only-of-type {\n",
       "        vertical-align: middle;\n",
       "    }\n",
       "\n",
       "    .dataframe tbody tr th {\n",
       "        vertical-align: top;\n",
       "    }\n",
       "\n",
       "    .dataframe thead th {\n",
       "        text-align: right;\n",
       "    }\n",
       "</style>\n",
       "<table border=\"1\" class=\"dataframe\">\n",
       "  <thead>\n",
       "    <tr style=\"text-align: right;\">\n",
       "      <th></th>\n",
       "      <th>subreddit</th>\n",
       "      <th>selftext</th>\n",
       "      <th>author_fullname</th>\n",
       "      <th>gilded</th>\n",
       "      <th>title</th>\n",
       "      <th>link_flair_richtext</th>\n",
       "      <th>subreddit_name_prefixed</th>\n",
       "      <th>hidden</th>\n",
       "      <th>pwls</th>\n",
       "      <th>link_flair_css_class</th>\n",
       "      <th>...</th>\n",
       "      <th>num_crossposts</th>\n",
       "      <th>media</th>\n",
       "      <th>is_video</th>\n",
       "      <th>retrieved_utc</th>\n",
       "      <th>updated_utc</th>\n",
       "      <th>utc_datetime_str</th>\n",
       "      <th>author_cakeday</th>\n",
       "      <th>crosspost_parent_list</th>\n",
       "      <th>url_overridden_by_dest</th>\n",
       "      <th>crosspost_parent</th>\n",
       "    </tr>\n",
       "  </thead>\n",
       "  <tbody>\n",
       "    <tr>\n",
       "      <th>0</th>\n",
       "      <td>hotels</td>\n",
       "      <td>I made a huge mistake booking a hotel for an u...</td>\n",
       "      <td>t2_15hx7g</td>\n",
       "      <td>0</td>\n",
       "      <td>Double booking + egregious hotel cancellation ...</td>\n",
       "      <td>[]</td>\n",
       "      <td>r/hotels</td>\n",
       "      <td>False</td>\n",
       "      <td>6</td>\n",
       "      <td>None</td>\n",
       "      <td>...</td>\n",
       "      <td>0</td>\n",
       "      <td>None</td>\n",
       "      <td>False</td>\n",
       "      <td>1678763021</td>\n",
       "      <td>1678763022</td>\n",
       "      <td>2023-03-14 03:03:29</td>\n",
       "      <td>NaN</td>\n",
       "      <td>NaN</td>\n",
       "      <td>NaN</td>\n",
       "      <td>NaN</td>\n",
       "    </tr>\n",
       "    <tr>\n",
       "      <th>1</th>\n",
       "      <td>hotels</td>\n",
       "      <td>Hello All! \\nI am currently applying for assis...</td>\n",
       "      <td>t2_a1jx5edk</td>\n",
       "      <td>0</td>\n",
       "      <td>Hotel Managment</td>\n",
       "      <td>[]</td>\n",
       "      <td>r/hotels</td>\n",
       "      <td>False</td>\n",
       "      <td>6</td>\n",
       "      <td>None</td>\n",
       "      <td>...</td>\n",
       "      <td>0</td>\n",
       "      <td>None</td>\n",
       "      <td>False</td>\n",
       "      <td>1678760137</td>\n",
       "      <td>1678760138</td>\n",
       "      <td>2023-03-14 02:15:21</td>\n",
       "      <td>NaN</td>\n",
       "      <td>NaN</td>\n",
       "      <td>NaN</td>\n",
       "      <td>NaN</td>\n",
       "    </tr>\n",
       "    <tr>\n",
       "      <th>2</th>\n",
       "      <td>hotels</td>\n",
       "      <td>[removed]</td>\n",
       "      <td>t2_umhk6tre</td>\n",
       "      <td>0</td>\n",
       "      <td>Parking pass</td>\n",
       "      <td>[]</td>\n",
       "      <td>r/hotels</td>\n",
       "      <td>False</td>\n",
       "      <td>6</td>\n",
       "      <td>None</td>\n",
       "      <td>...</td>\n",
       "      <td>0</td>\n",
       "      <td>None</td>\n",
       "      <td>False</td>\n",
       "      <td>1678759338</td>\n",
       "      <td>1678759338</td>\n",
       "      <td>2023-03-14 02:02:06</td>\n",
       "      <td>NaN</td>\n",
       "      <td>NaN</td>\n",
       "      <td>NaN</td>\n",
       "      <td>NaN</td>\n",
       "    </tr>\n",
       "    <tr>\n",
       "      <th>3</th>\n",
       "      <td>hotels</td>\n",
       "      <td>[removed]</td>\n",
       "      <td>t2_tggblfic</td>\n",
       "      <td>0</td>\n",
       "      <td>A Journey Through The Oceana Hotel Culinary Wo...</td>\n",
       "      <td>[]</td>\n",
       "      <td>r/hotels</td>\n",
       "      <td>False</td>\n",
       "      <td>6</td>\n",
       "      <td>None</td>\n",
       "      <td>...</td>\n",
       "      <td>0</td>\n",
       "      <td>None</td>\n",
       "      <td>False</td>\n",
       "      <td>1678731758</td>\n",
       "      <td>1678731758</td>\n",
       "      <td>2023-03-13 18:22:24</td>\n",
       "      <td>NaN</td>\n",
       "      <td>NaN</td>\n",
       "      <td>NaN</td>\n",
       "      <td>NaN</td>\n",
       "    </tr>\n",
       "    <tr>\n",
       "      <th>4</th>\n",
       "      <td>hotels</td>\n",
       "      <td>[removed]</td>\n",
       "      <td>t2_63yclmjaj</td>\n",
       "      <td>0</td>\n",
       "      <td>Chime Card at Las Vegas Hotels</td>\n",
       "      <td>[]</td>\n",
       "      <td>r/hotels</td>\n",
       "      <td>False</td>\n",
       "      <td>6</td>\n",
       "      <td>None</td>\n",
       "      <td>...</td>\n",
       "      <td>0</td>\n",
       "      <td>None</td>\n",
       "      <td>False</td>\n",
       "      <td>1678730650</td>\n",
       "      <td>1678730651</td>\n",
       "      <td>2023-03-13 18:03:52</td>\n",
       "      <td>NaN</td>\n",
       "      <td>NaN</td>\n",
       "      <td>NaN</td>\n",
       "      <td>NaN</td>\n",
       "    </tr>\n",
       "  </tbody>\n",
       "</table>\n",
       "<p>5 rows × 92 columns</p>\n",
       "</div>"
      ],
      "text/plain": [
       "  subreddit                                           selftext  \\\n",
       "0    hotels  I made a huge mistake booking a hotel for an u...   \n",
       "1    hotels  Hello All! \\nI am currently applying for assis...   \n",
       "2    hotels                                          [removed]   \n",
       "3    hotels                                          [removed]   \n",
       "4    hotels                                          [removed]   \n",
       "\n",
       "  author_fullname  gilded                                              title  \\\n",
       "0       t2_15hx7g       0  Double booking + egregious hotel cancellation ...   \n",
       "1     t2_a1jx5edk       0                                    Hotel Managment   \n",
       "2     t2_umhk6tre       0                                       Parking pass   \n",
       "3     t2_tggblfic       0  A Journey Through The Oceana Hotel Culinary Wo...   \n",
       "4    t2_63yclmjaj       0                     Chime Card at Las Vegas Hotels   \n",
       "\n",
       "  link_flair_richtext subreddit_name_prefixed  hidden  pwls  \\\n",
       "0                  []                r/hotels   False     6   \n",
       "1                  []                r/hotels   False     6   \n",
       "2                  []                r/hotels   False     6   \n",
       "3                  []                r/hotels   False     6   \n",
       "4                  []                r/hotels   False     6   \n",
       "\n",
       "  link_flair_css_class  ...  num_crossposts media  is_video  retrieved_utc  \\\n",
       "0                 None  ...               0  None     False     1678763021   \n",
       "1                 None  ...               0  None     False     1678760137   \n",
       "2                 None  ...               0  None     False     1678759338   \n",
       "3                 None  ...               0  None     False     1678731758   \n",
       "4                 None  ...               0  None     False     1678730650   \n",
       "\n",
       "  updated_utc     utc_datetime_str author_cakeday crosspost_parent_list  \\\n",
       "0  1678763022  2023-03-14 03:03:29            NaN                   NaN   \n",
       "1  1678760138  2023-03-14 02:15:21            NaN                   NaN   \n",
       "2  1678759338  2023-03-14 02:02:06            NaN                   NaN   \n",
       "3  1678731758  2023-03-13 18:22:24            NaN                   NaN   \n",
       "4  1678730651  2023-03-13 18:03:52            NaN                   NaN   \n",
       "\n",
       "   url_overridden_by_dest crosspost_parent  \n",
       "0                     NaN              NaN  \n",
       "1                     NaN              NaN  \n",
       "2                     NaN              NaN  \n",
       "3                     NaN              NaN  \n",
       "4                     NaN              NaN  \n",
       "\n",
       "[5 rows x 92 columns]"
      ]
     },
     "execution_count": 17,
     "metadata": {},
     "output_type": "execute_result"
    }
   ],
   "source": [
    "df_hotels.head()"
   ]
  },
  {
   "cell_type": "code",
   "execution_count": 18,
   "id": "83803641-72ef-4577-8837-97d41d3d3737",
   "metadata": {},
   "outputs": [
    {
     "data": {
      "text/html": [
       "<div>\n",
       "<style scoped>\n",
       "    .dataframe tbody tr th:only-of-type {\n",
       "        vertical-align: middle;\n",
       "    }\n",
       "\n",
       "    .dataframe tbody tr th {\n",
       "        vertical-align: top;\n",
       "    }\n",
       "\n",
       "    .dataframe thead th {\n",
       "        text-align: right;\n",
       "    }\n",
       "</style>\n",
       "<table border=\"1\" class=\"dataframe\">\n",
       "  <thead>\n",
       "    <tr style=\"text-align: right;\">\n",
       "      <th></th>\n",
       "      <th>subreddit</th>\n",
       "      <th>selftext</th>\n",
       "      <th>title</th>\n",
       "      <th>created_utc</th>\n",
       "    </tr>\n",
       "  </thead>\n",
       "  <tbody>\n",
       "    <tr>\n",
       "      <th>0</th>\n",
       "      <td>hotels</td>\n",
       "      <td>I made a huge mistake booking a hotel for an u...</td>\n",
       "      <td>Double booking + egregious hotel cancellation ...</td>\n",
       "      <td>1678763009</td>\n",
       "    </tr>\n",
       "    <tr>\n",
       "      <th>1</th>\n",
       "      <td>hotels</td>\n",
       "      <td>Hello All! \\nI am currently applying for assis...</td>\n",
       "      <td>Hotel Managment</td>\n",
       "      <td>1678760121</td>\n",
       "    </tr>\n",
       "    <tr>\n",
       "      <th>2</th>\n",
       "      <td>hotels</td>\n",
       "      <td>[removed]</td>\n",
       "      <td>Parking pass</td>\n",
       "      <td>1678759326</td>\n",
       "    </tr>\n",
       "    <tr>\n",
       "      <th>3</th>\n",
       "      <td>hotels</td>\n",
       "      <td>[removed]</td>\n",
       "      <td>A Journey Through The Oceana Hotel Culinary Wo...</td>\n",
       "      <td>1678731744</td>\n",
       "    </tr>\n",
       "    <tr>\n",
       "      <th>4</th>\n",
       "      <td>hotels</td>\n",
       "      <td>[removed]</td>\n",
       "      <td>Chime Card at Las Vegas Hotels</td>\n",
       "      <td>1678730632</td>\n",
       "    </tr>\n",
       "  </tbody>\n",
       "</table>\n",
       "</div>"
      ],
      "text/plain": [
       "  subreddit                                           selftext  \\\n",
       "0    hotels  I made a huge mistake booking a hotel for an u...   \n",
       "1    hotels  Hello All! \\nI am currently applying for assis...   \n",
       "2    hotels                                          [removed]   \n",
       "3    hotels                                          [removed]   \n",
       "4    hotels                                          [removed]   \n",
       "\n",
       "                                               title  created_utc  \n",
       "0  Double booking + egregious hotel cancellation ...   1678763009  \n",
       "1                                    Hotel Managment   1678760121  \n",
       "2                                       Parking pass   1678759326  \n",
       "3  A Journey Through The Oceana Hotel Culinary Wo...   1678731744  \n",
       "4                     Chime Card at Las Vegas Hotels   1678730632  "
      ]
     },
     "execution_count": 18,
     "metadata": {},
     "output_type": "execute_result"
    }
   ],
   "source": [
    "df_hotels[['subreddit', 'selftext', 'title', 'created_utc']].head()"
   ]
  },
  {
   "cell_type": "code",
   "execution_count": 19,
   "id": "1e86860d-2f11-48dc-a763-96f5d4859275",
   "metadata": {},
   "outputs": [
    {
     "data": {
      "text/plain": [
       "(5000, 115)"
      ]
     },
     "execution_count": 19,
     "metadata": {},
     "output_type": "execute_result"
    }
   ],
   "source": [
    "# Update the Hotels dataframe with the 4500 succeeding posts\n",
    "for i in range(9):\n",
    "    df_hotels = update_df(df_hotels, 'hotels')\n",
    "    \n",
    "df_hotels.shape"
   ]
  },
  {
   "cell_type": "code",
   "execution_count": 20,
   "id": "24d0110b-449c-4115-b232-c38db7cd5dd0",
   "metadata": {},
   "outputs": [
    {
     "data": {
      "text/html": [
       "<div>\n",
       "<style scoped>\n",
       "    .dataframe tbody tr th:only-of-type {\n",
       "        vertical-align: middle;\n",
       "    }\n",
       "\n",
       "    .dataframe tbody tr th {\n",
       "        vertical-align: top;\n",
       "    }\n",
       "\n",
       "    .dataframe thead th {\n",
       "        text-align: right;\n",
       "    }\n",
       "</style>\n",
       "<table border=\"1\" class=\"dataframe\">\n",
       "  <thead>\n",
       "    <tr style=\"text-align: right;\">\n",
       "      <th></th>\n",
       "      <th>subreddit</th>\n",
       "      <th>selftext</th>\n",
       "      <th>title</th>\n",
       "      <th>created_utc</th>\n",
       "    </tr>\n",
       "  </thead>\n",
       "  <tbody>\n",
       "    <tr>\n",
       "      <th>4995</th>\n",
       "      <td>hotels</td>\n",
       "      <td></td>\n",
       "      <td>GruppenreisenUK</td>\n",
       "      <td>1408427884</td>\n",
       "    </tr>\n",
       "    <tr>\n",
       "      <th>4996</th>\n",
       "      <td>hotels</td>\n",
       "      <td></td>\n",
       "      <td>Choose Family Hotels in Dubai for a Lovely Vac...</td>\n",
       "      <td>1408426969</td>\n",
       "    </tr>\n",
       "    <tr>\n",
       "      <th>4997</th>\n",
       "      <td>hotels</td>\n",
       "      <td></td>\n",
       "      <td>Five must-see European castles</td>\n",
       "      <td>1408426560</td>\n",
       "    </tr>\n",
       "    <tr>\n",
       "      <th>4998</th>\n",
       "      <td>hotels</td>\n",
       "      <td></td>\n",
       "      <td>Five must-see European castles</td>\n",
       "      <td>1408425765</td>\n",
       "    </tr>\n",
       "    <tr>\n",
       "      <th>4999</th>\n",
       "      <td>hotels</td>\n",
       "      <td></td>\n",
       "      <td>Doubletree Hotel in Port Huron, Michigan</td>\n",
       "      <td>1408392966</td>\n",
       "    </tr>\n",
       "  </tbody>\n",
       "</table>\n",
       "</div>"
      ],
      "text/plain": [
       "     subreddit selftext                                              title  \\\n",
       "4995    hotels                                             GruppenreisenUK   \n",
       "4996    hotels           Choose Family Hotels in Dubai for a Lovely Vac...   \n",
       "4997    hotels                              Five must-see European castles   \n",
       "4998    hotels                              Five must-see European castles   \n",
       "4999    hotels                    Doubletree Hotel in Port Huron, Michigan   \n",
       "\n",
       "      created_utc  \n",
       "4995   1408427884  \n",
       "4996   1408426969  \n",
       "4997   1408426560  \n",
       "4998   1408425765  \n",
       "4999   1408392966  "
      ]
     },
     "execution_count": 20,
     "metadata": {},
     "output_type": "execute_result"
    }
   ],
   "source": [
    "df_hotels[['subreddit', 'selftext', 'title', 'created_utc']].tail()"
   ]
  },
  {
   "cell_type": "markdown",
   "id": "8fd49abd-f00f-479f-858a-ce86b9197e09",
   "metadata": {},
   "source": [
    "### Export data"
   ]
  },
  {
   "cell_type": "code",
   "execution_count": 21,
   "id": "60557fa9-fdbb-4f7e-bd4c-bc94707371db",
   "metadata": {},
   "outputs": [],
   "source": [
    "#export flights dataframe to CSV\n",
    "df_flights = df_flights[['subreddit', 'selftext', 'title', 'created_utc']]\n",
    "df_flights.to_csv('../data/flights_subs.csv', index=False)"
   ]
  },
  {
   "cell_type": "code",
   "execution_count": 22,
   "id": "f4adbfe1-7146-482f-a1da-43b2dced4469",
   "metadata": {},
   "outputs": [],
   "source": [
    "#export hotels dataframe to CSV\n",
    "df_hotels = df_hotels[['subreddit', 'selftext', 'title', 'created_utc']]\n",
    "df_hotels.to_csv('../data/hotels_subs.csv', index=False)"
   ]
  },
  {
   "cell_type": "code",
   "execution_count": 2,
   "id": "cc3ca34b-9027-43bf-b932-37697d990932",
   "metadata": {},
   "outputs": [
    {
     "ename": "NameError",
     "evalue": "name 'train_test_split' is not defined",
     "output_type": "error",
     "traceback": [
      "\u001b[1;31m---------------------------------------------------------------------------\u001b[0m",
      "\u001b[1;31mNameError\u001b[0m                                 Traceback (most recent call last)",
      "Cell \u001b[1;32mIn [2], line 2\u001b[0m\n\u001b[0;32m      1\u001b[0m \u001b[38;5;66;03m# split into train/test sets\u001b[39;00m\n\u001b[1;32m----> 2\u001b[0m trainX, testX, trainy, testy \u001b[38;5;241m=\u001b[39m \u001b[43mtrain_test_split\u001b[49m(X, y, test_size\u001b[38;5;241m=\u001b[39m\u001b[38;5;241m0.5\u001b[39m, random_state\u001b[38;5;241m=\u001b[39m\u001b[38;5;241m2\u001b[39m)\n\u001b[0;32m      3\u001b[0m \u001b[38;5;66;03m# fit a model\u001b[39;00m\n\u001b[0;32m      4\u001b[0m model \u001b[38;5;241m=\u001b[39m LogisticRegression(solver\u001b[38;5;241m=\u001b[39m\u001b[38;5;124m'\u001b[39m\u001b[38;5;124mlbfgs\u001b[39m\u001b[38;5;124m'\u001b[39m)\n",
      "\u001b[1;31mNameError\u001b[0m: name 'train_test_split' is not defined"
     ]
    }
   ],
   "source": [
    "# split into train/test sets\n",
    "trainX, testX, trainy, testy = train_test_split(X, y, test_size=0.5, random_state=2)\n",
    "# fit a model\n",
    "model = LogisticRegression(solver='lbfgs')\n",
    "model.fit(trainX, trainy)\n",
    "# predict probabilities\n",
    "lr_probs = model.predict_proba(testX)\n",
    "# keep probabilities for the positive outcome only\n",
    "lr_probs = lr_probs[:, 1]\n",
    "# predict class values\n",
    "yhat = model.predict(testX)\n",
    "lr_precision, lr_recall, _ = precision_recall_curve(testy, lr_probs)\n",
    "lr_f1, lr_auc = f1_score(testy, yhat), auc(lr_recall, lr_precision)\n",
    "# summarize scores\n",
    "print('Logistic: f1=%.3f auc=%.3f' % (lr_f1, lr_auc))\n",
    "# plot the precision-recall curves\n",
    "no_skill = len(testy[testy==1]) / len(testy)\n",
    "pyplot.plot([0, 1], [no_skill, no_skill], linestyle='--', label='No Skill')\n",
    "pyplot.plot(lr_recall, lr_precision, marker='.', label='Logistic')\n",
    "# axis labels\n",
    "pyplot.xlabel('Recall')\n",
    "pyplot.ylabel('Precision')\n",
    "# show the legend\n",
    "pyplot.legend()\n",
    "# show the plot\n",
    "pyplot.show()"
   ]
  },
  {
   "cell_type": "code",
   "execution_count": null,
   "id": "3a7b0dd5-f9ac-41e0-b86a-f8ec30a18be1",
   "metadata": {},
   "outputs": [],
   "source": []
  },
  {
   "cell_type": "code",
   "execution_count": null,
   "id": "50594fb2-c5ad-425c-8979-8352ab551779",
   "metadata": {},
   "outputs": [],
   "source": []
  },
  {
   "cell_type": "markdown",
   "id": "3d2e269f-3e49-40bd-82d5-5601ca389f35",
   "metadata": {},
   "source": [
    "## Continue to Notebook 2: Data Cleaning & EDA"
   ]
  },
  {
   "cell_type": "code",
   "execution_count": null,
   "id": "4d7a852a-0b76-47ba-9bfc-cce152b44be5",
   "metadata": {},
   "outputs": [],
   "source": []
  }
 ],
 "metadata": {
  "kernelspec": {
   "display_name": "dsi-sg",
   "language": "python",
   "name": "dsi-sg"
  },
  "language_info": {
   "codemirror_mode": {
    "name": "ipython",
    "version": 3
   },
   "file_extension": ".py",
   "mimetype": "text/x-python",
   "name": "python",
   "nbconvert_exporter": "python",
   "pygments_lexer": "ipython3",
   "version": "3.9.13"
  }
 },
 "nbformat": 4,
 "nbformat_minor": 5
}

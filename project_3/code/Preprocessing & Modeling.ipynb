{
 "cells": [
  {
   "cell_type": "markdown",
   "id": "f6436b50-df7c-404c-a5b3-98a551e92b3a",
   "metadata": {},
   "source": [
    "# Preprocessing & Modeling"
   ]
  },
  {
   "cell_type": "markdown",
   "id": "382a12cb-a923-4007-b83b-34e338957b6f",
   "metadata": {},
   "source": [
    "## Libraries"
   ]
  },
  {
   "cell_type": "code",
   "execution_count": 131,
   "id": "e865205c-1ea1-45fa-b94b-1c8868154bee",
   "metadata": {},
   "outputs": [
    {
     "name": "stderr",
     "output_type": "stream",
     "text": [
      "[nltk_data] Downloading package words to\n",
      "[nltk_data]     C:\\Users\\clair\\AppData\\Roaming\\nltk_data...\n",
      "[nltk_data]   Package words is already up-to-date!\n"
     ]
    }
   ],
   "source": [
    "#working in the dataframes \n",
    "import pandas as pd\n",
    "import numpy as np\n",
    "from collections import Counter\n",
    "\n",
    "#graphing \n",
    "import matplotlib.pyplot as plt\n",
    "import seaborn as sns\n",
    "%matplotlib inline\n",
    "\n",
    "#using nlp \n",
    "import nltk\n",
    "from sklearn.feature_extraction.text import CountVectorizer, TfidfVectorizer\n",
    "from sklearn.feature_extraction.text import ENGLISH_STOP_WORDS as sklearn_stop_words\n",
    "from nltk.tokenize import RegexpTokenizer\n",
    "from nltk.stem import WordNetLemmatizer\n",
    "from nltk.stem.porter import PorterStemmer\n",
    "from nltk.corpus import stopwords \n",
    "nltk.download('words')\n",
    "\n",
    "#modeling\n",
    "from sklearn.model_selection import train_test_split, GridSearchCV, cross_val_score, StratifiedKFold, cross_validate\n",
    "from sklearn.pipeline import Pipeline\n",
    "from sklearn.linear_model import LogisticRegression\n",
    "from sklearn.naive_bayes import BernoulliNB\n",
    "from sklearn.ensemble import BaggingClassifier, RandomForestClassifier\n",
    "from sklearn.decomposition import TruncatedSVD\n",
    "from sklearn.svm import LinearSVC\n",
    "from sklearn.preprocessing import StandardScaler\n",
    "from sklearn.naive_bayes import MultinomialNB\n",
    "from sklearn.tree import DecisionTreeClassifier\n",
    "from sklearn.neighbors import KNeighborsClassifier\n",
    "from sklearn.multiclass import OneVsRestClassifier\n",
    "from sklearn.preprocessing import label_binarize\n",
    "\n",
    "#interpretation on the models \n",
    "from sklearn import metrics\n",
    "from sklearn.metrics import confusion_matrix, mean_squared_error, accuracy_score, precision_score, recall_score, f1_score, roc_curve, auc\n",
    "\n",
    "from itertools import cycle\n",
    "from scipy import interp\n",
    "import scoring as sc\n",
    "from tqdm import tqdm\n",
    "import string\n",
    "import re\n",
    "import spacy\n",
    "from spacy.lang.pt.stop_words import STOP_WORDS\n",
    "\n",
    "nlp = spacy.load(\"en_core_web_sm\")"
   ]
  },
  {
   "cell_type": "markdown",
   "id": "ecd02fa7-7101-452a-9c3f-29614e8c235b",
   "metadata": {},
   "source": [
    "## Load in Datasets"
   ]
  },
  {
   "cell_type": "markdown",
   "id": "e762153e-2ee1-4389-8eee-29acc63a89a7",
   "metadata": {
    "tags": []
   },
   "source": [
    "### Summary statistics\n",
    "Summary statistics refer to numerical measures that provide a concise overview of a dataset"
   ]
  },
  {
   "cell_type": "code",
   "execution_count": 134,
   "id": "856555f5-e686-49c8-a398-fd0d8b1844c0",
   "metadata": {},
   "outputs": [
    {
     "data": {
      "text/html": [
       "<div>\n",
       "<style scoped>\n",
       "    .dataframe tbody tr th:only-of-type {\n",
       "        vertical-align: middle;\n",
       "    }\n",
       "\n",
       "    .dataframe tbody tr th {\n",
       "        vertical-align: top;\n",
       "    }\n",
       "\n",
       "    .dataframe thead th {\n",
       "        text-align: right;\n",
       "    }\n",
       "</style>\n",
       "<table border=\"1\" class=\"dataframe\">\n",
       "  <thead>\n",
       "    <tr style=\"text-align: right;\">\n",
       "      <th></th>\n",
       "      <th>subreddit</th>\n",
       "      <th>text</th>\n",
       "    </tr>\n",
       "  </thead>\n",
       "  <tbody>\n",
       "    <tr>\n",
       "      <th>0</th>\n",
       "      <td>Flights</td>\n",
       "      <td>$9AUD Flight To date, I just purchased my chea...</td>\n",
       "    </tr>\n",
       "    <tr>\n",
       "      <th>1</th>\n",
       "      <td>Flights</td>\n",
       "      <td>I'm an engineer with a design to reverse engin...</td>\n",
       "    </tr>\n",
       "    <tr>\n",
       "      <th>2</th>\n",
       "      <td>Flights</td>\n",
       "      <td>TAP AIR FLIGHT SONG</td>\n",
       "    </tr>\n",
       "    <tr>\n",
       "      <th>3</th>\n",
       "      <td>Flights</td>\n",
       "      <td>what would you do? awful rule regarding Porter...</td>\n",
       "    </tr>\n",
       "    <tr>\n",
       "      <th>4</th>\n",
       "      <td>Flights</td>\n",
       "      <td>EVA Air CC Verification</td>\n",
       "    </tr>\n",
       "  </tbody>\n",
       "</table>\n",
       "</div>"
      ],
      "text/plain": [
       "  subreddit                                               text\n",
       "0   Flights  $9AUD Flight To date, I just purchased my chea...\n",
       "1   Flights  I'm an engineer with a design to reverse engin...\n",
       "2   Flights                               TAP AIR FLIGHT SONG \n",
       "3   Flights  what would you do? awful rule regarding Porter...\n",
       "4   Flights                           EVA Air CC Verification "
      ]
     },
     "execution_count": 134,
     "metadata": {},
     "output_type": "execute_result"
    }
   ],
   "source": [
    "#Read in the data\n",
    "df_flights = pd.read_csv('../data/flights_cleaned.csv')\n",
    "#Check to see if it worked\n",
    "df_flights.head()"
   ]
  },
  {
   "cell_type": "code",
   "execution_count": 135,
   "id": "ca8d6773-7cf4-4884-83ac-2ae17a087762",
   "metadata": {},
   "outputs": [
    {
     "data": {
      "text/html": [
       "<div>\n",
       "<style scoped>\n",
       "    .dataframe tbody tr th:only-of-type {\n",
       "        vertical-align: middle;\n",
       "    }\n",
       "\n",
       "    .dataframe tbody tr th {\n",
       "        vertical-align: top;\n",
       "    }\n",
       "\n",
       "    .dataframe thead th {\n",
       "        text-align: right;\n",
       "    }\n",
       "</style>\n",
       "<table border=\"1\" class=\"dataframe\">\n",
       "  <thead>\n",
       "    <tr style=\"text-align: right;\">\n",
       "      <th></th>\n",
       "      <th>subreddit</th>\n",
       "      <th>text</th>\n",
       "    </tr>\n",
       "  </thead>\n",
       "  <tbody>\n",
       "    <tr>\n",
       "      <th>0</th>\n",
       "      <td>hotels</td>\n",
       "      <td>Double booking + egregious hotel cancellation ...</td>\n",
       "    </tr>\n",
       "    <tr>\n",
       "      <th>1</th>\n",
       "      <td>hotels</td>\n",
       "      <td>Hotel Managment Hello All! \\nI am currently ap...</td>\n",
       "    </tr>\n",
       "    <tr>\n",
       "      <th>2</th>\n",
       "      <td>hotels</td>\n",
       "      <td>Parking pass</td>\n",
       "    </tr>\n",
       "    <tr>\n",
       "      <th>3</th>\n",
       "      <td>hotels</td>\n",
       "      <td>A Journey Through The Oceana Hotel Culinary Wo...</td>\n",
       "    </tr>\n",
       "    <tr>\n",
       "      <th>4</th>\n",
       "      <td>hotels</td>\n",
       "      <td>Chime Card at Las Vegas Hotels</td>\n",
       "    </tr>\n",
       "  </tbody>\n",
       "</table>\n",
       "</div>"
      ],
      "text/plain": [
       "  subreddit                                               text\n",
       "0    hotels  Double booking + egregious hotel cancellation ...\n",
       "1    hotels  Hotel Managment Hello All! \\nI am currently ap...\n",
       "2    hotels                                      Parking pass \n",
       "3    hotels  A Journey Through The Oceana Hotel Culinary Wo...\n",
       "4    hotels                    Chime Card at Las Vegas Hotels "
      ]
     },
     "execution_count": 135,
     "metadata": {},
     "output_type": "execute_result"
    }
   ],
   "source": [
    "df_hotels = pd.read_csv('../data/hotels_cleaned.csv')\n",
    "#Check to see if it worked\n",
    "df_hotels.head()"
   ]
  },
  {
   "cell_type": "code",
   "execution_count": 136,
   "id": "bdcecd40-d0cb-4820-bbdd-89b90b002a64",
   "metadata": {},
   "outputs": [
    {
     "data": {
      "text/html": [
       "<div>\n",
       "<style scoped>\n",
       "    .dataframe tbody tr th:only-of-type {\n",
       "        vertical-align: middle;\n",
       "    }\n",
       "\n",
       "    .dataframe tbody tr th {\n",
       "        vertical-align: top;\n",
       "    }\n",
       "\n",
       "    .dataframe thead th {\n",
       "        text-align: right;\n",
       "    }\n",
       "</style>\n",
       "<table border=\"1\" class=\"dataframe\">\n",
       "  <thead>\n",
       "    <tr style=\"text-align: right;\">\n",
       "      <th></th>\n",
       "      <th>count</th>\n",
       "      <th>unique</th>\n",
       "      <th>top</th>\n",
       "      <th>freq</th>\n",
       "    </tr>\n",
       "  </thead>\n",
       "  <tbody>\n",
       "    <tr>\n",
       "      <th>subreddit</th>\n",
       "      <td>4959</td>\n",
       "      <td>2</td>\n",
       "      <td>Flights</td>\n",
       "      <td>4933</td>\n",
       "    </tr>\n",
       "    <tr>\n",
       "      <th>text</th>\n",
       "      <td>4959</td>\n",
       "      <td>4959</td>\n",
       "      <td>$9AUD Flight To date, I just purchased my chea...</td>\n",
       "      <td>1</td>\n",
       "    </tr>\n",
       "  </tbody>\n",
       "</table>\n",
       "</div>"
      ],
      "text/plain": [
       "          count unique                                                top  \\\n",
       "subreddit  4959      2                                            Flights   \n",
       "text       4959   4959  $9AUD Flight To date, I just purchased my chea...   \n",
       "\n",
       "           freq  \n",
       "subreddit  4933  \n",
       "text          1  "
      ]
     },
     "execution_count": 136,
     "metadata": {},
     "output_type": "execute_result"
    }
   ],
   "source": [
    "df_flights.describe().T"
   ]
  },
  {
   "cell_type": "code",
   "execution_count": 137,
   "id": "87b57860-dae7-4f4c-9ab5-292a31338712",
   "metadata": {},
   "outputs": [
    {
     "data": {
      "text/html": [
       "<div>\n",
       "<style scoped>\n",
       "    .dataframe tbody tr th:only-of-type {\n",
       "        vertical-align: middle;\n",
       "    }\n",
       "\n",
       "    .dataframe tbody tr th {\n",
       "        vertical-align: top;\n",
       "    }\n",
       "\n",
       "    .dataframe thead th {\n",
       "        text-align: right;\n",
       "    }\n",
       "</style>\n",
       "<table border=\"1\" class=\"dataframe\">\n",
       "  <thead>\n",
       "    <tr style=\"text-align: right;\">\n",
       "      <th></th>\n",
       "      <th>count</th>\n",
       "      <th>unique</th>\n",
       "      <th>top</th>\n",
       "      <th>freq</th>\n",
       "    </tr>\n",
       "  </thead>\n",
       "  <tbody>\n",
       "    <tr>\n",
       "      <th>subreddit</th>\n",
       "      <td>4767</td>\n",
       "      <td>1</td>\n",
       "      <td>hotels</td>\n",
       "      <td>4767</td>\n",
       "    </tr>\n",
       "    <tr>\n",
       "      <th>text</th>\n",
       "      <td>4767</td>\n",
       "      <td>4767</td>\n",
       "      <td>Double booking + egregious hotel cancellation ...</td>\n",
       "      <td>1</td>\n",
       "    </tr>\n",
       "  </tbody>\n",
       "</table>\n",
       "</div>"
      ],
      "text/plain": [
       "          count unique                                                top  \\\n",
       "subreddit  4767      1                                             hotels   \n",
       "text       4767   4767  Double booking + egregious hotel cancellation ...   \n",
       "\n",
       "           freq  \n",
       "subreddit  4767  \n",
       "text          1  "
      ]
     },
     "execution_count": 137,
     "metadata": {},
     "output_type": "execute_result"
    }
   ],
   "source": [
    "df_hotels.describe().T"
   ]
  },
  {
   "cell_type": "code",
   "execution_count": 138,
   "id": "b887aaa1-8670-49b5-8e75-873129e946a9",
   "metadata": {},
   "outputs": [
    {
     "name": "stdout",
     "output_type": "stream",
     "text": [
      "<class 'pandas.core.frame.DataFrame'>\n",
      "RangeIndex: 4959 entries, 0 to 4958\n",
      "Data columns (total 2 columns):\n",
      " #   Column     Non-Null Count  Dtype \n",
      "---  ------     --------------  ----- \n",
      " 0   subreddit  4959 non-null   object\n",
      " 1   text       4959 non-null   object\n",
      "dtypes: object(2)\n",
      "memory usage: 77.6+ KB\n"
     ]
    }
   ],
   "source": [
    "df_flights.info()"
   ]
  },
  {
   "cell_type": "code",
   "execution_count": 139,
   "id": "378c5521-ca0f-410b-80e3-fd173a303d13",
   "metadata": {
    "tags": []
   },
   "outputs": [
    {
     "name": "stdout",
     "output_type": "stream",
     "text": [
      "<class 'pandas.core.frame.DataFrame'>\n",
      "RangeIndex: 4767 entries, 0 to 4766\n",
      "Data columns (total 2 columns):\n",
      " #   Column     Non-Null Count  Dtype \n",
      "---  ------     --------------  ----- \n",
      " 0   subreddit  4767 non-null   object\n",
      " 1   text       4767 non-null   object\n",
      "dtypes: object(2)\n",
      "memory usage: 74.6+ KB\n"
     ]
    }
   ],
   "source": [
    "df_hotels.info()"
   ]
  },
  {
   "cell_type": "code",
   "execution_count": null,
   "id": "bcfb17ee-9b99-4d26-b2e6-e85057607aef",
   "metadata": {},
   "outputs": [],
   "source": []
  },
  {
   "cell_type": "code",
   "execution_count": null,
   "id": "5c41b4aa-db67-4573-abff-f0d8794f1447",
   "metadata": {},
   "outputs": [],
   "source": []
  },
  {
   "cell_type": "code",
   "execution_count": null,
   "id": "2038f678-beec-4ee6-bd23-256c0089d5b1",
   "metadata": {},
   "outputs": [],
   "source": []
  },
  {
   "cell_type": "code",
   "execution_count": null,
   "id": "75f128cb-6a55-4956-81c9-92c8ac9c185c",
   "metadata": {},
   "outputs": [],
   "source": []
  },
  {
   "cell_type": "code",
   "execution_count": null,
   "id": "89dfae5f-a0f1-4ef4-86ef-3a9b828409a2",
   "metadata": {},
   "outputs": [],
   "source": []
  },
  {
   "cell_type": "code",
   "execution_count": 140,
   "id": "abc60bd4-2d34-43d6-a116-949c938cf00b",
   "metadata": {},
   "outputs": [],
   "source": [
    "#  exploring patterns in the text to assess how best to cleanse the data\n",
    "pat_list = [r'\\d', '-', '\\+', ':', '!', '\\?', '\\.', '\\\\n'] # list of special characters/punctuation to search for in data\n",
    "\n",
    "def punc_search(df, col, pat):\n",
    "    \"\"\"\n",
    "    function that counts the number of narratives\n",
    "    that contain a pre-defined list of special\n",
    "    characters and punctuation\n",
    "    \"\"\"\n",
    "    for p in pat:\n",
    "        v = df[col].str.contains(p).sum() # total n_rows that contain the pattern\n",
    "        print(f'{p} special character is present in {v} entries')\n",
    "\n"
   ]
  },
  {
   "cell_type": "code",
   "execution_count": 141,
   "id": "7e05117e-da16-473e-95bd-673876e0fc1f",
   "metadata": {},
   "outputs": [
    {
     "name": "stdout",
     "output_type": "stream",
     "text": [
      "\\d special character is present in 2413 entries\n",
      "- special character is present in 2402 entries\n",
      "\\+ special character is present in 143 entries\n",
      ": special character is present in 831 entries\n",
      "! special character is present in 825 entries\n",
      "\\? special character is present in 3233 entries\n",
      "\\. special character is present in 3047 entries\n",
      "\\n special character is present in 1873 entries\n"
     ]
    }
   ],
   "source": [
    "punc_search(df_flights, 'text', pat_list)"
   ]
  },
  {
   "cell_type": "code",
   "execution_count": 142,
   "id": "08a1dc34-a473-4460-a86c-96de08cee18d",
   "metadata": {},
   "outputs": [
    {
     "name": "stdout",
     "output_type": "stream",
     "text": [
      "\\d special character is present in 849 entries\n",
      "- special character is present in 2793 entries\n",
      "\\+ special character is present in 33 entries\n",
      ": special character is present in 325 entries\n",
      "! special character is present in 183 entries\n",
      "\\? special character is present in 434 entries\n",
      "\\. special character is present in 687 entries\n",
      "\\n special character is present in 194 entries\n"
     ]
    }
   ],
   "source": [
    "punc_search(df_hotels, 'text', pat_list)"
   ]
  },
  {
   "cell_type": "code",
   "execution_count": 143,
   "id": "f01011d8-766f-44ee-8ecf-1abc051c16d9",
   "metadata": {},
   "outputs": [],
   "source": [
    "def keep_english_words(text):\n",
    "    doc = nlp(text)\n",
    "    english_words = [token.text for token in doc if token.is_alpha and token.lang_ == \"en\"]\n",
    "    return \" \".join(english_words)"
   ]
  },
  {
   "cell_type": "code",
   "execution_count": 144,
   "id": "5cd38db0-1ab0-4ea0-95d8-8d4cd580b3ed",
   "metadata": {},
   "outputs": [],
   "source": [
    "df_flights[\"text\"] = df_flights[\"text\"].apply(keep_english_words)\n",
    "df_flights = df_flights[df_flights[\"text\"] != \"\"]"
   ]
  },
  {
   "cell_type": "code",
   "execution_count": 145,
   "id": "c68a37ea-bc63-435d-8fde-2b8777addbda",
   "metadata": {
    "tags": []
   },
   "outputs": [
    {
     "data": {
      "text/html": [
       "<div>\n",
       "<style scoped>\n",
       "    .dataframe tbody tr th:only-of-type {\n",
       "        vertical-align: middle;\n",
       "    }\n",
       "\n",
       "    .dataframe tbody tr th {\n",
       "        vertical-align: top;\n",
       "    }\n",
       "\n",
       "    .dataframe thead th {\n",
       "        text-align: right;\n",
       "    }\n",
       "</style>\n",
       "<table border=\"1\" class=\"dataframe\">\n",
       "  <thead>\n",
       "    <tr style=\"text-align: right;\">\n",
       "      <th></th>\n",
       "      <th>subreddit</th>\n",
       "      <th>text</th>\n",
       "    </tr>\n",
       "  </thead>\n",
       "  <tbody>\n",
       "    <tr>\n",
       "      <th>0</th>\n",
       "      <td>Flights</td>\n",
       "      <td>Flight To date I just purchased my cheapest in...</td>\n",
       "    </tr>\n",
       "    <tr>\n",
       "      <th>1</th>\n",
       "      <td>Flights</td>\n",
       "      <td>I an engineer with a design to reverse enginee...</td>\n",
       "    </tr>\n",
       "    <tr>\n",
       "      <th>2</th>\n",
       "      <td>Flights</td>\n",
       "      <td>TAP AIR FLIGHT SONG</td>\n",
       "    </tr>\n",
       "    <tr>\n",
       "      <th>3</th>\n",
       "      <td>Flights</td>\n",
       "      <td>what would you do awful rule regarding Porter ...</td>\n",
       "    </tr>\n",
       "    <tr>\n",
       "      <th>4</th>\n",
       "      <td>Flights</td>\n",
       "      <td>EVA Air CC Verification</td>\n",
       "    </tr>\n",
       "    <tr>\n",
       "      <th>...</th>\n",
       "      <td>...</td>\n",
       "      <td>...</td>\n",
       "    </tr>\n",
       "    <tr>\n",
       "      <th>4954</th>\n",
       "      <td>Flights</td>\n",
       "      <td>Do children need ID to travel domestically I j...</td>\n",
       "    </tr>\n",
       "    <tr>\n",
       "      <th>4955</th>\n",
       "      <td>Flights</td>\n",
       "      <td>UÇUŞ RÖTARINDA TAZMİNAT ALMAK</td>\n",
       "    </tr>\n",
       "    <tr>\n",
       "      <th>4956</th>\n",
       "      <td>Flights</td>\n",
       "      <td>Help figuring out a flight to Bulgaria Hi just...</td>\n",
       "    </tr>\n",
       "    <tr>\n",
       "      <th>4957</th>\n",
       "      <td>Flights</td>\n",
       "      <td>Is this a bait and switch by Southwest deleted</td>\n",
       "    </tr>\n",
       "    <tr>\n",
       "      <th>4958</th>\n",
       "      <td>Flights</td>\n",
       "      <td>Flying to Rome transferring flight in London N...</td>\n",
       "    </tr>\n",
       "  </tbody>\n",
       "</table>\n",
       "<p>4945 rows × 2 columns</p>\n",
       "</div>"
      ],
      "text/plain": [
       "     subreddit                                               text\n",
       "0      Flights  Flight To date I just purchased my cheapest in...\n",
       "1      Flights  I an engineer with a design to reverse enginee...\n",
       "2      Flights                                TAP AIR FLIGHT SONG\n",
       "3      Flights  what would you do awful rule regarding Porter ...\n",
       "4      Flights                            EVA Air CC Verification\n",
       "...        ...                                                ...\n",
       "4954   Flights  Do children need ID to travel domestically I j...\n",
       "4955   Flights                      UÇUŞ RÖTARINDA TAZMİNAT ALMAK\n",
       "4956   Flights  Help figuring out a flight to Bulgaria Hi just...\n",
       "4957   Flights     Is this a bait and switch by Southwest deleted\n",
       "4958   Flights  Flying to Rome transferring flight in London N...\n",
       "\n",
       "[4945 rows x 2 columns]"
      ]
     },
     "execution_count": 145,
     "metadata": {},
     "output_type": "execute_result"
    }
   ],
   "source": [
    "df_flights"
   ]
  },
  {
   "cell_type": "markdown",
   "id": "a0f9c26e-efa5-42e3-8c51-c5fd8cb53636",
   "metadata": {},
   "source": [
    "### remove non-english words"
   ]
  },
  {
   "cell_type": "code",
   "execution_count": 146,
   "id": "d8bbd6ed-f573-4b62-9989-0a90051529d8",
   "metadata": {},
   "outputs": [],
   "source": [
    "def removeNonEnglishWordsFunct(x):\n",
    "    words = set(nltk.corpus.words.words())\n",
    "    filteredSentence = \" \".join(w for w in nltk.wordpunct_tokenize(x) \\\n",
    "                                if w.lower() in words or not w.isalpha())\n",
    "    return filteredSentence"
   ]
  },
  {
   "cell_type": "code",
   "execution_count": 147,
   "id": "ae918473-79b6-47c9-b071-f739bda7da63",
   "metadata": {},
   "outputs": [],
   "source": [
    "df_flights[\"text\"] = df_flights[\"text\"].apply(removeNonEnglishWordsFunct)\n",
    "df_flights = df_flights[df_flights[\"text\"] != \"\"]"
   ]
  },
  {
   "cell_type": "code",
   "execution_count": 148,
   "id": "07950e00-430e-44e0-987e-f72c9b57a045",
   "metadata": {},
   "outputs": [],
   "source": [
    "df_hotels[\"text\"] = df_hotels[\"text\"].apply(removeNonEnglishWordsFunct)\n",
    "df_hotels = df_hotels[df_hotels[\"text\"] != \"\"]"
   ]
  },
  {
   "cell_type": "code",
   "execution_count": 149,
   "id": "232f91e3-ca0d-401b-85fc-2d492d14c539",
   "metadata": {},
   "outputs": [
    {
     "data": {
      "text/plain": [
       "<Figure size 1600x1600 with 0 Axes>"
      ]
     },
     "metadata": {},
     "output_type": "display_data"
    },
    {
     "data": {
      "image/png": "[encoded data removed]",
      "text/plain": [
       "<Figure size 500x500 with 1 Axes>"
      ]
     },
     "metadata": {},
     "output_type": "display_data"
    }
   ],
   "source": [
    "# Generating a list of text lengths\n",
    "\n",
    "lengths = [len(text) for text in df_flights[\"text\"]]\n",
    "\n",
    "# Plotting the text lengths\n",
    "\n",
    "plt.figure(figsize = (16,16), facecolor = \"white\")\n",
    "sns.displot(lengths, kde = False, bins = 10, color = \"black\")\n",
    "plt.axvline(np.mean(lengths), color = \"red\")\n",
    "plt.title(\"Distribution Of Text Length\", size = 18)\n",
    "plt.xlabel(\"Words\", size = 16)\n",
    "plt.ylabel(\"Frequency\", size = 16)\n",
    "plt.xticks(np.arange(0,2550,1000),size =10)\n",
    "plt.yticks(size = 14);\n",
    "\n",
    "# The red line marks the mean length"
   ]
  },
  {
   "cell_type": "code",
   "execution_count": 155,
   "id": "fbde6334-8f9e-44e4-a29e-6403397b0c1d",
   "metadata": {},
   "outputs": [],
   "source": [
    "def plot_most_frequent_words(dataframes, titles):\n",
    "    \n",
    "    # The count inidcates where in the subplot to go\n",
    "    count = 0\n",
    "    fig   = plt.figure(figsize   = (24,20),\n",
    "                       facecolor = \"white\")\n",
    "    \n",
    "    # Enumerating allows for the list of titles to be referenced\n",
    "    for d, dataframe in enumerate(dataframes):\n",
    "        \n",
    "        # Updating the location\n",
    "        count += 1\n",
    "        ax    = fig.add_subplot(2, 2, count)\n",
    "        \n",
    "        # Creating the graph\n",
    "        sns.barplot(x       = 0,\n",
    "                    y       = dataframe.index,\n",
    "                    data    = dataframe,\n",
    "                    palette = \"deep\")\n",
    "        \n",
    "        # Setting the graph parameters\n",
    "        plt.title(f\"Most Common Words From {titles[d]}\", size = 20)\n",
    "        plt.xlabel(\"Number Of Occurences\", size = 18)\n",
    "        plt.ylabel(\"Word\", size = 18)\n",
    "        plt.xticks(size = 16)\n",
    "        plt.yticks(size=25)"
   ]
  },
  {
   "cell_type": "markdown",
   "id": "1c2ccf8d-5c07-46b1-8a1e-ec5d7dde6d69",
   "metadata": {},
   "source": [
    "## Count vectorizer"
   ]
  },
  {
   "cell_type": "markdown",
   "id": "beef850f-0038-460e-a45f-a67857484397",
   "metadata": {},
   "source": [
    "CountVectorizer is a feature extraction technique used in Natural Language Processing (NLP) to convert a collection of text documents to a matrix of token counts. It is a common technique used for text classification, sentiment analysis, and topic modeling.\n",
    "\n",
    "In CountVectorizer, each document is represented as a vector of token counts, where each token represents a word in the document vocabulary. The number of times a token appears in a document is counted and stored in the corresponding element of the vector. For example, consider the following two documents:\n",
    "\n",
    "CountVectorizer also includes several optional parameters, such as n-gram range, minimum document frequency, and maximum document frequency, which can be used to customize the vectorization process and improve the accuracy of the machine learning model."
   ]
  },
  {
   "cell_type": "code",
   "execution_count": 153,
   "id": "a8813d50-8d6f-4ad0-96f4-b96a2a21a1e1",
   "metadata": {},
   "outputs": [],
   "source": [
    "# Instantiating the count vectorizer\n",
    "\n",
    "vectorizer = CountVectorizer()\n",
    "\n",
    "# Masking the vectorizer with English stop words\n",
    "\n",
    "cvec_flights     = CountVectorizer(stop_words = \"english\")\n",
    "cvec_hotels = CountVectorizer(stop_words = \"english\")\n",
    "\n",
    "# Subsetting the dataframe\n",
    "\n",
    "flights     = df_flights[df_flights[\"subreddit\"]  == 'Flights']\n",
    "hotels = df_hotels[df_hotels[\"subreddit\"] == 'hotels']\n",
    "\n",
    "# Fit-transforming the vectorizer\n",
    "\n",
    "vec_flights     = cvec_flights.fit_transform(flights[\"text\"])\n",
    "vec_hotels = cvec_hotels.fit_transform(hotels[\"text\"])"
   ]
  },
  {
   "cell_type": "code",
   "execution_count": 156,
   "id": "14dfb594-405a-4594-b177-9707d022f26c",
   "metadata": {},
   "outputs": [
    {
     "name": "stderr",
     "output_type": "stream",
     "text": [
      "C:\\Users\\clair\\miniconda3\\envs\\dsi-sg\\lib\\site-packages\\sklearn\\utils\\deprecation.py:87: FutureWarning: Function get_feature_names is deprecated; get_feature_names is deprecated in 1.0 and will be removed in 1.2. Please use get_feature_names_out instead.\n",
      "  warnings.warn(msg, category=FutureWarning)\n",
      "C:\\Users\\clair\\miniconda3\\envs\\dsi-sg\\lib\\site-packages\\sklearn\\utils\\deprecation.py:87: FutureWarning: Function get_feature_names is deprecated; get_feature_names is deprecated in 1.0 and will be removed in 1.2. Please use get_feature_names_out instead.\n",
      "  warnings.warn(msg, category=FutureWarning)\n"
     ]
    },
    {
     "data": {
      "image/png": "[encoded data removed]",
      "text/plain": [
       "<Figure size 2400x2000 with 2 Axes>"
      ]
     },
     "metadata": {},
     "output_type": "display_data"
    }
   ],
   "source": [
    "# Saving the vectorized dfs to a new dataframe\n",
    "\n",
    "flights_vectorized     = pd.DataFrame(vec_flights.toarray(), \n",
    "                                      columns = cvec_flights.get_feature_names())\n",
    "hotels_vectorized = pd.DataFrame(vec_hotels.toarray(), \n",
    "                                      columns = cvec_hotels.get_feature_names())\n",
    "\n",
    "# Getting the 15 most frequent words from each\n",
    "\n",
    "vectorized_flights     = pd.DataFrame(flights_vectorized.sum().sort_values(ascending = False).head(20))\n",
    "vectorized_hotels = pd.DataFrame(hotels_vectorized.sum().sort_values(ascending = False).head(20))\n",
    "\n",
    "# Plotting the most common words\n",
    "\n",
    "plot_most_frequent_words(dataframes = [vectorized_flights, \n",
    "                                       vectorized_hotels],\n",
    "                         titles     = [\"r/Flights\", \n",
    "                                       \"r/Hotels\"])\n",
    "\n"
   ]
  },
  {
   "cell_type": "markdown",
   "id": "00073b8e-8f85-405b-bf65-01d6eed0ff0e",
   "metadata": {},
   "source": [
    "We can see that there are a lot of words that occur in both subreddits. We decided that we should create a list of customized stop words. Furthermore, we noticed that we must lemmatize or stem the text columns because of there are multiple forms of words in the most frequent words such as 'fly' & 'flying' or 'ticket' and 'tickets'. the straight words words like flights hotels we plance to remove as well\n",
    "\n"
   ]
  },
  {
   "cell_type": "markdown",
   "id": "626db7a3-b124-4efb-a7a7-c8f05146475f",
   "metadata": {},
   "source": [
    "## Stopwords"
   ]
  },
  {
   "cell_type": "markdown",
   "id": "ec07257f-8d3f-48d4-83c6-ea7b30f4522b",
   "metadata": {},
   "source": [
    "Stopwords are often removed from text data before processing it for natural language processing (NLP) tasks such as text classification, sentiment analysis, and topic modeling. This is because they can interfere with the accuracy and efficiency of these tasks by increasing the noise-to-signal ratio in the text data."
   ]
  },
  {
   "cell_type": "code",
   "execution_count": 21,
   "id": "0f390023-d19e-4167-951a-2afff7841375",
   "metadata": {},
   "outputs": [
    {
     "name": "stderr",
     "output_type": "stream",
     "text": [
      "[nltk_data] Downloading package stopwords to\n",
      "[nltk_data]     C:\\Users\\clair\\AppData\\Roaming\\nltk_data...\n",
      "[nltk_data]   Package stopwords is already up-to-date!\n"
     ]
    }
   ],
   "source": [
    "# Downloading the default stopwords\n",
    "\n",
    "nltk.download(\"stopwords\");\n",
    "\n",
    "# Adding our stopwords to the English set\n",
    "\n",
    "new_stopwords = [\"book\", \"flight\", \"hotel\", \"book\", \n",
    "                 \"just\", \"time\", \"like\",\n",
    "                 \"resort\",\"airline\",\"fly\"]\n",
    "\n",
    "stopwords     = stopwords.words('english')\n",
    "\n",
    "stopwords.extend(new_stopwords)"
   ]
  },
  {
   "cell_type": "markdown",
   "id": "57568d9e-0d7d-4fe3-9099-7fd1b23e2b55",
   "metadata": {},
   "source": [
    "## Tokenize Lemmatize"
   ]
  },
  {
   "cell_type": "markdown",
   "id": "f378e73e-7ca5-4815-b657-6a49fa15a8a6",
   "metadata": {},
   "source": [
    "Tokenization is the process of breaking a sequence of text into smaller units called tokens. In natural language processing, tokens are usually words or subwords that are used to represent the text data.\n",
    "\n",
    "Lemmatizing is the process of reducing a word to its base or root form, which is called the lemma. In linguistics, a lemma is the canonical form of a word, which represents its core meaning. For example, the lemma of the word \"running\" is \"run\", and the lemma of the word \"better\" is \"good\"."
   ]
  },
  {
   "cell_type": "code",
   "execution_count": 22,
   "id": "fd22b07a-ca5f-4c0c-a4a2-e1837c59dbac",
   "metadata": {},
   "outputs": [],
   "source": [
    "# Instantiating the lemmatizier and tokenizer\n",
    "# The tokenizer will only keep text\n",
    "\n",
    "lemmatizer = WordNetLemmatizer()\n",
    "tokenizer  = RegexpTokenizer(r'\\w+')\n",
    "\n",
    "# Setting up the lemmatizer\n",
    "\n",
    "lemmatized_posts = []\n",
    "\n",
    "def lemma(df):\n",
    "    for post in df[\"text\"]:\n",
    "        tokens = tokenizer.tokenize(post)\n",
    "        post   = [lemmatizer.lemmatize(post) for post in tokens]\n",
    "        lemmatized_posts.append(\" \".join(post))\n",
    "    return lemmatized_posts\n",
    "    \n"
   ]
  },
  {
   "cell_type": "code",
   "execution_count": 23,
   "id": "1c93615e-8696-4678-9415-de3245e22e06",
   "metadata": {},
   "outputs": [
    {
     "name": "stderr",
     "output_type": "stream",
     "text": [
      "C:\\Users\\clair\\AppData\\Local\\Temp\\ipykernel_18620\\3754048542.py:6: SettingWithCopyWarning: \n",
      "A value is trying to be set on a copy of a slice from a DataFrame.\n",
      "Try using .loc[row_indexer,col_indexer] = value instead\n",
      "\n",
      "See the caveats in the documentation: https://pandas.pydata.org/pandas-docs/stable/user_guide/indexing.html#returning-a-view-versus-a-copy\n",
      "  df_flights[\"lemmatized_text\"] = lemmatized_posts\n"
     ]
    },
    {
     "data": {
      "text/html": [
       "<div>\n",
       "<style scoped>\n",
       "    .dataframe tbody tr th:only-of-type {\n",
       "        vertical-align: middle;\n",
       "    }\n",
       "\n",
       "    .dataframe tbody tr th {\n",
       "        vertical-align: top;\n",
       "    }\n",
       "\n",
       "    .dataframe thead th {\n",
       "        text-align: right;\n",
       "    }\n",
       "</style>\n",
       "<table border=\"1\" class=\"dataframe\">\n",
       "  <thead>\n",
       "    <tr style=\"text-align: right;\">\n",
       "      <th></th>\n",
       "      <th>subreddit</th>\n",
       "      <th>lemmatized_text</th>\n",
       "    </tr>\n",
       "  </thead>\n",
       "  <tbody>\n",
       "    <tr>\n",
       "      <th>0</th>\n",
       "      <td>Flights</td>\n",
       "      <td>Flight To date I just my international flight ...</td>\n",
       "    </tr>\n",
       "    <tr>\n",
       "      <th>1</th>\n",
       "      <td>Flights</td>\n",
       "      <td>I an engineer with a design to reverse enginee...</td>\n",
       "    </tr>\n",
       "    <tr>\n",
       "      <th>2</th>\n",
       "      <td>Flights</td>\n",
       "      <td>TAP AIR FLIGHT SONG</td>\n",
       "    </tr>\n",
       "    <tr>\n",
       "      <th>3</th>\n",
       "      <td>Flights</td>\n",
       "      <td>what would you do awful rule regarding Porter ...</td>\n",
       "    </tr>\n",
       "    <tr>\n",
       "      <th>4</th>\n",
       "      <td>Flights</td>\n",
       "      <td>Air Verification</td>\n",
       "    </tr>\n",
       "  </tbody>\n",
       "</table>\n",
       "</div>"
      ],
      "text/plain": [
       "  subreddit                                    lemmatized_text\n",
       "0   Flights  Flight To date I just my international flight ...\n",
       "1   Flights  I an engineer with a design to reverse enginee...\n",
       "2   Flights                                TAP AIR FLIGHT SONG\n",
       "3   Flights  what would you do awful rule regarding Porter ...\n",
       "4   Flights                                   Air Verification"
      ]
     },
     "execution_count": 23,
     "metadata": {},
     "output_type": "execute_result"
    }
   ],
   "source": [
    "lemmatized_posts = []\n",
    "lemma(df_flights)\n",
    "\n",
    "# Appending the lemmatized posts to the dataframe\n",
    "\n",
    "df_flights[\"lemmatized_text\"] = lemmatized_posts\n",
    "\n",
    "# Checking the head of the dataframe\n",
    "\n",
    "df_flights = df_flights.drop('text', axis=1)\n",
    "df_flights.head()"
   ]
  },
  {
   "cell_type": "code",
   "execution_count": 24,
   "id": "9e138628-96e6-42b0-a9ba-60d57e5fd3bb",
   "metadata": {
    "tags": []
   },
   "outputs": [
    {
     "data": {
      "text/html": [
       "<div>\n",
       "<style scoped>\n",
       "    .dataframe tbody tr th:only-of-type {\n",
       "        vertical-align: middle;\n",
       "    }\n",
       "\n",
       "    .dataframe tbody tr th {\n",
       "        vertical-align: top;\n",
       "    }\n",
       "\n",
       "    .dataframe thead th {\n",
       "        text-align: right;\n",
       "    }\n",
       "</style>\n",
       "<table border=\"1\" class=\"dataframe\">\n",
       "  <thead>\n",
       "    <tr style=\"text-align: right;\">\n",
       "      <th></th>\n",
       "      <th>subreddit</th>\n",
       "      <th>lemmatized_text</th>\n",
       "    </tr>\n",
       "  </thead>\n",
       "  <tbody>\n",
       "    <tr>\n",
       "      <th>0</th>\n",
       "      <td>hotels</td>\n",
       "      <td>Double booking egregious hotel cancellation po...</td>\n",
       "    </tr>\n",
       "    <tr>\n",
       "      <th>1</th>\n",
       "      <td>hotels</td>\n",
       "      <td>Hotel Hello All I am currently for assistant m...</td>\n",
       "    </tr>\n",
       "    <tr>\n",
       "      <th>2</th>\n",
       "      <td>hotels</td>\n",
       "      <td>Parking pas</td>\n",
       "    </tr>\n",
       "    <tr>\n",
       "      <th>3</th>\n",
       "      <td>hotels</td>\n",
       "      <td>A Journey Through The Hotel Culinary Wonderland</td>\n",
       "    </tr>\n",
       "    <tr>\n",
       "      <th>4</th>\n",
       "      <td>hotels</td>\n",
       "      <td>Chime Card at Las</td>\n",
       "    </tr>\n",
       "  </tbody>\n",
       "</table>\n",
       "</div>"
      ],
      "text/plain": [
       "  subreddit                                    lemmatized_text\n",
       "0    hotels  Double booking egregious hotel cancellation po...\n",
       "1    hotels  Hotel Hello All I am currently for assistant m...\n",
       "2    hotels                                        Parking pas\n",
       "3    hotels    A Journey Through The Hotel Culinary Wonderland\n",
       "4    hotels                                  Chime Card at Las"
      ]
     },
     "execution_count": 24,
     "metadata": {},
     "output_type": "execute_result"
    }
   ],
   "source": [
    "lemmatized_posts = []\n",
    "lemma(df_hotels)\n",
    "\n",
    "# Appending the lemmatized posts to the dataframe\n",
    "\n",
    "df_hotels[\"lemmatized_text\"] = lemmatized_posts\n",
    "\n",
    "# Checking the head of the dataframe\n",
    "\n",
    "\n",
    "df_hotels = df_hotels.drop('text', axis=1)\n",
    "df_hotels.head()"
   ]
  },
  {
   "cell_type": "markdown",
   "id": "554f1910-d50d-426c-acef-a0d7eb0c8e7a",
   "metadata": {},
   "source": [
    "## Stemming"
   ]
  },
  {
   "cell_type": "markdown",
   "id": "5e51826d-a761-4e6e-976b-1589981f8f7a",
   "metadata": {},
   "source": [
    "Stemming is a natural language processing technique used to reduce a word to its root or base form, known as a \"stem.\" This technique is commonly used in search engines, information retrieval systems, and other text analysis applications to improve information retrieval and search results."
   ]
  },
  {
   "cell_type": "code",
   "execution_count": 25,
   "id": "8d9cb229-69f2-4434-b553-096da76b04da",
   "metadata": {},
   "outputs": [],
   "source": [
    "#changing our lemmatized_text to a lower case and split the posts into indvidual words\n",
    "df_flights['lemmatized_text'] = df_flights['lemmatized_text'].str.lower().str.split()  "
   ]
  },
  {
   "cell_type": "code",
   "execution_count": 26,
   "id": "8e65c4a6-253b-43e1-8af7-a502f9357cea",
   "metadata": {},
   "outputs": [],
   "source": [
    "df_hotels['lemmatized_text'] = df_hotels['lemmatized_text'].str.lower().str.split()  "
   ]
  },
  {
   "cell_type": "code",
   "execution_count": 27,
   "id": "e43cc1ee-a6b8-4d90-a61d-f4862f06d3c9",
   "metadata": {},
   "outputs": [],
   "source": [
    "#Instantiate object of class PorterStemmer.\n",
    "p_stemmer = PorterStemmer()"
   ]
  },
  {
   "cell_type": "code",
   "execution_count": 28,
   "id": "e7f6f115-dfc9-43e1-b4b7-33e84ed390cb",
   "metadata": {},
   "outputs": [],
   "source": [
    "# Define a function to stemmatize text data \n",
    "\n",
    "def stemmatize_data(data, col_list):\n",
    "    p_stemmer = PorterStemmer()\n",
    "    for col in col_list:\n",
    "        stemmed_items = []\n",
    "        for row in data[col]:\n",
    "            stemmed_row = [p_stemmer.stem(word) for word in row]\n",
    "            stemmed_items.append(stemmed_row)\n",
    "        data[f'stemmatized_{col}'] = stemmed_items\n",
    "    return data "
   ]
  },
  {
   "cell_type": "code",
   "execution_count": 29,
   "id": "490b960e-3625-42e0-8bf0-1bd87bad9501",
   "metadata": {},
   "outputs": [],
   "source": [
    "# Stemmatize submissions text data \n",
    "col_list_text =['lemmatized_text']\n",
    "df_flights = stemmatize_data(df_flights, col_list_text)"
   ]
  },
  {
   "cell_type": "code",
   "execution_count": 30,
   "id": "ec2e09c4-7a36-4b5a-b1e5-b853cffca5e8",
   "metadata": {},
   "outputs": [
    {
     "data": {
      "text/html": [
       "<div>\n",
       "<style scoped>\n",
       "    .dataframe tbody tr th:only-of-type {\n",
       "        vertical-align: middle;\n",
       "    }\n",
       "\n",
       "    .dataframe tbody tr th {\n",
       "        vertical-align: top;\n",
       "    }\n",
       "\n",
       "    .dataframe thead th {\n",
       "        text-align: right;\n",
       "    }\n",
       "</style>\n",
       "<table border=\"1\" class=\"dataframe\">\n",
       "  <thead>\n",
       "    <tr style=\"text-align: right;\">\n",
       "      <th></th>\n",
       "      <th>subreddit</th>\n",
       "      <th>stemmatized_lemmatized_text</th>\n",
       "    </tr>\n",
       "  </thead>\n",
       "  <tbody>\n",
       "    <tr>\n",
       "      <th>0</th>\n",
       "      <td>Flights</td>\n",
       "      <td>[flight, to, date, i, just, my, intern, flight...</td>\n",
       "    </tr>\n",
       "    <tr>\n",
       "      <th>1</th>\n",
       "      <td>Flights</td>\n",
       "      <td>[i, an, engin, with, a, design, to, revers, en...</td>\n",
       "    </tr>\n",
       "    <tr>\n",
       "      <th>2</th>\n",
       "      <td>Flights</td>\n",
       "      <td>[tap, air, flight, song]</td>\n",
       "    </tr>\n",
       "    <tr>\n",
       "      <th>3</th>\n",
       "      <td>Flights</td>\n",
       "      <td>[what, would, you, do, aw, rule, regard, porte...</td>\n",
       "    </tr>\n",
       "    <tr>\n",
       "      <th>4</th>\n",
       "      <td>Flights</td>\n",
       "      <td>[air, verif]</td>\n",
       "    </tr>\n",
       "  </tbody>\n",
       "</table>\n",
       "</div>"
      ],
      "text/plain": [
       "  subreddit                        stemmatized_lemmatized_text\n",
       "0   Flights  [flight, to, date, i, just, my, intern, flight...\n",
       "1   Flights  [i, an, engin, with, a, design, to, revers, en...\n",
       "2   Flights                           [tap, air, flight, song]\n",
       "3   Flights  [what, would, you, do, aw, rule, regard, porte...\n",
       "4   Flights                                       [air, verif]"
      ]
     },
     "execution_count": 30,
     "metadata": {},
     "output_type": "execute_result"
    }
   ],
   "source": [
    "df_flights = df_flights.drop('lemmatized_text', axis=1)\n",
    "df_flights.head()"
   ]
  },
  {
   "cell_type": "code",
   "execution_count": 31,
   "id": "c2dbf418-547d-4747-952b-033688734e23",
   "metadata": {},
   "outputs": [
    {
     "data": {
      "text/html": [
       "<div>\n",
       "<style scoped>\n",
       "    .dataframe tbody tr th:only-of-type {\n",
       "        vertical-align: middle;\n",
       "    }\n",
       "\n",
       "    .dataframe tbody tr th {\n",
       "        vertical-align: top;\n",
       "    }\n",
       "\n",
       "    .dataframe thead th {\n",
       "        text-align: right;\n",
       "    }\n",
       "</style>\n",
       "<table border=\"1\" class=\"dataframe\">\n",
       "  <thead>\n",
       "    <tr style=\"text-align: right;\">\n",
       "      <th></th>\n",
       "      <th>subreddit</th>\n",
       "      <th>stemmatized_lemmatized_text</th>\n",
       "    </tr>\n",
       "  </thead>\n",
       "  <tbody>\n",
       "    <tr>\n",
       "      <th>0</th>\n",
       "      <td>hotels</td>\n",
       "      <td>[doubl, book, egregi, hotel, cancel, polici, h...</td>\n",
       "    </tr>\n",
       "    <tr>\n",
       "      <th>1</th>\n",
       "      <td>hotels</td>\n",
       "      <td>[hotel, hello, all, i, am, current, for, assis...</td>\n",
       "    </tr>\n",
       "    <tr>\n",
       "      <th>2</th>\n",
       "      <td>hotels</td>\n",
       "      <td>[park, pa]</td>\n",
       "    </tr>\n",
       "    <tr>\n",
       "      <th>3</th>\n",
       "      <td>hotels</td>\n",
       "      <td>[a, journey, through, the, hotel, culinari, wo...</td>\n",
       "    </tr>\n",
       "    <tr>\n",
       "      <th>4</th>\n",
       "      <td>hotels</td>\n",
       "      <td>[chime, card, at, la]</td>\n",
       "    </tr>\n",
       "  </tbody>\n",
       "</table>\n",
       "</div>"
      ],
      "text/plain": [
       "  subreddit                        stemmatized_lemmatized_text\n",
       "0    hotels  [doubl, book, egregi, hotel, cancel, polici, h...\n",
       "1    hotels  [hotel, hello, all, i, am, current, for, assis...\n",
       "2    hotels                                         [park, pa]\n",
       "3    hotels  [a, journey, through, the, hotel, culinari, wo...\n",
       "4    hotels                              [chime, card, at, la]"
      ]
     },
     "execution_count": 31,
     "metadata": {},
     "output_type": "execute_result"
    }
   ],
   "source": [
    "df_hotels = stemmatize_data(df_hotels, col_list_text)\n",
    "df_hotels = df_hotels.drop('lemmatized_text', axis=1)\n",
    "df_hotels.head()"
   ]
  },
  {
   "cell_type": "code",
   "execution_count": null,
   "id": "799a8a61-dc70-430b-b381-c23377945406",
   "metadata": {},
   "outputs": [],
   "source": []
  },
  {
   "cell_type": "code",
   "execution_count": null,
   "id": "d22d4a01-2eb2-4826-9f8b-4cd065f57984",
   "metadata": {},
   "outputs": [],
   "source": []
  },
  {
   "cell_type": "code",
   "execution_count": null,
   "id": "776034e1-28a5-4bff-bc6a-9336713c6acc",
   "metadata": {},
   "outputs": [],
   "source": []
  },
  {
   "cell_type": "code",
   "execution_count": 32,
   "id": "089820b6-24d2-416f-987b-7414dfe09be3",
   "metadata": {},
   "outputs": [
    {
     "name": "stdout",
     "output_type": "stream",
     "text": [
      "\\d special character is present in 0.0 entries\n",
      "- special character is present in 0.0 entries\n",
      "\\+ special character is present in 0.0 entries\n",
      ": special character is present in 0.0 entries\n",
      "! special character is present in 0.0 entries\n",
      "\\? special character is present in 0.0 entries\n",
      "\\. special character is present in 0.0 entries\n",
      "\\n special character is present in 0.0 entries\n"
     ]
    }
   ],
   "source": [
    "punc_search(df_hotels, 'stemmatized_lemmatized_text', pat_list)"
   ]
  },
  {
   "cell_type": "code",
   "execution_count": 33,
   "id": "e9da6568-cefa-4b97-961e-39570cf5d60b",
   "metadata": {},
   "outputs": [
    {
     "name": "stdout",
     "output_type": "stream",
     "text": [
      "\\d special character is present in 0.0 entries\n",
      "- special character is present in 0.0 entries\n",
      "\\+ special character is present in 0.0 entries\n",
      ": special character is present in 0.0 entries\n",
      "! special character is present in 0.0 entries\n",
      "\\? special character is present in 0.0 entries\n",
      "\\. special character is present in 0.0 entries\n",
      "\\n special character is present in 0.0 entries\n"
     ]
    }
   ],
   "source": [
    "punc_search(df_flights, 'stemmatized_lemmatized_text', pat_list)"
   ]
  },
  {
   "cell_type": "code",
   "execution_count": 34,
   "id": "31d8e91b-1be9-4b0e-bac8-a44e1a5a8ebe",
   "metadata": {},
   "outputs": [
    {
     "name": "stdout",
     "output_type": "stream",
     "text": [
      "<class 'pandas.core.frame.DataFrame'>\n",
      "Int64Index: 4725 entries, 0 to 4766\n",
      "Data columns (total 2 columns):\n",
      " #   Column                       Non-Null Count  Dtype \n",
      "---  ------                       --------------  ----- \n",
      " 0   subreddit                    4725 non-null   object\n",
      " 1   stemmatized_lemmatized_text  4725 non-null   object\n",
      "dtypes: object(2)\n",
      "memory usage: 110.7+ KB\n"
     ]
    }
   ],
   "source": [
    "df_hotels.info()"
   ]
  },
  {
   "cell_type": "code",
   "execution_count": 35,
   "id": "6eafc351-0016-47ed-b4e8-68521384d3e7",
   "metadata": {},
   "outputs": [
    {
     "name": "stdout",
     "output_type": "stream",
     "text": [
      "<class 'pandas.core.frame.DataFrame'>\n",
      "Int64Index: 4895 entries, 0 to 4958\n",
      "Data columns (total 2 columns):\n",
      " #   Column                       Non-Null Count  Dtype \n",
      "---  ------                       --------------  ----- \n",
      " 0   subreddit                    4895 non-null   object\n",
      " 1   stemmatized_lemmatized_text  4895 non-null   object\n",
      "dtypes: object(2)\n",
      "memory usage: 114.7+ KB\n"
     ]
    }
   ],
   "source": [
    "df_flights.info()"
   ]
  },
  {
   "cell_type": "markdown",
   "id": "20de3621-83a3-4b60-a9ad-2fd4a8346f44",
   "metadata": {},
   "source": [
    "#### both dataframe has similar number of count so they are quite balance"
   ]
  },
  {
   "cell_type": "code",
   "execution_count": 36,
   "id": "b6e3baf5-403e-4b7a-b3a8-da5f18a0605d",
   "metadata": {},
   "outputs": [
    {
     "name": "stdout",
     "output_type": "stream",
     "text": [
      "     subreddit                        stemmatized_lemmatized_text\n",
      "0       hotels  [doubl, book, egregi, hotel, cancel, polici, h...\n",
      "1       hotels  [hotel, hello, all, i, am, current, for, assis...\n",
      "2       hotels                                         [park, pa]\n",
      "3       hotels  [a, journey, through, the, hotel, culinari, wo...\n",
      "4       hotels                              [chime, card, at, la]\n",
      "...        ...                                                ...\n",
      "4953   Flights  [are, alway, high, around, and, do, you, think...\n",
      "4954   Flights  [do, need, id, to, travel, domest, i, just, bo...\n",
      "4956   Flights  [help, out, a, flight, to, hi, just, found, th...\n",
      "4957   Flights     [is, thi, a, bait, and, switch, by, southwest]\n",
      "4958   Flights  [fli, to, transfer, flight, in, nervou, about,...\n",
      "\n",
      "[9620 rows x 2 columns]\n"
     ]
    }
   ],
   "source": [
    "# Using pandas.concat() to concat two DataFrames\n",
    "data = [df_hotels, df_flights]\n",
    "df = pd.concat(data)\n",
    "print(df)"
   ]
  },
  {
   "cell_type": "code",
   "execution_count": 37,
   "id": "ef0c7730-2fa6-42c1-b675-8a9601ffb107",
   "metadata": {},
   "outputs": [
    {
     "data": {
      "text/html": [
       "<div>\n",
       "<style scoped>\n",
       "    .dataframe tbody tr th:only-of-type {\n",
       "        vertical-align: middle;\n",
       "    }\n",
       "\n",
       "    .dataframe tbody tr th {\n",
       "        vertical-align: top;\n",
       "    }\n",
       "\n",
       "    .dataframe thead th {\n",
       "        text-align: right;\n",
       "    }\n",
       "</style>\n",
       "<table border=\"1\" class=\"dataframe\">\n",
       "  <thead>\n",
       "    <tr style=\"text-align: right;\">\n",
       "      <th></th>\n",
       "      <th>subreddit</th>\n",
       "      <th>stemmatized_lemmatized_text</th>\n",
       "    </tr>\n",
       "  </thead>\n",
       "  <tbody>\n",
       "    <tr>\n",
       "      <th>957</th>\n",
       "      <td>u_Eagle-Flights-India</td>\n",
       "      <td>[who, work, in, collabor, are, more, satisfi, ...</td>\n",
       "    </tr>\n",
       "    <tr>\n",
       "      <th>1048</th>\n",
       "      <td>u_Eagle-Flights-India</td>\n",
       "      <td>[how, are, team, build, compani, cultur]</td>\n",
       "    </tr>\n",
       "    <tr>\n",
       "      <th>1238</th>\n",
       "      <td>u_Eagle-Flights-India</td>\n",
       "      <td>[how, virtual, team, are, and, their, impact, ...</td>\n",
       "    </tr>\n",
       "    <tr>\n",
       "      <th>1329</th>\n",
       "      <td>u_Eagle-Flights-India</td>\n",
       "      <td>[give, a, up, to, your, employe, product, with...</td>\n",
       "    </tr>\n",
       "    <tr>\n",
       "      <th>1330</th>\n",
       "      <td>u_Eagle-Flights-India</td>\n",
       "      <td>[give, a, up, to, your, employe, product, with...</td>\n",
       "    </tr>\n",
       "    <tr>\n",
       "      <th>1331</th>\n",
       "      <td>u_Eagle-Flights-India</td>\n",
       "      <td>[give, a, up, to, your, employe, product, with...</td>\n",
       "    </tr>\n",
       "    <tr>\n",
       "      <th>1332</th>\n",
       "      <td>u_Eagle-Flights-India</td>\n",
       "      <td>[give, a, up, to, your, employe, product, with...</td>\n",
       "    </tr>\n",
       "    <tr>\n",
       "      <th>1353</th>\n",
       "      <td>u_Eagle-Flights-India</td>\n",
       "      <td>[implement, these, to, build, a, success, busi...</td>\n",
       "    </tr>\n",
       "    <tr>\n",
       "      <th>1421</th>\n",
       "      <td>u_Eagle-Flights-India</td>\n",
       "      <td>[how, are, team, build, give, competit, advant...</td>\n",
       "    </tr>\n",
       "    <tr>\n",
       "      <th>1483</th>\n",
       "      <td>u_Eagle-Flights-India</td>\n",
       "      <td>[experienti, the, new, age, corpor, learn, pla...</td>\n",
       "    </tr>\n",
       "    <tr>\n",
       "      <th>1570</th>\n",
       "      <td>u_Eagle-Flights-India</td>\n",
       "      <td>[it, is, time, to, team, develop, with, virtua...</td>\n",
       "    </tr>\n",
       "    <tr>\n",
       "      <th>1571</th>\n",
       "      <td>u_Eagle-Flights-India</td>\n",
       "      <td>[it, is, time, to, team, develop, with, virtua...</td>\n",
       "    </tr>\n",
       "    <tr>\n",
       "      <th>1572</th>\n",
       "      <td>u_Eagle-Flights-India</td>\n",
       "      <td>[it, is, time, to, team, develop, with, virtua...</td>\n",
       "    </tr>\n",
       "    <tr>\n",
       "      <th>1573</th>\n",
       "      <td>u_Eagle-Flights-India</td>\n",
       "      <td>[it, is, time, to, team, develop, with, virtua...</td>\n",
       "    </tr>\n",
       "    <tr>\n",
       "      <th>1574</th>\n",
       "      <td>u_Eagle-Flights-India</td>\n",
       "      <td>[it, is, time, to, team, develop, with, virtua...</td>\n",
       "    </tr>\n",
       "    <tr>\n",
       "      <th>1634</th>\n",
       "      <td>u_Eagle-Flights-India</td>\n",
       "      <td>[of, believ, team, build, can, improv, cultur,...</td>\n",
       "    </tr>\n",
       "    <tr>\n",
       "      <th>1635</th>\n",
       "      <td>u_Eagle-Flights-India</td>\n",
       "      <td>[of, believ, team, build, can, improv, cultur,...</td>\n",
       "    </tr>\n",
       "    <tr>\n",
       "      <th>1636</th>\n",
       "      <td>u_Eagle-Flights-India</td>\n",
       "      <td>[of, believ, team, build, can, improv, cultur,...</td>\n",
       "    </tr>\n",
       "    <tr>\n",
       "      <th>1637</th>\n",
       "      <td>u_Eagle-Flights-India</td>\n",
       "      <td>[of, believ, team, build, can, improv, cultur,...</td>\n",
       "    </tr>\n",
       "    <tr>\n",
       "      <th>1638</th>\n",
       "      <td>u_Eagle-Flights-India</td>\n",
       "      <td>[of, believ, team, build, can, improv, cultur,...</td>\n",
       "    </tr>\n",
       "    <tr>\n",
       "      <th>1664</th>\n",
       "      <td>u_Eagle-Flights-India</td>\n",
       "      <td>[want, to, achiev, desir, focu, on, team, build]</td>\n",
       "    </tr>\n",
       "    <tr>\n",
       "      <th>1665</th>\n",
       "      <td>u_Eagle-Flights-India</td>\n",
       "      <td>[want, to, achiev, desir, focu, on, team, buil...</td>\n",
       "    </tr>\n",
       "    <tr>\n",
       "      <th>1666</th>\n",
       "      <td>u_Eagle-Flights-India</td>\n",
       "      <td>[want, to, achiev, desir, focu, on, team, buil...</td>\n",
       "    </tr>\n",
       "    <tr>\n",
       "      <th>1696</th>\n",
       "      <td>u_Eagle-Flights-India</td>\n",
       "      <td>[want, to, achiev, desir, focu, on, team, buil...</td>\n",
       "    </tr>\n",
       "    <tr>\n",
       "      <th>1945</th>\n",
       "      <td>u_Eagle-Flights-India</td>\n",
       "      <td>[how, can, team, build, help, in, corpor, grow...</td>\n",
       "    </tr>\n",
       "    <tr>\n",
       "      <th>2186</th>\n",
       "      <td>u_Eagle-Flights-India</td>\n",
       "      <td>[time, to, redefin, your, person, with, the, h...</td>\n",
       "    </tr>\n",
       "  </tbody>\n",
       "</table>\n",
       "</div>"
      ],
      "text/plain": [
       "                  subreddit                        stemmatized_lemmatized_text\n",
       "957   u_Eagle-Flights-India  [who, work, in, collabor, are, more, satisfi, ...\n",
       "1048  u_Eagle-Flights-India           [how, are, team, build, compani, cultur]\n",
       "1238  u_Eagle-Flights-India  [how, virtual, team, are, and, their, impact, ...\n",
       "1329  u_Eagle-Flights-India  [give, a, up, to, your, employe, product, with...\n",
       "1330  u_Eagle-Flights-India  [give, a, up, to, your, employe, product, with...\n",
       "1331  u_Eagle-Flights-India  [give, a, up, to, your, employe, product, with...\n",
       "1332  u_Eagle-Flights-India  [give, a, up, to, your, employe, product, with...\n",
       "1353  u_Eagle-Flights-India  [implement, these, to, build, a, success, busi...\n",
       "1421  u_Eagle-Flights-India  [how, are, team, build, give, competit, advant...\n",
       "1483  u_Eagle-Flights-India  [experienti, the, new, age, corpor, learn, pla...\n",
       "1570  u_Eagle-Flights-India  [it, is, time, to, team, develop, with, virtua...\n",
       "1571  u_Eagle-Flights-India  [it, is, time, to, team, develop, with, virtua...\n",
       "1572  u_Eagle-Flights-India  [it, is, time, to, team, develop, with, virtua...\n",
       "1573  u_Eagle-Flights-India  [it, is, time, to, team, develop, with, virtua...\n",
       "1574  u_Eagle-Flights-India  [it, is, time, to, team, develop, with, virtua...\n",
       "1634  u_Eagle-Flights-India  [of, believ, team, build, can, improv, cultur,...\n",
       "1635  u_Eagle-Flights-India  [of, believ, team, build, can, improv, cultur,...\n",
       "1636  u_Eagle-Flights-India  [of, believ, team, build, can, improv, cultur,...\n",
       "1637  u_Eagle-Flights-India  [of, believ, team, build, can, improv, cultur,...\n",
       "1638  u_Eagle-Flights-India  [of, believ, team, build, can, improv, cultur,...\n",
       "1664  u_Eagle-Flights-India   [want, to, achiev, desir, focu, on, team, build]\n",
       "1665  u_Eagle-Flights-India  [want, to, achiev, desir, focu, on, team, buil...\n",
       "1666  u_Eagle-Flights-India  [want, to, achiev, desir, focu, on, team, buil...\n",
       "1696  u_Eagle-Flights-India  [want, to, achiev, desir, focu, on, team, buil...\n",
       "1945  u_Eagle-Flights-India  [how, can, team, build, help, in, corpor, grow...\n",
       "2186  u_Eagle-Flights-India  [time, to, redefin, your, person, with, the, h..."
      ]
     },
     "execution_count": 37,
     "metadata": {},
     "output_type": "execute_result"
    }
   ],
   "source": [
    "df[df['subreddit']== 'u_Eagle-Flights-India']"
   ]
  },
  {
   "cell_type": "code",
   "execution_count": 38,
   "id": "9a8b744d-9909-4502-9eaa-82e054be8711",
   "metadata": {},
   "outputs": [],
   "source": [
    "df.drop(df[df['subreddit'].str.contains('u_Eagle-Flights-India')].index, inplace=True)"
   ]
  },
  {
   "cell_type": "code",
   "execution_count": null,
   "id": "0fa8d642-4b8b-489a-beb4-ae00085a7832",
   "metadata": {},
   "outputs": [],
   "source": []
  },
  {
   "cell_type": "code",
   "execution_count": 39,
   "id": "c47acee8-bbb5-4090-8005-7a362bd0cf08",
   "metadata": {},
   "outputs": [
    {
     "data": {
      "image/png": "[encoded data removed]",
      "text/plain": [
       "<Figure size 640x480 with 1 Axes>"
      ]
     },
     "metadata": {},
     "output_type": "display_data"
    }
   ],
   "source": [
    "\n",
    "sns.countplot(x=df[\"subreddit\"])\n",
    "plt.title(\"Distribution of the subreddit\", fontsize = 18); #title\n"
   ]
  },
  {
   "cell_type": "code",
   "execution_count": 159,
   "id": "6cbc1571-e1ee-4dc7-ae18-8ef5034f1939",
   "metadata": {},
   "outputs": [],
   "source": [
    "#save a copy of the df\n",
    "df = df.to_csv('../data/df.csv', index = False)"
   ]
  },
  {
   "cell_type": "code",
   "execution_count": 160,
   "id": "6a6c2558-d8f5-4349-b179-d4cccbc64483",
   "metadata": {},
   "outputs": [
    {
     "data": {
      "text/html": [
       "<div>\n",
       "<style scoped>\n",
       "    .dataframe tbody tr th:only-of-type {\n",
       "        vertical-align: middle;\n",
       "    }\n",
       "\n",
       "    .dataframe tbody tr th {\n",
       "        vertical-align: top;\n",
       "    }\n",
       "\n",
       "    .dataframe thead th {\n",
       "        text-align: right;\n",
       "    }\n",
       "</style>\n",
       "<table border=\"1\" class=\"dataframe\">\n",
       "  <thead>\n",
       "    <tr style=\"text-align: right;\">\n",
       "      <th></th>\n",
       "      <th>subreddit</th>\n",
       "      <th>stemmatized_lemmatized_text</th>\n",
       "    </tr>\n",
       "  </thead>\n",
       "  <tbody>\n",
       "    <tr>\n",
       "      <th>0</th>\n",
       "      <td>hotels</td>\n",
       "      <td>['doubl', 'book', 'egregi', 'hotel', 'cancel',...</td>\n",
       "    </tr>\n",
       "    <tr>\n",
       "      <th>1</th>\n",
       "      <td>hotels</td>\n",
       "      <td>['hotel', 'hello', 'all', 'i', 'am', 'current'...</td>\n",
       "    </tr>\n",
       "    <tr>\n",
       "      <th>2</th>\n",
       "      <td>hotels</td>\n",
       "      <td>['park', 'pa']</td>\n",
       "    </tr>\n",
       "    <tr>\n",
       "      <th>3</th>\n",
       "      <td>hotels</td>\n",
       "      <td>['a', 'journey', 'through', 'the', 'hotel', 'c...</td>\n",
       "    </tr>\n",
       "    <tr>\n",
       "      <th>4</th>\n",
       "      <td>hotels</td>\n",
       "      <td>['chime', 'card', 'at', 'la']</td>\n",
       "    </tr>\n",
       "  </tbody>\n",
       "</table>\n",
       "</div>"
      ],
      "text/plain": [
       "  subreddit                        stemmatized_lemmatized_text\n",
       "0    hotels  ['doubl', 'book', 'egregi', 'hotel', 'cancel',...\n",
       "1    hotels  ['hotel', 'hello', 'all', 'i', 'am', 'current'...\n",
       "2    hotels                                     ['park', 'pa']\n",
       "3    hotels  ['a', 'journey', 'through', 'the', 'hotel', 'c...\n",
       "4    hotels                      ['chime', 'card', 'at', 'la']"
      ]
     },
     "execution_count": 160,
     "metadata": {},
     "output_type": "execute_result"
    }
   ],
   "source": [
    "#Read in the data\n",
    "df = pd.read_csv('../data/df.csv')\n",
    "#Check to see if it worked\n",
    "df.head()"
   ]
  },
  {
   "cell_type": "code",
   "execution_count": null,
   "id": "8dd5984f-57e2-43b3-87e3-dc97341f7bdb",
   "metadata": {},
   "outputs": [],
   "source": []
  },
  {
   "cell_type": "code",
   "execution_count": null,
   "id": "0da6d07b-2bee-406d-936a-33f89153625d",
   "metadata": {},
   "outputs": [],
   "source": []
  },
  {
   "cell_type": "code",
   "execution_count": null,
   "id": "a83d9eeb-745c-4fb9-a3ac-d2ca38710373",
   "metadata": {},
   "outputs": [],
   "source": []
  },
  {
   "cell_type": "markdown",
   "id": "cd221b26-e85e-4e7b-9bd8-661eb26b039d",
   "metadata": {},
   "source": [
    "### Text vectorisation\n",
    "Models cannot interpret words. Instead, the words have to be converted into numbers using a process known as vectorisation."
   ]
  },
  {
   "cell_type": "code",
   "execution_count": 194,
   "id": "0023f3c3-7ee7-4e31-96a9-1735d4c9e204",
   "metadata": {},
   "outputs": [
    {
     "name": "stdout",
     "output_type": "stream",
     "text": [
      "(9568, 35554)\n",
      "(9568,)\n"
     ]
    }
   ],
   "source": [
    "texts = df['stemmatized_lemmatized_text'].astype('str')\n",
    "\n",
    "tfidf_vectorizer = TfidfVectorizer(ngram_range=(1, 2), \n",
    "                                   min_df = 2, \n",
    "                                   max_df = .95)\n",
    "\n",
    "X = tfidf_vectorizer.fit_transform(texts) #features\n",
    "y = df['subreddit'].values #target\n",
    "\n",
    "print (X.shape)\n",
    "print(y.shape)"
   ]
  },
  {
   "cell_type": "code",
   "execution_count": 162,
   "id": "1d5b5647-1c5e-49dd-b547-0f9ed7af363a",
   "metadata": {},
   "outputs": [
    {
     "data": {
      "text/plain": [
       "<9568x35554 sparse matrix of type '<class 'numpy.float64'>'\n",
       "\twith 458215 stored elements in Compressed Sparse Row format>"
      ]
     },
     "execution_count": 162,
     "metadata": {},
     "output_type": "execute_result"
    }
   ],
   "source": [
    "X"
   ]
  },
  {
   "cell_type": "code",
   "execution_count": 163,
   "id": "36df13c6-c6ae-48f9-b5b6-9d6bc3b57e2c",
   "metadata": {},
   "outputs": [],
   "source": [
    "#Dimenionality reduction. Only using the 100 best features er category\n",
    "\n",
    "#lsa = TruncatedSVD(n_components=100, \n",
    " #                  n_iter=10, \n",
    "  #                 random_state=42)\n",
    "#\n",
    "#X = lsa.fit_transform(X)\n",
    "#X.shape"
   ]
  },
  {
   "cell_type": "code",
   "execution_count": 164,
   "id": "755cf1e0-fa07-4c1e-93ae-b20f91588d44",
   "metadata": {},
   "outputs": [
    {
     "data": {
      "text/plain": [
       "<9568x35554 sparse matrix of type '<class 'numpy.float64'>'\n",
       "\twith 458215 stored elements in Compressed Sparse Row format>"
      ]
     },
     "execution_count": 164,
     "metadata": {},
     "output_type": "execute_result"
    }
   ],
   "source": [
    "X"
   ]
  },
  {
   "cell_type": "code",
   "execution_count": 165,
   "id": "4d303b0a-3fa3-4a23-9e1b-5e563c90d198",
   "metadata": {},
   "outputs": [],
   "source": [
    "#Preliminary model evaluation using default parameters\n",
    "\n",
    "#Creating a dict of the models\n",
    "model_dict = {'Random Forest': RandomForestClassifier(random_state=42),\n",
    "              'Decsision Tree': DecisionTreeClassifier(random_state=42),\n",
    "              'LogisticRegression': LogisticRegression(random_state=42),\n",
    "              'Multinomial Naive Bayes': MultinomialNB(),\n",
    "              'K Nearest Neighbor': KNeighborsClassifier()}"
   ]
  },
  {
   "cell_type": "markdown",
   "id": "e462821f-088d-474b-91da-f8c1deb490c3",
   "metadata": {},
   "source": [
    "## Train-test split"
   ]
  },
  {
   "cell_type": "code",
   "execution_count": 166,
   "id": "ae99da52-daa7-493e-a062-e51218fc3efa",
   "metadata": {},
   "outputs": [],
   "source": [
    "#Train test split with stratified sampling for evaluation\n",
    "X_train, X_test, y_train, y_test = train_test_split(X, \n",
    "                                                    y, \n",
    "                                                    test_size = .3,  # 70% train 30% test\n",
    "                                                    shuffle = True, # shuffles data prior to splitting\n",
    "                                                    stratify = y, # distribution of classes across train and test\n",
    "                                                    random_state = 3)# ensures same split each time to allow repeatability"
   ]
  },
  {
   "cell_type": "code",
   "execution_count": 167,
   "id": "9de0774e-6ab6-4da8-a651-6939a4de89c5",
   "metadata": {},
   "outputs": [
    {
     "data": {
      "text/plain": [
       "<6697x35554 sparse matrix of type '<class 'numpy.float64'>'\n",
       "\twith 316268 stored elements in Compressed Sparse Row format>"
      ]
     },
     "execution_count": 167,
     "metadata": {},
     "output_type": "execute_result"
    }
   ],
   "source": [
    "X_train"
   ]
  },
  {
   "cell_type": "code",
   "execution_count": 210,
   "id": "8cbe22aa-494d-44d1-a119-bb5a8c155c92",
   "metadata": {},
   "outputs": [
    {
     "data": {
      "text/plain": [
       "<bound method DataFrame.reset_index of                 model_name accuracy_score precision_score recall_score  \\\n",
       "2       LogisticRegression       0.946708        0.946665     0.946772   \n",
       "0            Random Forest       0.924765        0.924805     0.924679   \n",
       "1           Decsision Tree       0.914316        0.914289     0.914289   \n",
       "3  Multinomial Naive Bayes       0.914316        0.921528     0.913187   \n",
       "4       K Nearest Neighbor       0.524208        0.730167      0.53245   \n",
       "\n",
       "   f1_score  \n",
       "2  0.946699  \n",
       "0  0.924731  \n",
       "1  0.914289  \n",
       "3  0.913767  \n",
       "4  0.400303  >"
      ]
     },
     "execution_count": 210,
     "metadata": {},
     "output_type": "execute_result"
    }
   ],
   "source": [
    "#Function to get the scores for each model in a df\n",
    "def model_score_df(df):   \n",
    "    model_name, ac_score_list, p_score_list, r_score_list, f1_score_list = [], [], [], [], []\n",
    "    for k,v in model_dict.items():   \n",
    "        model_name.append(k)\n",
    "        v.fit(X_train, y_train)\n",
    "        y_pred = v.predict(X_test)\n",
    "        ac_score_list.append(accuracy_score(y_test, y_pred))\n",
    "        p_score_list.append(precision_score(y_test, y_pred, average='macro'))\n",
    "        r_score_list.append(recall_score(y_test, y_pred, average='macro'))\n",
    "        f1_score_list.append(f1_score(y_test, y_pred, average='macro'))\n",
    "        model_comparison_df = pd.DataFrame([model_name, ac_score_list, p_score_list, r_score_list, f1_score_list]).T\n",
    "        model_comparison_df.columns = ['model_name', 'accuracy_score', 'precision_score', 'recall_score', 'f1_score']\n",
    "        model_comparison_df = model_comparison_df.sort_values(by='f1_score', ascending=False)\n",
    "    return model_comparison_df\n",
    "\n",
    "model_score_df(df).reset_index"
   ]
  },
  {
   "cell_type": "markdown",
   "id": "358233ef-fe6e-43b7-98c2-0a995cb700bb",
   "metadata": {},
   "source": [
    "### LogisticRegression  Confusion Matrix"
   ]
  },
  {
   "cell_type": "markdown",
   "id": "2f0e2e9f-576c-49a9-bcdb-2ef81330b949",
   "metadata": {},
   "source": [
    "The confusion matrix we will create our true values and predicted values.\n",
    "\n",
    "Getting our testing predictions\n",
    "\n"
   ]
  },
  {
   "cell_type": "code",
   "execution_count": null,
   "id": "cd737502-f128-4e40-b02a-a3024652afd1",
   "metadata": {},
   "outputs": [],
   "source": []
  },
  {
   "cell_type": "code",
   "execution_count": null,
   "id": "378d301c-60e9-4b01-b9b9-ad8d82377e78",
   "metadata": {},
   "outputs": [],
   "source": []
  },
  {
   "cell_type": "code",
   "execution_count": null,
   "id": "bb1166da-4e4e-464f-b345-7b30d6f78824",
   "metadata": {},
   "outputs": [],
   "source": []
  },
  {
   "cell_type": "code",
   "execution_count": 169,
   "id": "5b52fde5-a259-4563-bdd0-2c8252c825c4",
   "metadata": {},
   "outputs": [],
   "source": [
    "rf_best_model = RandomForestClassifier(bootstrap = False,\n",
    "                                       max_depth = 50,\n",
    "                                       max_features = 'auto',\n",
    "                                       min_samples_leaf = 1,\n",
    "                                       n_estimators = 1400,\n",
    "                                       random_state=3)"
   ]
  },
  {
   "cell_type": "code",
   "execution_count": null,
   "id": "445b98cb-efe1-4f16-a124-47b717dfdac1",
   "metadata": {},
   "outputs": [],
   "source": []
  },
  {
   "cell_type": "code",
   "execution_count": null,
   "id": "e2c4200e-52b4-40a0-a23e-ad7245df8b5e",
   "metadata": {},
   "outputs": [],
   "source": []
  },
  {
   "cell_type": "code",
   "execution_count": null,
   "id": "1f751684-43df-4a92-9bb2-f1515826dc1d",
   "metadata": {},
   "outputs": [],
   "source": []
  },
  {
   "cell_type": "code",
   "execution_count": 176,
   "id": "56779d74-fbc5-4ba3-a6bd-6b09a8c2735f",
   "metadata": {},
   "outputs": [
    {
     "name": "stdout",
     "output_type": "stream",
     "text": [
      "No Skill: ROC AUC=0.500\n",
      "Logistic: ROC AUC=0.903\n"
     ]
    },
    {
     "data": {
      "image/png": "[encoded data removed]",
      "text/plain": [
       "<Figure size 640x480 with 1 Axes>"
      ]
     },
     "metadata": {},
     "output_type": "display_data"
    }
   ],
   "source": [
    "# roc curve and auc\n",
    "from sklearn.datasets import make_classification\n",
    "from sklearn.linear_model import LogisticRegression\n",
    "from sklearn.model_selection import train_test_split\n",
    "from sklearn.metrics import roc_curve\n",
    "from sklearn.metrics import roc_auc_score\n",
    "from matplotlib import pyplot\n",
    "# generate 2 class dataset\n",
    "X, y = make_classification(n_samples=1000, n_classes=2, random_state=1)\n",
    "# split into train/test sets\n",
    "trainX, testX, trainy, testy = train_test_split(X, y, test_size=0.5, random_state=2)\n",
    "# generate a no skill prediction (majority class)\n",
    "ns_probs = [0 for _ in range(len(testy))]\n",
    "# fit a model\n",
    "model = LogisticRegression(solver='lbfgs')\n",
    "model.fit(trainX, trainy)\n",
    "# predict probabilities\n",
    "lr_probs = model.predict_proba(testX)\n",
    "# keep probabilities for the positive outcome only\n",
    "lr_probs = lr_probs[:, 1]\n",
    "# calculate scores\n",
    "ns_auc = roc_auc_score(testy, ns_probs)\n",
    "lr_auc = roc_auc_score(testy, lr_probs)\n",
    "# summarize scores\n",
    "print('No Skill: ROC AUC=%.3f' % (ns_auc))\n",
    "print('Logistic: ROC AUC=%.3f' % (lr_auc))\n",
    "# calculate roc curves\n",
    "ns_fpr, ns_tpr, _ = roc_curve(testy, ns_probs)\n",
    "lr_fpr, lr_tpr, _ = roc_curve(testy, lr_probs)\n",
    "# plot the roc curve for the model\n",
    "pyplot.plot(ns_fpr, ns_tpr, linestyle='--', label='No Skill')\n",
    "pyplot.plot(lr_fpr, lr_tpr, marker='.', label='RF')\n",
    "# axis labels\n",
    "plt.title('Receiver Operating Characteristic - RF', fontsize = 16)\n",
    "pyplot.xlabel('False Positive Rate')\n",
    "pyplot.ylabel('True Positive Rate')\n",
    "# show the legend\n",
    "pyplot.legend()\n",
    "# show the plot\n",
    "pyplot.show()"
   ]
  },
  {
   "cell_type": "code",
   "execution_count": 177,
   "id": "62d5dfd8-2c1b-450d-b4c5-b84abdf33b28",
   "metadata": {
    "collapsed": true,
    "jupyter": {
     "outputs_hidden": true
    },
    "tags": []
   },
   "outputs": [
    {
     "name": "stderr",
     "output_type": "stream",
     "text": [
      "C:\\Users\\clair\\miniconda3\\envs\\dsi-sg\\lib\\site-packages\\sklearn\\ensemble\\_forest.py:427: FutureWarning: `max_features='auto'` has been deprecated in 1.1 and will be removed in 1.3. To keep the past behaviour, explicitly set `max_features='sqrt'` or remove this parameter as it is also the default value for RandomForestClassifiers and ExtraTreesClassifiers.\n",
      "  warn(\n"
     ]
    },
    {
     "ename": "KeyboardInterrupt",
     "evalue": "",
     "output_type": "error",
     "traceback": [
      "\u001b[1;31m---------------------------------------------------------------------------\u001b[0m",
      "\u001b[1;31mKeyboardInterrupt\u001b[0m                         Traceback (most recent call last)",
      "Cell \u001b[1;32mIn [177], line 4\u001b[0m\n\u001b[0;32m      1\u001b[0m \u001b[38;5;66;03m#Confusion Matrix - RF\u001b[39;00m\n\u001b[0;32m      2\u001b[0m \n\u001b[0;32m      3\u001b[0m \u001b[38;5;66;03m#Fit the training data\u001b[39;00m\n\u001b[1;32m----> 4\u001b[0m \u001b[43mrf_best_model\u001b[49m\u001b[38;5;241;43m.\u001b[39;49m\u001b[43mfit\u001b[49m\u001b[43m(\u001b[49m\u001b[43mX_train\u001b[49m\u001b[43m,\u001b[49m\u001b[43m \u001b[49m\u001b[43my_train\u001b[49m\u001b[43m)\u001b[49m\n\u001b[0;32m      6\u001b[0m \u001b[38;5;66;03m#Predict the testing data\u001b[39;00m\n\u001b[0;32m      7\u001b[0m y_pred \u001b[38;5;241m=\u001b[39m rf_best_model\u001b[38;5;241m.\u001b[39mpredict(X_test)\n",
      "File \u001b[1;32m~\\miniconda3\\envs\\dsi-sg\\lib\\site-packages\\sklearn\\ensemble\\_forest.py:476\u001b[0m, in \u001b[0;36mBaseForest.fit\u001b[1;34m(self, X, y, sample_weight)\u001b[0m\n\u001b[0;32m    465\u001b[0m trees \u001b[38;5;241m=\u001b[39m [\n\u001b[0;32m    466\u001b[0m     \u001b[38;5;28mself\u001b[39m\u001b[38;5;241m.\u001b[39m_make_estimator(append\u001b[38;5;241m=\u001b[39m\u001b[38;5;28;01mFalse\u001b[39;00m, random_state\u001b[38;5;241m=\u001b[39mrandom_state)\n\u001b[0;32m    467\u001b[0m     \u001b[38;5;28;01mfor\u001b[39;00m i \u001b[38;5;129;01min\u001b[39;00m \u001b[38;5;28mrange\u001b[39m(n_more_estimators)\n\u001b[0;32m    468\u001b[0m ]\n\u001b[0;32m    470\u001b[0m \u001b[38;5;66;03m# Parallel loop: we prefer the threading backend as the Cython code\u001b[39;00m\n\u001b[0;32m    471\u001b[0m \u001b[38;5;66;03m# for fitting the trees is internally releasing the Python GIL\u001b[39;00m\n\u001b[0;32m    472\u001b[0m \u001b[38;5;66;03m# making threading more efficient than multiprocessing in\u001b[39;00m\n\u001b[0;32m    473\u001b[0m \u001b[38;5;66;03m# that case. However, for joblib 0.12+ we respect any\u001b[39;00m\n\u001b[0;32m    474\u001b[0m \u001b[38;5;66;03m# parallel_backend contexts set at a higher level,\u001b[39;00m\n\u001b[0;32m    475\u001b[0m \u001b[38;5;66;03m# since correctness does not rely on using threads.\u001b[39;00m\n\u001b[1;32m--> 476\u001b[0m trees \u001b[38;5;241m=\u001b[39m \u001b[43mParallel\u001b[49m\u001b[43m(\u001b[49m\n\u001b[0;32m    477\u001b[0m \u001b[43m    \u001b[49m\u001b[43mn_jobs\u001b[49m\u001b[38;5;241;43m=\u001b[39;49m\u001b[38;5;28;43mself\u001b[39;49m\u001b[38;5;241;43m.\u001b[39;49m\u001b[43mn_jobs\u001b[49m\u001b[43m,\u001b[49m\n\u001b[0;32m    478\u001b[0m \u001b[43m    \u001b[49m\u001b[43mverbose\u001b[49m\u001b[38;5;241;43m=\u001b[39;49m\u001b[38;5;28;43mself\u001b[39;49m\u001b[38;5;241;43m.\u001b[39;49m\u001b[43mverbose\u001b[49m\u001b[43m,\u001b[49m\n\u001b[0;32m    479\u001b[0m \u001b[43m    \u001b[49m\u001b[43mprefer\u001b[49m\u001b[38;5;241;43m=\u001b[39;49m\u001b[38;5;124;43m\"\u001b[39;49m\u001b[38;5;124;43mthreads\u001b[39;49m\u001b[38;5;124;43m\"\u001b[39;49m\u001b[43m,\u001b[49m\n\u001b[0;32m    480\u001b[0m \u001b[43m\u001b[49m\u001b[43m)\u001b[49m\u001b[43m(\u001b[49m\n\u001b[0;32m    481\u001b[0m \u001b[43m    \u001b[49m\u001b[43mdelayed\u001b[49m\u001b[43m(\u001b[49m\u001b[43m_parallel_build_trees\u001b[49m\u001b[43m)\u001b[49m\u001b[43m(\u001b[49m\n\u001b[0;32m    482\u001b[0m \u001b[43m        \u001b[49m\u001b[43mt\u001b[49m\u001b[43m,\u001b[49m\n\u001b[0;32m    483\u001b[0m \u001b[43m        \u001b[49m\u001b[38;5;28;43mself\u001b[39;49m\u001b[38;5;241;43m.\u001b[39;49m\u001b[43mbootstrap\u001b[49m\u001b[43m,\u001b[49m\n\u001b[0;32m    484\u001b[0m \u001b[43m        \u001b[49m\u001b[43mX\u001b[49m\u001b[43m,\u001b[49m\n\u001b[0;32m    485\u001b[0m \u001b[43m        \u001b[49m\u001b[43my\u001b[49m\u001b[43m,\u001b[49m\n\u001b[0;32m    486\u001b[0m \u001b[43m        \u001b[49m\u001b[43msample_weight\u001b[49m\u001b[43m,\u001b[49m\n\u001b[0;32m    487\u001b[0m \u001b[43m        \u001b[49m\u001b[43mi\u001b[49m\u001b[43m,\u001b[49m\n\u001b[0;32m    488\u001b[0m \u001b[43m        \u001b[49m\u001b[38;5;28;43mlen\u001b[39;49m\u001b[43m(\u001b[49m\u001b[43mtrees\u001b[49m\u001b[43m)\u001b[49m\u001b[43m,\u001b[49m\n\u001b[0;32m    489\u001b[0m \u001b[43m        \u001b[49m\u001b[43mverbose\u001b[49m\u001b[38;5;241;43m=\u001b[39;49m\u001b[38;5;28;43mself\u001b[39;49m\u001b[38;5;241;43m.\u001b[39;49m\u001b[43mverbose\u001b[49m\u001b[43m,\u001b[49m\n\u001b[0;32m    490\u001b[0m \u001b[43m        \u001b[49m\u001b[43mclass_weight\u001b[49m\u001b[38;5;241;43m=\u001b[39;49m\u001b[38;5;28;43mself\u001b[39;49m\u001b[38;5;241;43m.\u001b[39;49m\u001b[43mclass_weight\u001b[49m\u001b[43m,\u001b[49m\n\u001b[0;32m    491\u001b[0m \u001b[43m        \u001b[49m\u001b[43mn_samples_bootstrap\u001b[49m\u001b[38;5;241;43m=\u001b[39;49m\u001b[43mn_samples_bootstrap\u001b[49m\u001b[43m,\u001b[49m\n\u001b[0;32m    492\u001b[0m \u001b[43m    \u001b[49m\u001b[43m)\u001b[49m\n\u001b[0;32m    493\u001b[0m \u001b[43m    \u001b[49m\u001b[38;5;28;43;01mfor\u001b[39;49;00m\u001b[43m \u001b[49m\u001b[43mi\u001b[49m\u001b[43m,\u001b[49m\u001b[43m \u001b[49m\u001b[43mt\u001b[49m\u001b[43m \u001b[49m\u001b[38;5;129;43;01min\u001b[39;49;00m\u001b[43m \u001b[49m\u001b[38;5;28;43menumerate\u001b[39;49m\u001b[43m(\u001b[49m\u001b[43mtrees\u001b[49m\u001b[43m)\u001b[49m\n\u001b[0;32m    494\u001b[0m \u001b[43m\u001b[49m\u001b[43m)\u001b[49m\n\u001b[0;32m    496\u001b[0m \u001b[38;5;66;03m# Collect newly grown trees\u001b[39;00m\n\u001b[0;32m    497\u001b[0m \u001b[38;5;28mself\u001b[39m\u001b[38;5;241m.\u001b[39mestimators_\u001b[38;5;241m.\u001b[39mextend(trees)\n",
      "File \u001b[1;32m~\\miniconda3\\envs\\dsi-sg\\lib\\site-packages\\joblib\\parallel.py:1051\u001b[0m, in \u001b[0;36mParallel.__call__\u001b[1;34m(self, iterable)\u001b[0m\n\u001b[0;32m   1048\u001b[0m \u001b[38;5;28;01mif\u001b[39;00m \u001b[38;5;28mself\u001b[39m\u001b[38;5;241m.\u001b[39mdispatch_one_batch(iterator):\n\u001b[0;32m   1049\u001b[0m     \u001b[38;5;28mself\u001b[39m\u001b[38;5;241m.\u001b[39m_iterating \u001b[38;5;241m=\u001b[39m \u001b[38;5;28mself\u001b[39m\u001b[38;5;241m.\u001b[39m_original_iterator \u001b[38;5;129;01mis\u001b[39;00m \u001b[38;5;129;01mnot\u001b[39;00m \u001b[38;5;28;01mNone\u001b[39;00m\n\u001b[1;32m-> 1051\u001b[0m \u001b[38;5;28;01mwhile\u001b[39;00m \u001b[38;5;28;43mself\u001b[39;49m\u001b[38;5;241;43m.\u001b[39;49m\u001b[43mdispatch_one_batch\u001b[49m\u001b[43m(\u001b[49m\u001b[43miterator\u001b[49m\u001b[43m)\u001b[49m:\n\u001b[0;32m   1052\u001b[0m     \u001b[38;5;28;01mpass\u001b[39;00m\n\u001b[0;32m   1054\u001b[0m \u001b[38;5;28;01mif\u001b[39;00m pre_dispatch \u001b[38;5;241m==\u001b[39m \u001b[38;5;124m\"\u001b[39m\u001b[38;5;124mall\u001b[39m\u001b[38;5;124m\"\u001b[39m \u001b[38;5;129;01mor\u001b[39;00m n_jobs \u001b[38;5;241m==\u001b[39m \u001b[38;5;241m1\u001b[39m:\n\u001b[0;32m   1055\u001b[0m     \u001b[38;5;66;03m# The iterable was consumed all at once by the above for loop.\u001b[39;00m\n\u001b[0;32m   1056\u001b[0m     \u001b[38;5;66;03m# No need to wait for async callbacks to trigger to\u001b[39;00m\n\u001b[0;32m   1057\u001b[0m     \u001b[38;5;66;03m# consumption.\u001b[39;00m\n",
      "File \u001b[1;32m~\\miniconda3\\envs\\dsi-sg\\lib\\site-packages\\joblib\\parallel.py:864\u001b[0m, in \u001b[0;36mParallel.dispatch_one_batch\u001b[1;34m(self, iterator)\u001b[0m\n\u001b[0;32m    862\u001b[0m     \u001b[38;5;28;01mreturn\u001b[39;00m \u001b[38;5;28;01mFalse\u001b[39;00m\n\u001b[0;32m    863\u001b[0m \u001b[38;5;28;01melse\u001b[39;00m:\n\u001b[1;32m--> 864\u001b[0m     \u001b[38;5;28;43mself\u001b[39;49m\u001b[38;5;241;43m.\u001b[39;49m\u001b[43m_dispatch\u001b[49m\u001b[43m(\u001b[49m\u001b[43mtasks\u001b[49m\u001b[43m)\u001b[49m\n\u001b[0;32m    865\u001b[0m     \u001b[38;5;28;01mreturn\u001b[39;00m \u001b[38;5;28;01mTrue\u001b[39;00m\n",
      "File \u001b[1;32m~\\miniconda3\\envs\\dsi-sg\\lib\\site-packages\\joblib\\parallel.py:782\u001b[0m, in \u001b[0;36mParallel._dispatch\u001b[1;34m(self, batch)\u001b[0m\n\u001b[0;32m    780\u001b[0m \u001b[38;5;28;01mwith\u001b[39;00m \u001b[38;5;28mself\u001b[39m\u001b[38;5;241m.\u001b[39m_lock:\n\u001b[0;32m    781\u001b[0m     job_idx \u001b[38;5;241m=\u001b[39m \u001b[38;5;28mlen\u001b[39m(\u001b[38;5;28mself\u001b[39m\u001b[38;5;241m.\u001b[39m_jobs)\n\u001b[1;32m--> 782\u001b[0m     job \u001b[38;5;241m=\u001b[39m \u001b[38;5;28;43mself\u001b[39;49m\u001b[38;5;241;43m.\u001b[39;49m\u001b[43m_backend\u001b[49m\u001b[38;5;241;43m.\u001b[39;49m\u001b[43mapply_async\u001b[49m\u001b[43m(\u001b[49m\u001b[43mbatch\u001b[49m\u001b[43m,\u001b[49m\u001b[43m \u001b[49m\u001b[43mcallback\u001b[49m\u001b[38;5;241;43m=\u001b[39;49m\u001b[43mcb\u001b[49m\u001b[43m)\u001b[49m\n\u001b[0;32m    783\u001b[0m     \u001b[38;5;66;03m# A job can complete so quickly than its callback is\u001b[39;00m\n\u001b[0;32m    784\u001b[0m     \u001b[38;5;66;03m# called before we get here, causing self._jobs to\u001b[39;00m\n\u001b[0;32m    785\u001b[0m     \u001b[38;5;66;03m# grow. To ensure correct results ordering, .insert is\u001b[39;00m\n\u001b[0;32m    786\u001b[0m     \u001b[38;5;66;03m# used (rather than .append) in the following line\u001b[39;00m\n\u001b[0;32m    787\u001b[0m     \u001b[38;5;28mself\u001b[39m\u001b[38;5;241m.\u001b[39m_jobs\u001b[38;5;241m.\u001b[39minsert(job_idx, job)\n",
      "File \u001b[1;32m~\\miniconda3\\envs\\dsi-sg\\lib\\site-packages\\joblib\\_parallel_backends.py:208\u001b[0m, in \u001b[0;36mSequentialBackend.apply_async\u001b[1;34m(self, func, callback)\u001b[0m\n\u001b[0;32m    206\u001b[0m \u001b[38;5;28;01mdef\u001b[39;00m \u001b[38;5;21mapply_async\u001b[39m(\u001b[38;5;28mself\u001b[39m, func, callback\u001b[38;5;241m=\u001b[39m\u001b[38;5;28;01mNone\u001b[39;00m):\n\u001b[0;32m    207\u001b[0m     \u001b[38;5;124;03m\"\"\"Schedule a func to be run\"\"\"\u001b[39;00m\n\u001b[1;32m--> 208\u001b[0m     result \u001b[38;5;241m=\u001b[39m \u001b[43mImmediateResult\u001b[49m\u001b[43m(\u001b[49m\u001b[43mfunc\u001b[49m\u001b[43m)\u001b[49m\n\u001b[0;32m    209\u001b[0m     \u001b[38;5;28;01mif\u001b[39;00m callback:\n\u001b[0;32m    210\u001b[0m         callback(result)\n",
      "File \u001b[1;32m~\\miniconda3\\envs\\dsi-sg\\lib\\site-packages\\joblib\\_parallel_backends.py:572\u001b[0m, in \u001b[0;36mImmediateResult.__init__\u001b[1;34m(self, batch)\u001b[0m\n\u001b[0;32m    569\u001b[0m \u001b[38;5;28;01mdef\u001b[39;00m \u001b[38;5;21m__init__\u001b[39m(\u001b[38;5;28mself\u001b[39m, batch):\n\u001b[0;32m    570\u001b[0m     \u001b[38;5;66;03m# Don't delay the application, to avoid keeping the input\u001b[39;00m\n\u001b[0;32m    571\u001b[0m     \u001b[38;5;66;03m# arguments in memory\u001b[39;00m\n\u001b[1;32m--> 572\u001b[0m     \u001b[38;5;28mself\u001b[39m\u001b[38;5;241m.\u001b[39mresults \u001b[38;5;241m=\u001b[39m \u001b[43mbatch\u001b[49m\u001b[43m(\u001b[49m\u001b[43m)\u001b[49m\n",
      "File \u001b[1;32m~\\miniconda3\\envs\\dsi-sg\\lib\\site-packages\\joblib\\parallel.py:263\u001b[0m, in \u001b[0;36mBatchedCalls.__call__\u001b[1;34m(self)\u001b[0m\n\u001b[0;32m    259\u001b[0m \u001b[38;5;28;01mdef\u001b[39;00m \u001b[38;5;21m__call__\u001b[39m(\u001b[38;5;28mself\u001b[39m):\n\u001b[0;32m    260\u001b[0m     \u001b[38;5;66;03m# Set the default nested backend to self._backend but do not set the\u001b[39;00m\n\u001b[0;32m    261\u001b[0m     \u001b[38;5;66;03m# change the default number of processes to -1\u001b[39;00m\n\u001b[0;32m    262\u001b[0m     \u001b[38;5;28;01mwith\u001b[39;00m parallel_backend(\u001b[38;5;28mself\u001b[39m\u001b[38;5;241m.\u001b[39m_backend, n_jobs\u001b[38;5;241m=\u001b[39m\u001b[38;5;28mself\u001b[39m\u001b[38;5;241m.\u001b[39m_n_jobs):\n\u001b[1;32m--> 263\u001b[0m         \u001b[38;5;28;01mreturn\u001b[39;00m [func(\u001b[38;5;241m*\u001b[39margs, \u001b[38;5;241m*\u001b[39m\u001b[38;5;241m*\u001b[39mkwargs)\n\u001b[0;32m    264\u001b[0m                 \u001b[38;5;28;01mfor\u001b[39;00m func, args, kwargs \u001b[38;5;129;01min\u001b[39;00m \u001b[38;5;28mself\u001b[39m\u001b[38;5;241m.\u001b[39mitems]\n",
      "File \u001b[1;32m~\\miniconda3\\envs\\dsi-sg\\lib\\site-packages\\joblib\\parallel.py:263\u001b[0m, in \u001b[0;36m<listcomp>\u001b[1;34m(.0)\u001b[0m\n\u001b[0;32m    259\u001b[0m \u001b[38;5;28;01mdef\u001b[39;00m \u001b[38;5;21m__call__\u001b[39m(\u001b[38;5;28mself\u001b[39m):\n\u001b[0;32m    260\u001b[0m     \u001b[38;5;66;03m# Set the default nested backend to self._backend but do not set the\u001b[39;00m\n\u001b[0;32m    261\u001b[0m     \u001b[38;5;66;03m# change the default number of processes to -1\u001b[39;00m\n\u001b[0;32m    262\u001b[0m     \u001b[38;5;28;01mwith\u001b[39;00m parallel_backend(\u001b[38;5;28mself\u001b[39m\u001b[38;5;241m.\u001b[39m_backend, n_jobs\u001b[38;5;241m=\u001b[39m\u001b[38;5;28mself\u001b[39m\u001b[38;5;241m.\u001b[39m_n_jobs):\n\u001b[1;32m--> 263\u001b[0m         \u001b[38;5;28;01mreturn\u001b[39;00m [func(\u001b[38;5;241m*\u001b[39margs, \u001b[38;5;241m*\u001b[39m\u001b[38;5;241m*\u001b[39mkwargs)\n\u001b[0;32m    264\u001b[0m                 \u001b[38;5;28;01mfor\u001b[39;00m func, args, kwargs \u001b[38;5;129;01min\u001b[39;00m \u001b[38;5;28mself\u001b[39m\u001b[38;5;241m.\u001b[39mitems]\n",
      "File \u001b[1;32m~\\miniconda3\\envs\\dsi-sg\\lib\\site-packages\\sklearn\\utils\\fixes.py:117\u001b[0m, in \u001b[0;36m_FuncWrapper.__call__\u001b[1;34m(self, *args, **kwargs)\u001b[0m\n\u001b[0;32m    115\u001b[0m \u001b[38;5;28;01mdef\u001b[39;00m \u001b[38;5;21m__call__\u001b[39m(\u001b[38;5;28mself\u001b[39m, \u001b[38;5;241m*\u001b[39margs, \u001b[38;5;241m*\u001b[39m\u001b[38;5;241m*\u001b[39mkwargs):\n\u001b[0;32m    116\u001b[0m     \u001b[38;5;28;01mwith\u001b[39;00m config_context(\u001b[38;5;241m*\u001b[39m\u001b[38;5;241m*\u001b[39m\u001b[38;5;28mself\u001b[39m\u001b[38;5;241m.\u001b[39mconfig):\n\u001b[1;32m--> 117\u001b[0m         \u001b[38;5;28;01mreturn\u001b[39;00m \u001b[38;5;28mself\u001b[39m\u001b[38;5;241m.\u001b[39mfunction(\u001b[38;5;241m*\u001b[39margs, \u001b[38;5;241m*\u001b[39m\u001b[38;5;241m*\u001b[39mkwargs)\n",
      "File \u001b[1;32m~\\miniconda3\\envs\\dsi-sg\\lib\\site-packages\\sklearn\\ensemble\\_forest.py:191\u001b[0m, in \u001b[0;36m_parallel_build_trees\u001b[1;34m(tree, bootstrap, X, y, sample_weight, tree_idx, n_trees, verbose, class_weight, n_samples_bootstrap)\u001b[0m\n\u001b[0;32m    189\u001b[0m     tree\u001b[38;5;241m.\u001b[39mfit(X, y, sample_weight\u001b[38;5;241m=\u001b[39mcurr_sample_weight, check_input\u001b[38;5;241m=\u001b[39m\u001b[38;5;28;01mFalse\u001b[39;00m)\n\u001b[0;32m    190\u001b[0m \u001b[38;5;28;01melse\u001b[39;00m:\n\u001b[1;32m--> 191\u001b[0m     \u001b[43mtree\u001b[49m\u001b[38;5;241;43m.\u001b[39;49m\u001b[43mfit\u001b[49m\u001b[43m(\u001b[49m\u001b[43mX\u001b[49m\u001b[43m,\u001b[49m\u001b[43m \u001b[49m\u001b[43my\u001b[49m\u001b[43m,\u001b[49m\u001b[43m \u001b[49m\u001b[43msample_weight\u001b[49m\u001b[38;5;241;43m=\u001b[39;49m\u001b[43msample_weight\u001b[49m\u001b[43m,\u001b[49m\u001b[43m \u001b[49m\u001b[43mcheck_input\u001b[49m\u001b[38;5;241;43m=\u001b[39;49m\u001b[38;5;28;43;01mFalse\u001b[39;49;00m\u001b[43m)\u001b[49m\n\u001b[0;32m    193\u001b[0m \u001b[38;5;28;01mreturn\u001b[39;00m tree\n",
      "File \u001b[1;32m~\\miniconda3\\envs\\dsi-sg\\lib\\site-packages\\sklearn\\tree\\_classes.py:969\u001b[0m, in \u001b[0;36mDecisionTreeClassifier.fit\u001b[1;34m(self, X, y, sample_weight, check_input)\u001b[0m\n\u001b[0;32m    939\u001b[0m \u001b[38;5;28;01mdef\u001b[39;00m \u001b[38;5;21mfit\u001b[39m(\u001b[38;5;28mself\u001b[39m, X, y, sample_weight\u001b[38;5;241m=\u001b[39m\u001b[38;5;28;01mNone\u001b[39;00m, check_input\u001b[38;5;241m=\u001b[39m\u001b[38;5;28;01mTrue\u001b[39;00m):\n\u001b[0;32m    940\u001b[0m     \u001b[38;5;124;03m\"\"\"Build a decision tree classifier from the training set (X, y).\u001b[39;00m\n\u001b[0;32m    941\u001b[0m \n\u001b[0;32m    942\u001b[0m \u001b[38;5;124;03m    Parameters\u001b[39;00m\n\u001b[1;32m   (...)\u001b[0m\n\u001b[0;32m    966\u001b[0m \u001b[38;5;124;03m        Fitted estimator.\u001b[39;00m\n\u001b[0;32m    967\u001b[0m \u001b[38;5;124;03m    \"\"\"\u001b[39;00m\n\u001b[1;32m--> 969\u001b[0m     \u001b[38;5;28;43msuper\u001b[39;49m\u001b[43m(\u001b[49m\u001b[43m)\u001b[49m\u001b[38;5;241;43m.\u001b[39;49m\u001b[43mfit\u001b[49m\u001b[43m(\u001b[49m\n\u001b[0;32m    970\u001b[0m \u001b[43m        \u001b[49m\u001b[43mX\u001b[49m\u001b[43m,\u001b[49m\n\u001b[0;32m    971\u001b[0m \u001b[43m        \u001b[49m\u001b[43my\u001b[49m\u001b[43m,\u001b[49m\n\u001b[0;32m    972\u001b[0m \u001b[43m        \u001b[49m\u001b[43msample_weight\u001b[49m\u001b[38;5;241;43m=\u001b[39;49m\u001b[43msample_weight\u001b[49m\u001b[43m,\u001b[49m\n\u001b[0;32m    973\u001b[0m \u001b[43m        \u001b[49m\u001b[43mcheck_input\u001b[49m\u001b[38;5;241;43m=\u001b[39;49m\u001b[43mcheck_input\u001b[49m\u001b[43m,\u001b[49m\n\u001b[0;32m    974\u001b[0m \u001b[43m    \u001b[49m\u001b[43m)\u001b[49m\n\u001b[0;32m    975\u001b[0m     \u001b[38;5;28;01mreturn\u001b[39;00m \u001b[38;5;28mself\u001b[39m\n",
      "File \u001b[1;32m~\\miniconda3\\envs\\dsi-sg\\lib\\site-packages\\sklearn\\tree\\_classes.py:458\u001b[0m, in \u001b[0;36mBaseDecisionTree.fit\u001b[1;34m(self, X, y, sample_weight, check_input)\u001b[0m\n\u001b[0;32m    447\u001b[0m \u001b[38;5;28;01melse\u001b[39;00m:\n\u001b[0;32m    448\u001b[0m     builder \u001b[38;5;241m=\u001b[39m BestFirstTreeBuilder(\n\u001b[0;32m    449\u001b[0m         splitter,\n\u001b[0;32m    450\u001b[0m         min_samples_split,\n\u001b[1;32m   (...)\u001b[0m\n\u001b[0;32m    455\u001b[0m         \u001b[38;5;28mself\u001b[39m\u001b[38;5;241m.\u001b[39mmin_impurity_decrease,\n\u001b[0;32m    456\u001b[0m     )\n\u001b[1;32m--> 458\u001b[0m \u001b[43mbuilder\u001b[49m\u001b[38;5;241;43m.\u001b[39;49m\u001b[43mbuild\u001b[49m\u001b[43m(\u001b[49m\u001b[38;5;28;43mself\u001b[39;49m\u001b[38;5;241;43m.\u001b[39;49m\u001b[43mtree_\u001b[49m\u001b[43m,\u001b[49m\u001b[43m \u001b[49m\u001b[43mX\u001b[49m\u001b[43m,\u001b[49m\u001b[43m \u001b[49m\u001b[43my\u001b[49m\u001b[43m,\u001b[49m\u001b[43m \u001b[49m\u001b[43msample_weight\u001b[49m\u001b[43m)\u001b[49m\n\u001b[0;32m    460\u001b[0m \u001b[38;5;28;01mif\u001b[39;00m \u001b[38;5;28mself\u001b[39m\u001b[38;5;241m.\u001b[39mn_outputs_ \u001b[38;5;241m==\u001b[39m \u001b[38;5;241m1\u001b[39m \u001b[38;5;129;01mand\u001b[39;00m is_classifier(\u001b[38;5;28mself\u001b[39m):\n\u001b[0;32m    461\u001b[0m     \u001b[38;5;28mself\u001b[39m\u001b[38;5;241m.\u001b[39mn_classes_ \u001b[38;5;241m=\u001b[39m \u001b[38;5;28mself\u001b[39m\u001b[38;5;241m.\u001b[39mn_classes_[\u001b[38;5;241m0\u001b[39m]\n",
      "\u001b[1;31mKeyboardInterrupt\u001b[0m: "
     ]
    }
   ],
   "source": [
    "#Confusion Matrix - RF\n",
    "\n",
    "#Fit the training data\n",
    "rf_best_model.fit(X_train, y_train)\n",
    "\n",
    "#Predict the testing data\n",
    "y_pred = rf_best_model.predict(X_test)\n",
    "\n",
    "#Get the confusion matrix and put it into a df\n",
    "cm = confusion_matrix(y_test, y_pred) \n",
    "\n",
    "cm_df = pd.DataFrame(cm,\n",
    "                     index = ['business','scitech'], \n",
    "                     columns = ['business','scitech'])\n",
    "\n",
    "#Plot the heatmap\n",
    "plt.figure(figsize=(12, 8))\n",
    "\n",
    "sns.heatmap(cm_df, \n",
    "            center=0, \n",
    "            cmap=sns.diverging_palette(220, 15, as_cmap=True), \n",
    "            annot=True, \n",
    "            fmt='g')\n",
    "\n",
    "plt.title('Random Forest \\nF1 Score (avg = macro) : {0:.2f}'.format(f1_score(y_test, y_pred, average='macro')), fontsize = 13)\n",
    "plt.ylabel('True label', fontsize = 13)\n",
    "plt.xlabel('Predicted label', fontsize = 13)\n",
    "plt.show()"
   ]
  },
  {
   "cell_type": "markdown",
   "id": "dd504008-dfe4-47d9-b461-80176430dbb0",
   "metadata": {},
   "source": [
    "### Instantiatie RandomForestClassifier\n",
    "\n"
   ]
  },
  {
   "cell_type": "code",
   "execution_count": 179,
   "id": "bb51be6e-e856-41e0-b1fd-6eaf4a0cf0e3",
   "metadata": {},
   "outputs": [],
   "source": [
    "#trying find the best split point in our fetaures\n",
    "rf = RandomForestClassifier(random_state = 42)\n"
   ]
  },
  {
   "cell_type": "code",
   "execution_count": 181,
   "id": "030239c5-6b40-4da3-8856-79ffdf17f9c1",
   "metadata": {},
   "outputs": [],
   "source": [
    "#got our parameters by trial and error\n",
    "rf_params = {\n",
    "    'n_estimators': [110, 150],\n",
    "    'max_depth': [None, 4, 6],\n",
    "    'criterion': ['gini']\n",
    "}"
   ]
  },
  {
   "cell_type": "markdown",
   "id": "9ad20d63-23b9-41f0-9646-10280a770e1a",
   "metadata": {},
   "source": [
    "Transform to GridSearchCV\n",
    "\n"
   ]
  },
  {
   "cell_type": "code",
   "execution_count": 182,
   "id": "c65b7afd-0147-42c6-8539-67e64fcb9d2d",
   "metadata": {},
   "outputs": [],
   "source": [
    "gs_2 = GridSearchCV(rf, param_grid=rf_params, cv=5)"
   ]
  },
  {
   "cell_type": "markdown",
   "id": "7a98626e-caf7-495e-ae86-8a7713250dde",
   "metadata": {},
   "source": [
    "Fit the model\n",
    "\n"
   ]
  },
  {
   "cell_type": "code",
   "execution_count": 184,
   "id": "7a5d1a22-5e6f-4dd4-9387-6500729c99a7",
   "metadata": {},
   "outputs": [],
   "source": [
    "gs_2.fit(X_train, y_train);\n"
   ]
  },
  {
   "cell_type": "markdown",
   "id": "9ddf17cf-a122-4152-9e74-3d05c7ca5573",
   "metadata": {},
   "source": [
    "Obtaining the best estimator and parameters\n",
    "\n"
   ]
  },
  {
   "cell_type": "code",
   "execution_count": 186,
   "id": "75f914a5-6993-4a0a-8666-56b5027b021c",
   "metadata": {},
   "outputs": [
    {
     "name": "stdout",
     "output_type": "stream",
     "text": [
      "0.9171259460724756\n"
     ]
    },
    {
     "data": {
      "text/plain": [
       "{'criterion': 'gini', 'max_depth': None, 'n_estimators': 110}"
      ]
     },
     "execution_count": 186,
     "metadata": {},
     "output_type": "execute_result"
    }
   ],
   "source": [
    "print(gs_2.best_score_) \n",
    "gs_2.best_params_"
   ]
  },
  {
   "cell_type": "code",
   "execution_count": 187,
   "id": "2d357c1d-0701-413d-81f9-6774cd0aad39",
   "metadata": {},
   "outputs": [],
   "source": [
    "# Save best model as gs_model.\n",
    "gs_model_2 = gs_2.best_estimator_"
   ]
  },
  {
   "cell_type": "markdown",
   "id": "6d81e038-f8fa-4a06-9c6b-8d7545051727",
   "metadata": {},
   "source": [
    "Accuracy training score"
   ]
  },
  {
   "cell_type": "code",
   "execution_count": 189,
   "id": "20dd379c-35b7-4ce1-8f1c-235326478d65",
   "metadata": {},
   "outputs": [
    {
     "data": {
      "text/plain": [
       "0.998058832312976"
      ]
     },
     "execution_count": 189,
     "metadata": {},
     "output_type": "execute_result"
    }
   ],
   "source": [
    "gs_model_2.score(X_train, y_train)"
   ]
  },
  {
   "cell_type": "markdown",
   "id": "f09b90b2-1aa1-42a0-adff-8bda2afeb533",
   "metadata": {},
   "source": [
    "Accuracy testing score"
   ]
  },
  {
   "cell_type": "code",
   "execution_count": 191,
   "id": "eb2409c5-0b51-409e-afa8-bc3786dc6bd2",
   "metadata": {},
   "outputs": [
    {
     "data": {
      "text/plain": [
       "0.92511320097527"
      ]
     },
     "execution_count": 191,
     "metadata": {},
     "output_type": "execute_result"
    }
   ],
   "source": [
    "gs_model_2.score(X_test, y_test)"
   ]
  },
  {
   "cell_type": "code",
   "execution_count": null,
   "id": "0ef35209-afd4-464c-9cf3-61e375c813bb",
   "metadata": {},
   "outputs": [],
   "source": [
    "overfitting"
   ]
  },
  {
   "cell_type": "code",
   "execution_count": null,
   "id": "a0b4a347-90a2-413e-9c09-eb8c46490a36",
   "metadata": {},
   "outputs": [],
   "source": []
  },
  {
   "cell_type": "code",
   "execution_count": 214,
   "id": "4383dc3a-48f6-4021-b615-d04283435c4c",
   "metadata": {},
   "outputs": [
    {
     "ename": "AttributeError",
     "evalue": "'GridSearchCV' object has no attribute 'fit_transform'",
     "output_type": "error",
     "traceback": [
      "\u001b[1;31m---------------------------------------------------------------------------\u001b[0m",
      "\u001b[1;31mAttributeError\u001b[0m                            Traceback (most recent call last)",
      "Cell \u001b[1;32mIn [214], line 1\u001b[0m\n\u001b[1;32m----> 1\u001b[0m \u001b[43mgs_2\u001b[49m\u001b[38;5;241;43m.\u001b[39;49m\u001b[43mfit_transform\u001b[49m(X_train\u001b[38;5;241m.\u001b[39mpost_lm)\n",
      "\u001b[1;31mAttributeError\u001b[0m: 'GridSearchCV' object has no attribute 'fit_transform'"
     ]
    }
   ],
   "source": [
    "gs_2.fit_transform(X_train.post_lm)"
   ]
  },
  {
   "cell_type": "code",
   "execution_count": null,
   "id": "38c29c8c-bd1a-4aa9-adab-d95399f79923",
   "metadata": {},
   "outputs": [],
   "source": []
  },
  {
   "cell_type": "code",
   "execution_count": null,
   "id": "6c897e6e-38d8-4946-92c2-ca2bc71b01ff",
   "metadata": {},
   "outputs": [],
   "source": []
  },
  {
   "cell_type": "code",
   "execution_count": null,
   "id": "5f684ed7-1a08-411d-a8e3-5c9a6e47d5ad",
   "metadata": {},
   "outputs": [],
   "source": []
  },
  {
   "cell_type": "code",
   "execution_count": null,
   "id": "28c8235b-c97e-401d-8aed-f3bcb8083698",
   "metadata": {},
   "outputs": [],
   "source": []
  },
  {
   "cell_type": "code",
   "execution_count": null,
   "id": "74a6410e-8d78-48ed-a090-cb8ffbd3aeab",
   "metadata": {},
   "outputs": [],
   "source": []
  }
 ],
 "metadata": {
  "kernelspec": {
   "display_name": "dsi-sg",
   "language": "python",
   "name": "dsi-sg"
  },
  "language_info": {
   "codemirror_mode": {
    "name": "ipython",
    "version": 3
   },
   "file_extension": ".py",
   "mimetype": "text/x-python",
   "name": "python",
   "nbconvert_exporter": "python",
   "pygments_lexer": "ipython3",
   "version": "3.9.13"
  }
 },
 "nbformat": 4,
 "nbformat_minor": 5
}

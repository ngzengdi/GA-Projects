{
 "cells": [
  {
   "cell_type": "markdown",
   "id": "e92f8926-1f4d-4855-88c4-4c1d1a471591",
   "metadata": {},
   "source": [
    "# Project 3: Web APIs & NLP -02"
   ]
  },
  {
   "cell_type": "code",
   "execution_count": null,
   "id": "f187ac76-b5a6-4453-929f-2adf509e1372",
   "metadata": {},
   "outputs": [],
   "source": []
  },
  {
   "cell_type": "code",
   "execution_count": null,
   "id": "d42062e5-6028-4cdb-a1e3-f8742bddd9ba",
   "metadata": {},
   "outputs": [],
   "source": []
  },
  {
   "cell_type": "code",
   "execution_count": 1,
   "id": "2c5778d4-bfd8-4c61-b573-942e1d274d5e",
   "metadata": {},
   "outputs": [],
   "source": [
    "#import libraries\n",
    "import pandas as pd\n",
    "import numpy as np\n",
    "import seaborn as sns\n",
    "import matplotlib.pyplot as plt\n",
    "import datetime\n",
    "\n",
    "%matplotlib inline"
   ]
  },
  {
   "cell_type": "code",
   "execution_count": 2,
   "id": "c01d25ab-d1b8-4aee-8101-7b87fc7b0961",
   "metadata": {},
   "outputs": [],
   "source": [
    "# Set viewing options\n",
    "pd.set_option('display.max_columns', 10000)"
   ]
  },
  {
   "cell_type": "markdown",
   "id": "b9643185-a05f-416e-92aa-a4a0b113dc46",
   "metadata": {},
   "source": [
    "## Data Cleaning (flights)"
   ]
  },
  {
   "cell_type": "code",
   "execution_count": 3,
   "id": "a374ec30-e4a6-495d-a09f-9abd9567471b",
   "metadata": {},
   "outputs": [],
   "source": [
    "#reload the data csv file\n",
    "df_flights = pd.read_csv('../data/flights_subs.csv')\n",
    "df_hotels = pd.read_csv('../data/hotels_subs.csv')"
   ]
  },
  {
   "cell_type": "code",
   "execution_count": 4,
   "id": "f72cbc41-b60e-4289-8403-d61b20b8bd58",
   "metadata": {},
   "outputs": [
    {
     "data": {
      "text/html": [
       "<div>\n",
       "<style scoped>\n",
       "    .dataframe tbody tr th:only-of-type {\n",
       "        vertical-align: middle;\n",
       "    }\n",
       "\n",
       "    .dataframe tbody tr th {\n",
       "        vertical-align: top;\n",
       "    }\n",
       "\n",
       "    .dataframe thead th {\n",
       "        text-align: right;\n",
       "    }\n",
       "</style>\n",
       "<table border=\"1\" class=\"dataframe\">\n",
       "  <thead>\n",
       "    <tr style=\"text-align: right;\">\n",
       "      <th></th>\n",
       "      <th>subreddit</th>\n",
       "      <th>selftext</th>\n",
       "      <th>title</th>\n",
       "      <th>created_utc</th>\n",
       "    </tr>\n",
       "  </thead>\n",
       "  <tbody>\n",
       "    <tr>\n",
       "      <th>0</th>\n",
       "      <td>Flights</td>\n",
       "      <td>To date, I just purchased my cheapest internat...</td>\n",
       "      <td>$9AUD Flight</td>\n",
       "      <td>1678772376</td>\n",
       "    </tr>\n",
       "    <tr>\n",
       "      <th>1</th>\n",
       "      <td>Flights</td>\n",
       "      <td>NaN</td>\n",
       "      <td>I'm an engineer with a design to reverse engin...</td>\n",
       "      <td>1678761426</td>\n",
       "    </tr>\n",
       "    <tr>\n",
       "      <th>2</th>\n",
       "      <td>Flights</td>\n",
       "      <td>[removed]</td>\n",
       "      <td>TAP AIR FLIGHT SONG</td>\n",
       "      <td>1678756695</td>\n",
       "    </tr>\n",
       "    <tr>\n",
       "      <th>3</th>\n",
       "      <td>Flights</td>\n",
       "      <td>Context: I got a flight centre gift card for $...</td>\n",
       "      <td>what would you do? awful rule regarding Porter...</td>\n",
       "      <td>1678753898</td>\n",
       "    </tr>\n",
       "    <tr>\n",
       "      <th>4</th>\n",
       "      <td>Flights</td>\n",
       "      <td>[removed]</td>\n",
       "      <td>EVA Air CC Verification</td>\n",
       "      <td>1678749479</td>\n",
       "    </tr>\n",
       "    <tr>\n",
       "      <th>5</th>\n",
       "      <td>Flights</td>\n",
       "      <td>So I learned, don’t book through credit card t...</td>\n",
       "      <td>Booked through capital one</td>\n",
       "      <td>1678749255</td>\n",
       "    </tr>\n",
       "    <tr>\n",
       "      <th>6</th>\n",
       "      <td>Flights</td>\n",
       "      <td>Currently looking at flights from Europe to Ta...</td>\n",
       "      <td>EVA Air 777-300 or 787-9?</td>\n",
       "      <td>1678742265</td>\n",
       "    </tr>\n",
       "    <tr>\n",
       "      <th>7</th>\n",
       "      <td>Flights</td>\n",
       "      <td>[removed]</td>\n",
       "      <td>Charged twice for the same piece of checked lu...</td>\n",
       "      <td>1678739090</td>\n",
       "    </tr>\n",
       "    <tr>\n",
       "      <th>8</th>\n",
       "      <td>Flights</td>\n",
       "      <td>[removed]\\n\\n[View Poll](https://www.reddit.co...</td>\n",
       "      <td>Virgin Atlantic vs. Turkish from LHR to Texas?</td>\n",
       "      <td>1678735250</td>\n",
       "    </tr>\n",
       "    <tr>\n",
       "      <th>9</th>\n",
       "      <td>Flights</td>\n",
       "      <td>I’m flying from New Dehli to London with a lay...</td>\n",
       "      <td>Etihad Airways allow earlier flights?</td>\n",
       "      <td>1678732821</td>\n",
       "    </tr>\n",
       "  </tbody>\n",
       "</table>\n",
       "</div>"
      ],
      "text/plain": [
       "  subreddit                                           selftext  \\\n",
       "0   Flights  To date, I just purchased my cheapest internat...   \n",
       "1   Flights                                                NaN   \n",
       "2   Flights                                          [removed]   \n",
       "3   Flights  Context: I got a flight centre gift card for $...   \n",
       "4   Flights                                          [removed]   \n",
       "5   Flights  So I learned, don’t book through credit card t...   \n",
       "6   Flights  Currently looking at flights from Europe to Ta...   \n",
       "7   Flights                                          [removed]   \n",
       "8   Flights  [removed]\\n\\n[View Poll](https://www.reddit.co...   \n",
       "9   Flights  I’m flying from New Dehli to London with a lay...   \n",
       "\n",
       "                                               title  created_utc  \n",
       "0                                       $9AUD Flight   1678772376  \n",
       "1  I'm an engineer with a design to reverse engin...   1678761426  \n",
       "2                                TAP AIR FLIGHT SONG   1678756695  \n",
       "3  what would you do? awful rule regarding Porter...   1678753898  \n",
       "4                            EVA Air CC Verification   1678749479  \n",
       "5                         Booked through capital one   1678749255  \n",
       "6                          EVA Air 777-300 or 787-9?   1678742265  \n",
       "7  Charged twice for the same piece of checked lu...   1678739090  \n",
       "8     Virgin Atlantic vs. Turkish from LHR to Texas?   1678735250  \n",
       "9              Etihad Airways allow earlier flights?   1678732821  "
      ]
     },
     "execution_count": 4,
     "metadata": {},
     "output_type": "execute_result"
    }
   ],
   "source": [
    "df_flights.head(10)"
   ]
  },
  {
   "cell_type": "code",
   "execution_count": 5,
   "id": "0dbee9c8-3ea8-44f8-852e-db84abc4a0fb",
   "metadata": {},
   "outputs": [],
   "source": [
    "#ccheck for subreddit if only exclusive on flights if not delete"
   ]
  },
  {
   "cell_type": "code",
   "execution_count": 6,
   "id": "7b8195f8-0d15-43dc-a6f4-5f6528201b5d",
   "metadata": {},
   "outputs": [
    {
     "data": {
      "text/plain": [
       "Flights                  4969\n",
       "u_Eagle-Flights-India      27\n",
       "Name: subreddit, dtype: int64"
      ]
     },
     "execution_count": 6,
     "metadata": {},
     "output_type": "execute_result"
    }
   ],
   "source": [
    "df_flights['subreddit'].value_counts()"
   ]
  },
  {
   "cell_type": "code",
   "execution_count": 7,
   "id": "7e3ce2c1-f925-4a25-a726-9f9b34d33425",
   "metadata": {},
   "outputs": [],
   "source": [
    "df_flights.drop(df_flights[df_flights['subreddit'].str.contains('u_Eagle-Flights-India')].index, inplace=True)"
   ]
  },
  {
   "cell_type": "code",
   "execution_count": 8,
   "id": "61b0a1ec-2842-4024-b900-a52c2e97dedc",
   "metadata": {},
   "outputs": [
    {
     "data": {
      "text/plain": [
       "Flights    4969\n",
       "Name: subreddit, dtype: int64"
      ]
     },
     "execution_count": 8,
     "metadata": {},
     "output_type": "execute_result"
    }
   ],
   "source": [
    "df_flights['subreddit'].value_counts()"
   ]
  },
  {
   "cell_type": "code",
   "execution_count": null,
   "id": "d8661852-29fa-49bd-9b2a-28d1564cc3fb",
   "metadata": {},
   "outputs": [],
   "source": []
  },
  {
   "cell_type": "code",
   "execution_count": 9,
   "id": "901e43d3-ea91-454d-829f-474ab4566fbc",
   "metadata": {},
   "outputs": [
    {
     "data": {
      "text/plain": [
       "subreddit        0\n",
       "selftext       932\n",
       "title            0\n",
       "created_utc      0\n",
       "dtype: int64"
      ]
     },
     "execution_count": 9,
     "metadata": {},
     "output_type": "execute_result"
    }
   ],
   "source": [
    "df_flights.isnull().sum()"
   ]
  },
  {
   "cell_type": "code",
   "execution_count": 10,
   "id": "d7b37a0a-0936-4459-940d-b2005ea41baf",
   "metadata": {},
   "outputs": [
    {
     "name": "stdout",
     "output_type": "stream",
     "text": [
      "0 blanks:  []\n"
     ]
    }
   ],
   "source": [
    "#Detect & remove empty strings\n",
    "#Technically, we're dealing with \"whitespace only\" strings.\n",
    "\n",
    "#In order to detect these strings we need to iterate over each row in the DataFrame. The .itertuples() pandas method is a good tool for this as it provides access to every field. For brevity we'll assign the names i, lb and rv to the index, label and review columns.\n",
    "\n",
    "blanks = []  # start with an empty list\n",
    "\n",
    "for index, subreddut, selftext, title, created in df_flights.itertuples():  # iterate over the DataFrame\n",
    "    if type(title)==str:            # avoid NaN values\n",
    "        if title.isspace():         # test 'review' for whitespace\n",
    "            blanks.append(i)     # add matching index numbers to the list\n",
    "        \n",
    "print(len(blanks), 'blanks: ', blanks)\n",
    "blanks = []  # start with an empty list"
   ]
  },
  {
   "cell_type": "markdown",
   "id": "0853fc2f-5007-4fd7-8bfa-f4d590b41c9b",
   "metadata": {},
   "source": [
    "reference: Since there is no whitespace in title, we change change the null in selftext to space so that we can later combine the column title and self text"
   ]
  },
  {
   "cell_type": "code",
   "execution_count": 11,
   "id": "3656fa8d-c850-426c-a4e9-12233c910e7f",
   "metadata": {
    "tags": []
   },
   "outputs": [],
   "source": [
    "# Define a function to replace null values with '-'\n",
    "def replace_nulls(data, col_list):\n",
    "    for col in col_list:\n",
    "        data.loc[data[col].isnull(), col] = '-'\n",
    "    return data"
   ]
  },
  {
   "cell_type": "code",
   "execution_count": 12,
   "id": "da2328e0-0264-4543-b72e-16fd0bc46f5e",
   "metadata": {},
   "outputs": [
    {
     "data": {
      "text/plain": [
       "subreddit      0\n",
       "selftext       0\n",
       "title          0\n",
       "created_utc    0\n",
       "dtype: int64"
      ]
     },
     "execution_count": 12,
     "metadata": {},
     "output_type": "execute_result"
    }
   ],
   "source": [
    "# Replace nulls with '-'\n",
    "df_flights = replace_nulls(df_flights, ['selftext'])\n",
    "\n",
    "# Check that changes stuck\n",
    "df_flights.isnull().sum()"
   ]
  },
  {
   "cell_type": "code",
   "execution_count": 13,
   "id": "1387d3da-7bd3-4a81-84aa-f1cd297b7289",
   "metadata": {},
   "outputs": [
    {
     "name": "stdout",
     "output_type": "stream",
     "text": [
      "Number of rows where 'selftext' is '[removed]': 988\n"
     ]
    }
   ],
   "source": [
    "#noticed many '[removed]' in selftext, count them to be exact\n",
    "count_removed = (df_flights['selftext'] == '[removed]').sum()\n",
    "print(f\"Number of rows where 'selftext' is '[removed]': {count_removed}\")"
   ]
  },
  {
   "cell_type": "code",
   "execution_count": 14,
   "id": "535a78b4-82e3-4d05-9768-81daeb2b71fd",
   "metadata": {},
   "outputs": [],
   "source": [
    "#we should change the removed to space as we will combine the title and self text together for the classification model thus no need to remove null\n",
    "df_flights['selftext'] = df_flights['selftext'].replace('[removed]', '')"
   ]
  },
  {
   "cell_type": "code",
   "execution_count": 15,
   "id": "1e1d1875-836d-4ebf-8d93-da83a4c72c18",
   "metadata": {},
   "outputs": [
    {
     "data": {
      "text/plain": [
       "0"
      ]
     },
     "execution_count": 15,
     "metadata": {},
     "output_type": "execute_result"
    }
   ],
   "source": [
    "df_flights.duplicated().sum() #ensure no duplicate columns"
   ]
  },
  {
   "cell_type": "code",
   "execution_count": 16,
   "id": "9b376395-0f71-4ecc-b461-9684b4115f46",
   "metadata": {},
   "outputs": [],
   "source": [
    "# combine the 'selftext' and 'title' columns into a new column 'text'\n",
    "df_flights['text'] = df_flights['title'] + ' ' + df_flights['selftext']"
   ]
  },
  {
   "cell_type": "code",
   "execution_count": 17,
   "id": "372863da-0c2a-4625-953c-609164604d0f",
   "metadata": {
    "scrolled": true,
    "tags": []
   },
   "outputs": [
    {
     "data": {
      "text/html": [
       "<div>\n",
       "<style scoped>\n",
       "    .dataframe tbody tr th:only-of-type {\n",
       "        vertical-align: middle;\n",
       "    }\n",
       "\n",
       "    .dataframe tbody tr th {\n",
       "        vertical-align: top;\n",
       "    }\n",
       "\n",
       "    .dataframe thead th {\n",
       "        text-align: right;\n",
       "    }\n",
       "</style>\n",
       "<table border=\"1\" class=\"dataframe\">\n",
       "  <thead>\n",
       "    <tr style=\"text-align: right;\">\n",
       "      <th></th>\n",
       "      <th>subreddit</th>\n",
       "      <th>selftext</th>\n",
       "      <th>title</th>\n",
       "      <th>created_utc</th>\n",
       "      <th>text</th>\n",
       "    </tr>\n",
       "  </thead>\n",
       "  <tbody>\n",
       "    <tr>\n",
       "      <th>0</th>\n",
       "      <td>Flights</td>\n",
       "      <td>To date, I just purchased my cheapest internat...</td>\n",
       "      <td>$9AUD Flight</td>\n",
       "      <td>1678772376</td>\n",
       "      <td>$9AUD Flight To date, I just purchased my chea...</td>\n",
       "    </tr>\n",
       "    <tr>\n",
       "      <th>1</th>\n",
       "      <td>Flights</td>\n",
       "      <td>-</td>\n",
       "      <td>I'm an engineer with a design to reverse engin...</td>\n",
       "      <td>1678761426</td>\n",
       "      <td>I'm an engineer with a design to reverse engin...</td>\n",
       "    </tr>\n",
       "    <tr>\n",
       "      <th>2</th>\n",
       "      <td>Flights</td>\n",
       "      <td></td>\n",
       "      <td>TAP AIR FLIGHT SONG</td>\n",
       "      <td>1678756695</td>\n",
       "      <td>TAP AIR FLIGHT SONG</td>\n",
       "    </tr>\n",
       "    <tr>\n",
       "      <th>3</th>\n",
       "      <td>Flights</td>\n",
       "      <td>Context: I got a flight centre gift card for $...</td>\n",
       "      <td>what would you do? awful rule regarding Porter...</td>\n",
       "      <td>1678753898</td>\n",
       "      <td>what would you do? awful rule regarding Porter...</td>\n",
       "    </tr>\n",
       "    <tr>\n",
       "      <th>4</th>\n",
       "      <td>Flights</td>\n",
       "      <td></td>\n",
       "      <td>EVA Air CC Verification</td>\n",
       "      <td>1678749479</td>\n",
       "      <td>EVA Air CC Verification</td>\n",
       "    </tr>\n",
       "  </tbody>\n",
       "</table>\n",
       "</div>"
      ],
      "text/plain": [
       "  subreddit                                           selftext  \\\n",
       "0   Flights  To date, I just purchased my cheapest internat...   \n",
       "1   Flights                                                  -   \n",
       "2   Flights                                                      \n",
       "3   Flights  Context: I got a flight centre gift card for $...   \n",
       "4   Flights                                                      \n",
       "\n",
       "                                               title  created_utc  \\\n",
       "0                                       $9AUD Flight   1678772376   \n",
       "1  I'm an engineer with a design to reverse engin...   1678761426   \n",
       "2                                TAP AIR FLIGHT SONG   1678756695   \n",
       "3  what would you do? awful rule regarding Porter...   1678753898   \n",
       "4                            EVA Air CC Verification   1678749479   \n",
       "\n",
       "                                                text  \n",
       "0  $9AUD Flight To date, I just purchased my chea...  \n",
       "1  I'm an engineer with a design to reverse engin...  \n",
       "2                               TAP AIR FLIGHT SONG   \n",
       "3  what would you do? awful rule regarding Porter...  \n",
       "4                           EVA Air CC Verification   "
      ]
     },
     "execution_count": 17,
     "metadata": {},
     "output_type": "execute_result"
    }
   ],
   "source": [
    "df_flights.head()"
   ]
  },
  {
   "cell_type": "code",
   "execution_count": 18,
   "id": "122a16fd-acc1-4bbd-8d95-4b532526e014",
   "metadata": {},
   "outputs": [],
   "source": [
    "# drop the 'selftext' and 'title' columns from the dataframe\n",
    "df_flights = df_flights.drop(['title', 'selftext'], axis=1)"
   ]
  },
  {
   "cell_type": "code",
   "execution_count": 19,
   "id": "b81c9c41-440d-4aea-8acd-df422b02f2eb",
   "metadata": {},
   "outputs": [
    {
     "data": {
      "text/html": [
       "<div>\n",
       "<style scoped>\n",
       "    .dataframe tbody tr th:only-of-type {\n",
       "        vertical-align: middle;\n",
       "    }\n",
       "\n",
       "    .dataframe tbody tr th {\n",
       "        vertical-align: top;\n",
       "    }\n",
       "\n",
       "    .dataframe thead th {\n",
       "        text-align: right;\n",
       "    }\n",
       "</style>\n",
       "<table border=\"1\" class=\"dataframe\">\n",
       "  <thead>\n",
       "    <tr style=\"text-align: right;\">\n",
       "      <th></th>\n",
       "      <th>subreddit</th>\n",
       "      <th>created_utc</th>\n",
       "      <th>text</th>\n",
       "    </tr>\n",
       "  </thead>\n",
       "  <tbody>\n",
       "    <tr>\n",
       "      <th>0</th>\n",
       "      <td>Flights</td>\n",
       "      <td>1678772376</td>\n",
       "      <td>$9AUD Flight To date, I just purchased my chea...</td>\n",
       "    </tr>\n",
       "    <tr>\n",
       "      <th>1</th>\n",
       "      <td>Flights</td>\n",
       "      <td>1678761426</td>\n",
       "      <td>I'm an engineer with a design to reverse engin...</td>\n",
       "    </tr>\n",
       "    <tr>\n",
       "      <th>2</th>\n",
       "      <td>Flights</td>\n",
       "      <td>1678756695</td>\n",
       "      <td>TAP AIR FLIGHT SONG</td>\n",
       "    </tr>\n",
       "    <tr>\n",
       "      <th>3</th>\n",
       "      <td>Flights</td>\n",
       "      <td>1678753898</td>\n",
       "      <td>what would you do? awful rule regarding Porter...</td>\n",
       "    </tr>\n",
       "    <tr>\n",
       "      <th>4</th>\n",
       "      <td>Flights</td>\n",
       "      <td>1678749479</td>\n",
       "      <td>EVA Air CC Verification</td>\n",
       "    </tr>\n",
       "  </tbody>\n",
       "</table>\n",
       "</div>"
      ],
      "text/plain": [
       "  subreddit  created_utc                                               text\n",
       "0   Flights   1678772376  $9AUD Flight To date, I just purchased my chea...\n",
       "1   Flights   1678761426  I'm an engineer with a design to reverse engin...\n",
       "2   Flights   1678756695                               TAP AIR FLIGHT SONG \n",
       "3   Flights   1678753898  what would you do? awful rule regarding Porter...\n",
       "4   Flights   1678749479                           EVA Air CC Verification "
      ]
     },
     "execution_count": 19,
     "metadata": {},
     "output_type": "execute_result"
    }
   ],
   "source": [
    "df_flights.head()"
   ]
  },
  {
   "cell_type": "code",
   "execution_count": 20,
   "id": "e22427bf-131b-4c8b-b289-53be2478711a",
   "metadata": {
    "tags": []
   },
   "outputs": [
    {
     "data": {
      "text/plain": [
       "(4969, 3)"
      ]
     },
     "execution_count": 20,
     "metadata": {},
     "output_type": "execute_result"
    }
   ],
   "source": [
    "df_flights.shape"
   ]
  },
  {
   "cell_type": "code",
   "execution_count": 21,
   "id": "57579d15-c468-4b2a-bce8-ebdbf57a8dbd",
   "metadata": {},
   "outputs": [],
   "source": [
    "df_flights['created_utc'] = pd.to_datetime(df_flights['created_utc'], unit='s')"
   ]
  },
  {
   "cell_type": "code",
   "execution_count": 22,
   "id": "5b91debb-b2ff-46e6-9bec-850711822fdb",
   "metadata": {},
   "outputs": [],
   "source": [
    "df_flights['created_utc'] = df_flights['created_utc'].dt.date\n",
    "df_flights = df_flights.rename(columns={'created_utc': 'date'})"
   ]
  },
  {
   "cell_type": "code",
   "execution_count": 23,
   "id": "3a9982ab-1c1a-4e1d-8bd2-3b8218fb6d27",
   "metadata": {},
   "outputs": [
    {
     "data": {
      "text/html": [
       "<div>\n",
       "<style scoped>\n",
       "    .dataframe tbody tr th:only-of-type {\n",
       "        vertical-align: middle;\n",
       "    }\n",
       "\n",
       "    .dataframe tbody tr th {\n",
       "        vertical-align: top;\n",
       "    }\n",
       "\n",
       "    .dataframe thead th {\n",
       "        text-align: right;\n",
       "    }\n",
       "</style>\n",
       "<table border=\"1\" class=\"dataframe\">\n",
       "  <thead>\n",
       "    <tr style=\"text-align: right;\">\n",
       "      <th></th>\n",
       "      <th>subreddit</th>\n",
       "      <th>date</th>\n",
       "      <th>text</th>\n",
       "    </tr>\n",
       "  </thead>\n",
       "  <tbody>\n",
       "    <tr>\n",
       "      <th>4991</th>\n",
       "      <td>Flights</td>\n",
       "      <td>2017-04-02</td>\n",
       "      <td>Do children need ID to travel domestically? I ...</td>\n",
       "    </tr>\n",
       "    <tr>\n",
       "      <th>4992</th>\n",
       "      <td>Flights</td>\n",
       "      <td>2017-04-02</td>\n",
       "      <td>UÇUŞ RÖTARINDA TAZMİNAT ALMAK -</td>\n",
       "    </tr>\n",
       "    <tr>\n",
       "      <th>4993</th>\n",
       "      <td>Flights</td>\n",
       "      <td>2017-04-01</td>\n",
       "      <td>Help figuring out a flight to Bulgaria Hi, jus...</td>\n",
       "    </tr>\n",
       "    <tr>\n",
       "      <th>4994</th>\n",
       "      <td>Flights</td>\n",
       "      <td>2017-04-01</td>\n",
       "      <td>Is this a bait and switch by Southwest? [deleted]</td>\n",
       "    </tr>\n",
       "    <tr>\n",
       "      <th>4995</th>\n",
       "      <td>Flights</td>\n",
       "      <td>2017-03-31</td>\n",
       "      <td>Flying to Rome, transferring flight in London....</td>\n",
       "    </tr>\n",
       "  </tbody>\n",
       "</table>\n",
       "</div>"
      ],
      "text/plain": [
       "     subreddit        date                                               text\n",
       "4991   Flights  2017-04-02  Do children need ID to travel domestically? I ...\n",
       "4992   Flights  2017-04-02                    UÇUŞ RÖTARINDA TAZMİNAT ALMAK -\n",
       "4993   Flights  2017-04-01  Help figuring out a flight to Bulgaria Hi, jus...\n",
       "4994   Flights  2017-04-01  Is this a bait and switch by Southwest? [deleted]\n",
       "4995   Flights  2017-03-31  Flying to Rome, transferring flight in London...."
      ]
     },
     "execution_count": 23,
     "metadata": {},
     "output_type": "execute_result"
    }
   ],
   "source": [
    "df_flights.tail()"
   ]
  },
  {
   "cell_type": "code",
   "execution_count": null,
   "id": "fd0caa7c-ef23-40b7-bc6b-44504c7be1d0",
   "metadata": {},
   "outputs": [],
   "source": []
  },
  {
   "cell_type": "markdown",
   "id": "c3ab97e3-fd53-425c-b475-c4d0668c0a1d",
   "metadata": {},
   "source": [
    "## Data Cleaning (hotels)"
   ]
  },
  {
   "cell_type": "code",
   "execution_count": 24,
   "id": "b13589a0-65a3-45e0-af9d-fbbfcff40031",
   "metadata": {},
   "outputs": [
    {
     "data": {
      "text/html": [
       "<div>\n",
       "<style scoped>\n",
       "    .dataframe tbody tr th:only-of-type {\n",
       "        vertical-align: middle;\n",
       "    }\n",
       "\n",
       "    .dataframe tbody tr th {\n",
       "        vertical-align: top;\n",
       "    }\n",
       "\n",
       "    .dataframe thead th {\n",
       "        text-align: right;\n",
       "    }\n",
       "</style>\n",
       "<table border=\"1\" class=\"dataframe\">\n",
       "  <thead>\n",
       "    <tr style=\"text-align: right;\">\n",
       "      <th></th>\n",
       "      <th>subreddit</th>\n",
       "      <th>selftext</th>\n",
       "      <th>title</th>\n",
       "      <th>created_utc</th>\n",
       "    </tr>\n",
       "  </thead>\n",
       "  <tbody>\n",
       "    <tr>\n",
       "      <th>0</th>\n",
       "      <td>hotels</td>\n",
       "      <td>I made a huge mistake booking a hotel for an u...</td>\n",
       "      <td>Double booking + egregious hotel cancellation ...</td>\n",
       "      <td>1678763009</td>\n",
       "    </tr>\n",
       "    <tr>\n",
       "      <th>1</th>\n",
       "      <td>hotels</td>\n",
       "      <td>Hello All! \\nI am currently applying for assis...</td>\n",
       "      <td>Hotel Managment</td>\n",
       "      <td>1678760121</td>\n",
       "    </tr>\n",
       "    <tr>\n",
       "      <th>2</th>\n",
       "      <td>hotels</td>\n",
       "      <td>[removed]</td>\n",
       "      <td>Parking pass</td>\n",
       "      <td>1678759326</td>\n",
       "    </tr>\n",
       "    <tr>\n",
       "      <th>3</th>\n",
       "      <td>hotels</td>\n",
       "      <td>[removed]</td>\n",
       "      <td>A Journey Through The Oceana Hotel Culinary Wo...</td>\n",
       "      <td>1678731744</td>\n",
       "    </tr>\n",
       "    <tr>\n",
       "      <th>4</th>\n",
       "      <td>hotels</td>\n",
       "      <td>[removed]</td>\n",
       "      <td>Chime Card at Las Vegas Hotels</td>\n",
       "      <td>1678730632</td>\n",
       "    </tr>\n",
       "    <tr>\n",
       "      <th>5</th>\n",
       "      <td>hotels</td>\n",
       "      <td>[removed]</td>\n",
       "      <td>HOTEL INFANTE SAGRES: LUXURIOUS HISTORY IN OPORTO</td>\n",
       "      <td>1678727673</td>\n",
       "    </tr>\n",
       "    <tr>\n",
       "      <th>6</th>\n",
       "      <td>hotels</td>\n",
       "      <td>[removed]</td>\n",
       "      <td>Which hotels let you check in online and selec...</td>\n",
       "      <td>1678720216</td>\n",
       "    </tr>\n",
       "    <tr>\n",
       "      <th>7</th>\n",
       "      <td>hotels</td>\n",
       "      <td>[removed]</td>\n",
       "      <td>Which hotel lets you check in online and selec...</td>\n",
       "      <td>1678720154</td>\n",
       "    </tr>\n",
       "    <tr>\n",
       "      <th>8</th>\n",
       "      <td>hotels</td>\n",
       "      <td>[removed]</td>\n",
       "      <td>Streamline Your Vacation Rental Business with ...</td>\n",
       "      <td>1678693233</td>\n",
       "    </tr>\n",
       "    <tr>\n",
       "      <th>9</th>\n",
       "      <td>hotels</td>\n",
       "      <td>I prepaid for a room at a hotel in Texas about...</td>\n",
       "      <td>Charged extra due to tax rate increase</td>\n",
       "      <td>1678665538</td>\n",
       "    </tr>\n",
       "  </tbody>\n",
       "</table>\n",
       "</div>"
      ],
      "text/plain": [
       "  subreddit                                           selftext  \\\n",
       "0    hotels  I made a huge mistake booking a hotel for an u...   \n",
       "1    hotels  Hello All! \\nI am currently applying for assis...   \n",
       "2    hotels                                          [removed]   \n",
       "3    hotels                                          [removed]   \n",
       "4    hotels                                          [removed]   \n",
       "5    hotels                                          [removed]   \n",
       "6    hotels                                          [removed]   \n",
       "7    hotels                                          [removed]   \n",
       "8    hotels                                          [removed]   \n",
       "9    hotels  I prepaid for a room at a hotel in Texas about...   \n",
       "\n",
       "                                               title  created_utc  \n",
       "0  Double booking + egregious hotel cancellation ...   1678763009  \n",
       "1                                    Hotel Managment   1678760121  \n",
       "2                                       Parking pass   1678759326  \n",
       "3  A Journey Through The Oceana Hotel Culinary Wo...   1678731744  \n",
       "4                     Chime Card at Las Vegas Hotels   1678730632  \n",
       "5  HOTEL INFANTE SAGRES: LUXURIOUS HISTORY IN OPORTO   1678727673  \n",
       "6  Which hotels let you check in online and selec...   1678720216  \n",
       "7  Which hotel lets you check in online and selec...   1678720154  \n",
       "8  Streamline Your Vacation Rental Business with ...   1678693233  \n",
       "9             Charged extra due to tax rate increase   1678665538  "
      ]
     },
     "execution_count": 24,
     "metadata": {},
     "output_type": "execute_result"
    }
   ],
   "source": [
    "df_hotels.head(10)"
   ]
  },
  {
   "cell_type": "code",
   "execution_count": 25,
   "id": "6f79201f-c906-4474-bba7-4f414399d664",
   "metadata": {
    "tags": []
   },
   "outputs": [
    {
     "data": {
      "text/plain": [
       "subreddit         0\n",
       "selftext       2464\n",
       "title             0\n",
       "created_utc       0\n",
       "dtype: int64"
      ]
     },
     "execution_count": 25,
     "metadata": {},
     "output_type": "execute_result"
    }
   ],
   "source": [
    "df_hotels.isnull().sum()"
   ]
  },
  {
   "cell_type": "code",
   "execution_count": 26,
   "id": "9d74d5e7-e0b2-478d-a0ba-c1d878bef6f4",
   "metadata": {
    "tags": []
   },
   "outputs": [
    {
     "name": "stdout",
     "output_type": "stream",
     "text": [
      "0 blanks:  []\n"
     ]
    }
   ],
   "source": [
    "#Detect & remove empty strings\n",
    "#Technically, we're dealing with \"whitespace only\" strings.\n",
    "\n",
    "#In order to detect these strings we need to iterate over each row in the DataFrame. The .itertuples() pandas method is a good tool for this as it provides access to every field. For brevity we'll assign the names i, lb and rv to the index, label and review columns.\n",
    "\n",
    "blanks = []  # start with an empty list\n",
    "\n",
    "for index, subreddut, selftext, title, created in df_hotels.itertuples():  # iterate over the DataFrame\n",
    "    if type(title)==str:            # avoid NaN values\n",
    "        if title.isspace():         # test 'review' for whitespace\n",
    "            blanks.append(i)     # add matching index numbers to the list\n",
    "        \n",
    "print(len(blanks), 'blanks: ', blanks)\n",
    "blanks = []  # start with an empty list"
   ]
  },
  {
   "cell_type": "markdown",
   "id": "e8d1204b-bfc5-4a6a-91b8-9340ccb13db4",
   "metadata": {},
   "source": [
    "reference: Since there is no whitespace in title, we change change the null in selftext to space so that we can later combine the column title and self text"
   ]
  },
  {
   "cell_type": "code",
   "execution_count": 27,
   "id": "614ec42e-afef-4760-a2ae-a90d225a893a",
   "metadata": {},
   "outputs": [
    {
     "data": {
      "text/plain": [
       "subreddit      0\n",
       "selftext       0\n",
       "title          0\n",
       "created_utc    0\n",
       "dtype: int64"
      ]
     },
     "execution_count": 27,
     "metadata": {},
     "output_type": "execute_result"
    }
   ],
   "source": [
    "# Replace nulls with '-'\n",
    "df_hotels = replace_nulls(df_hotels, ['selftext'])\n",
    "\n",
    "# Check that changes stuck\n",
    "df_hotels.isnull().sum()"
   ]
  },
  {
   "cell_type": "code",
   "execution_count": 28,
   "id": "b713de59-7326-4290-8419-caa83b0d5f27",
   "metadata": {},
   "outputs": [
    {
     "name": "stdout",
     "output_type": "stream",
     "text": [
      "Number of rows where 'selftext' is '[removed]': 2044\n"
     ]
    }
   ],
   "source": [
    "#noticed many '[removed]' in selftext, count them to be exact\n",
    "count_removed = (df_hotels['selftext'] == '[removed]').sum()\n",
    "print(f\"Number of rows where 'selftext' is '[removed]': {count_removed}\")"
   ]
  },
  {
   "cell_type": "code",
   "execution_count": 29,
   "id": "53ade556-c267-4a3a-a841-b3369bc0838d",
   "metadata": {},
   "outputs": [],
   "source": [
    "#we should change the removed to space as we will combine the title and self text together for the classification model thus no need to remove null\n",
    "df_hotels['selftext'] = df_hotels['selftext'].replace('[removed]', '')"
   ]
  },
  {
   "cell_type": "code",
   "execution_count": 30,
   "id": "138977ea-9880-4018-8a1c-4fd1957e5e94",
   "metadata": {},
   "outputs": [],
   "source": [
    "# combine the 'selftext' and 'title' columns into a new column 'text'\n",
    "df_hotels['text'] = df_hotels['title'] + ' ' + df_hotels['selftext']"
   ]
  },
  {
   "cell_type": "code",
   "execution_count": 31,
   "id": "4d7ec8fa-d5f6-4d98-92f9-5d3dd408d1cf",
   "metadata": {},
   "outputs": [],
   "source": [
    "# drop the 'selftext' and 'title' columns from the dataframe\n",
    "df_hotels = df_hotels.drop(['title', 'selftext'], axis=1)"
   ]
  },
  {
   "cell_type": "code",
   "execution_count": 32,
   "id": "3da132c8-a8d4-4bd9-897c-d696767ed8db",
   "metadata": {},
   "outputs": [
    {
     "data": {
      "text/html": [
       "<div>\n",
       "<style scoped>\n",
       "    .dataframe tbody tr th:only-of-type {\n",
       "        vertical-align: middle;\n",
       "    }\n",
       "\n",
       "    .dataframe tbody tr th {\n",
       "        vertical-align: top;\n",
       "    }\n",
       "\n",
       "    .dataframe thead th {\n",
       "        text-align: right;\n",
       "    }\n",
       "</style>\n",
       "<table border=\"1\" class=\"dataframe\">\n",
       "  <thead>\n",
       "    <tr style=\"text-align: right;\">\n",
       "      <th></th>\n",
       "      <th>subreddit</th>\n",
       "      <th>created_utc</th>\n",
       "      <th>text</th>\n",
       "    </tr>\n",
       "  </thead>\n",
       "  <tbody>\n",
       "    <tr>\n",
       "      <th>4995</th>\n",
       "      <td>hotels</td>\n",
       "      <td>1408427884</td>\n",
       "      <td>GruppenreisenUK -</td>\n",
       "    </tr>\n",
       "    <tr>\n",
       "      <th>4996</th>\n",
       "      <td>hotels</td>\n",
       "      <td>1408426969</td>\n",
       "      <td>Choose Family Hotels in Dubai for a Lovely Vac...</td>\n",
       "    </tr>\n",
       "    <tr>\n",
       "      <th>4997</th>\n",
       "      <td>hotels</td>\n",
       "      <td>1408426560</td>\n",
       "      <td>Five must-see European castles -</td>\n",
       "    </tr>\n",
       "    <tr>\n",
       "      <th>4998</th>\n",
       "      <td>hotels</td>\n",
       "      <td>1408425765</td>\n",
       "      <td>Five must-see European castles -</td>\n",
       "    </tr>\n",
       "    <tr>\n",
       "      <th>4999</th>\n",
       "      <td>hotels</td>\n",
       "      <td>1408392966</td>\n",
       "      <td>Doubletree Hotel in Port Huron, Michigan -</td>\n",
       "    </tr>\n",
       "  </tbody>\n",
       "</table>\n",
       "</div>"
      ],
      "text/plain": [
       "     subreddit  created_utc                                               text\n",
       "4995    hotels   1408427884                                  GruppenreisenUK -\n",
       "4996    hotels   1408426969  Choose Family Hotels in Dubai for a Lovely Vac...\n",
       "4997    hotels   1408426560                   Five must-see European castles -\n",
       "4998    hotels   1408425765                   Five must-see European castles -\n",
       "4999    hotels   1408392966         Doubletree Hotel in Port Huron, Michigan -"
      ]
     },
     "execution_count": 32,
     "metadata": {},
     "output_type": "execute_result"
    }
   ],
   "source": [
    "df_hotels.tail()"
   ]
  },
  {
   "cell_type": "code",
   "execution_count": 33,
   "id": "432a2f56-f06f-4c9f-a415-00643bc61902",
   "metadata": {},
   "outputs": [
    {
     "data": {
      "text/plain": [
       "(5000, 3)"
      ]
     },
     "execution_count": 33,
     "metadata": {},
     "output_type": "execute_result"
    }
   ],
   "source": [
    "df_hotels.shape"
   ]
  },
  {
   "cell_type": "code",
   "execution_count": 34,
   "id": "2d19d14f-7996-4c89-9e43-30578f689838",
   "metadata": {},
   "outputs": [],
   "source": [
    "df_hotels['created_utc'] = pd.to_datetime(df_hotels['created_utc'], unit='s')"
   ]
  },
  {
   "cell_type": "code",
   "execution_count": 35,
   "id": "8e3b6a31-5f41-4840-b134-fe08a5ed8093",
   "metadata": {},
   "outputs": [],
   "source": [
    "df_hotels['created_utc'] = df_hotels['created_utc'].dt.date\n",
    "df_hotels = df_hotels.rename(columns={'created_utc': 'date'})"
   ]
  },
  {
   "cell_type": "code",
   "execution_count": 36,
   "id": "1c447843-e197-40b2-a05c-d03a9eb3b97f",
   "metadata": {},
   "outputs": [
    {
     "data": {
      "text/html": [
       "<div>\n",
       "<style scoped>\n",
       "    .dataframe tbody tr th:only-of-type {\n",
       "        vertical-align: middle;\n",
       "    }\n",
       "\n",
       "    .dataframe tbody tr th {\n",
       "        vertical-align: top;\n",
       "    }\n",
       "\n",
       "    .dataframe thead th {\n",
       "        text-align: right;\n",
       "    }\n",
       "</style>\n",
       "<table border=\"1\" class=\"dataframe\">\n",
       "  <thead>\n",
       "    <tr style=\"text-align: right;\">\n",
       "      <th></th>\n",
       "      <th>subreddit</th>\n",
       "      <th>date</th>\n",
       "      <th>text</th>\n",
       "    </tr>\n",
       "  </thead>\n",
       "  <tbody>\n",
       "    <tr>\n",
       "      <th>4995</th>\n",
       "      <td>hotels</td>\n",
       "      <td>2014-08-19</td>\n",
       "      <td>GruppenreisenUK -</td>\n",
       "    </tr>\n",
       "    <tr>\n",
       "      <th>4996</th>\n",
       "      <td>hotels</td>\n",
       "      <td>2014-08-19</td>\n",
       "      <td>Choose Family Hotels in Dubai for a Lovely Vac...</td>\n",
       "    </tr>\n",
       "    <tr>\n",
       "      <th>4997</th>\n",
       "      <td>hotels</td>\n",
       "      <td>2014-08-19</td>\n",
       "      <td>Five must-see European castles -</td>\n",
       "    </tr>\n",
       "    <tr>\n",
       "      <th>4998</th>\n",
       "      <td>hotels</td>\n",
       "      <td>2014-08-19</td>\n",
       "      <td>Five must-see European castles -</td>\n",
       "    </tr>\n",
       "    <tr>\n",
       "      <th>4999</th>\n",
       "      <td>hotels</td>\n",
       "      <td>2014-08-18</td>\n",
       "      <td>Doubletree Hotel in Port Huron, Michigan -</td>\n",
       "    </tr>\n",
       "  </tbody>\n",
       "</table>\n",
       "</div>"
      ],
      "text/plain": [
       "     subreddit        date                                               text\n",
       "4995    hotels  2014-08-19                                  GruppenreisenUK -\n",
       "4996    hotels  2014-08-19  Choose Family Hotels in Dubai for a Lovely Vac...\n",
       "4997    hotels  2014-08-19                   Five must-see European castles -\n",
       "4998    hotels  2014-08-19                   Five must-see European castles -\n",
       "4999    hotels  2014-08-18         Doubletree Hotel in Port Huron, Michigan -"
      ]
     },
     "execution_count": 36,
     "metadata": {},
     "output_type": "execute_result"
    }
   ],
   "source": [
    "df_hotels.tail()"
   ]
  },
  {
   "cell_type": "code",
   "execution_count": null,
   "id": "e4fc4a24-c95e-4b51-8d4c-97abd127ec9d",
   "metadata": {},
   "outputs": [],
   "source": []
  },
  {
   "cell_type": "code",
   "execution_count": 37,
   "id": "9a88b485-b67d-4049-811b-5b6ce7eaa97a",
   "metadata": {},
   "outputs": [
    {
     "data": {
      "image/png": "[encoded data removed]",
      "text/plain": [
       "<Figure size 1000x400 with 2 Axes>"
      ]
     },
     "metadata": {},
     "output_type": "display_data"
    }
   ],
   "source": [
    "#Plotting distribution of time posted\n",
    "fig, (ax1, ax2) = plt.subplots(1, 2, figsize=(10, 4))\n",
    "\n",
    "ax1.hist(df_hotels['date'], color='red')\n",
    "ax1.set_title('r/Hotels')\n",
    "\n",
    "\n",
    "ax2.hist(df_flights['date'], color='green')\n",
    "ax2.set_title('r/Flights')\n",
    "\n",
    "fig.suptitle('Distribution of Time vs Posted')\n",
    "\n",
    "plt.show()"
   ]
  },
  {
   "cell_type": "markdown",
   "id": "07f7a1c3-1fd7-4d2f-b9af-e35a16c05476",
   "metadata": {},
   "source": [
    "reference: it seems that r/flights have more recent posting compared to hotels, there is this possibility as previously Covid not many travel on flight and also flights seats are very restricted as well whereas hotels still open for staycations so there are more post in between in general. "
   ]
  },
  {
   "cell_type": "markdown",
   "id": "f278dca3-c7f5-43a5-9f7e-5e162fc7c246",
   "metadata": {},
   "source": [
    "### Remove duplicate"
   ]
  },
  {
   "cell_type": "code",
   "execution_count": 38,
   "id": "66e69ee5-ae05-4a6a-8b63-99ca8e5bd8e2",
   "metadata": {},
   "outputs": [],
   "source": [
    "# drop the 'date' columns from the dataframe as not requested in the classification model\n",
    "df_hotels = df_hotels.drop(['date'], axis=1)\n",
    "df_flights = df_flights.drop(['date'], axis=1)"
   ]
  },
  {
   "cell_type": "code",
   "execution_count": 39,
   "id": "91fe02aa-9959-44e2-b117-b874d1b098d1",
   "metadata": {},
   "outputs": [
    {
     "data": {
      "text/plain": [
       "233"
      ]
     },
     "execution_count": 39,
     "metadata": {},
     "output_type": "execute_result"
    }
   ],
   "source": [
    "df_hotels.duplicated().sum() #ensure no duplicate columns"
   ]
  },
  {
   "cell_type": "code",
   "execution_count": 40,
   "id": "ef1e3dea-c249-4411-b402-952edc1489e1",
   "metadata": {},
   "outputs": [
    {
     "data": {
      "text/plain": [
       "0"
      ]
     },
     "execution_count": 40,
     "metadata": {},
     "output_type": "execute_result"
    }
   ],
   "source": [
    "df_hotels = df_hotels.drop_duplicates()\n",
    "df_hotels.duplicated().sum()"
   ]
  },
  {
   "cell_type": "code",
   "execution_count": 41,
   "id": "bc27d050-fe3f-4931-8315-c93fdae17d36",
   "metadata": {},
   "outputs": [
    {
     "data": {
      "text/plain": [
       "36"
      ]
     },
     "execution_count": 41,
     "metadata": {},
     "output_type": "execute_result"
    }
   ],
   "source": [
    "df_flights.duplicated().sum() #ensure no duplicate columns"
   ]
  },
  {
   "cell_type": "code",
   "execution_count": 42,
   "id": "f1c293fe-b6d8-4bd1-b39c-b3b7bd1a7c84",
   "metadata": {},
   "outputs": [
    {
     "data": {
      "text/plain": [
       "0"
      ]
     },
     "execution_count": 42,
     "metadata": {},
     "output_type": "execute_result"
    }
   ],
   "source": [
    "df_flights = df_flights.drop_duplicates()\n",
    "df_flights.duplicated().sum()"
   ]
  },
  {
   "cell_type": "code",
   "execution_count": null,
   "id": "91cd435d-efaa-47f2-9ebc-fad7c9489a2a",
   "metadata": {},
   "outputs": [],
   "source": []
  },
  {
   "cell_type": "code",
   "execution_count": null,
   "id": "cb0f195b-d941-46ac-8add-d85fbe3191dd",
   "metadata": {},
   "outputs": [],
   "source": []
  },
  {
   "cell_type": "code",
   "execution_count": null,
   "id": "75f02c24-9316-46ba-858f-38f0bfe250bb",
   "metadata": {},
   "outputs": [],
   "source": []
  },
  {
   "cell_type": "code",
   "execution_count": null,
   "id": "2106eff5-7d88-4604-8367-371a39c587db",
   "metadata": {},
   "outputs": [],
   "source": []
  },
  {
   "cell_type": "code",
   "execution_count": null,
   "id": "62e2ad0d-b920-4e08-9c34-71a5e3eca13d",
   "metadata": {},
   "outputs": [],
   "source": []
  },
  {
   "cell_type": "markdown",
   "id": "eaa18322-c08c-437f-bae1-e197e50a8260",
   "metadata": {},
   "source": [
    "## Saved Clean Datasets"
   ]
  },
  {
   "cell_type": "code",
   "execution_count": 43,
   "id": "0e7d14ec-220c-4904-b8ce-e6ecf6481503",
   "metadata": {},
   "outputs": [],
   "source": [
    "#Data is clean, here is what we will like to save it as\n",
    "#index = false for no index column\n",
    "df_hotels = df_hotels.to_csv('../data/hotels_cleaned.csv', index = False)\n",
    "df_flights = df_flights.to_csv('../data/flights_cleaned.csv', index = False)"
   ]
  },
  {
   "cell_type": "markdown",
   "id": "9d90728b-b1b3-4a4b-bb3d-2543dec7f202",
   "metadata": {},
   "source": [
    "## Continue to Notebook 3: Pre-Processing"
   ]
  },
  {
   "cell_type": "code",
   "execution_count": null,
   "id": "cebc46a3-4a72-49bd-b93b-fca33947bf29",
   "metadata": {},
   "outputs": [],
   "source": []
  }
 ],
 "metadata": {
  "kernelspec": {
   "display_name": "dsi-sg",
   "language": "python",
   "name": "dsi-sg"
  },
  "language_info": {
   "codemirror_mode": {
    "name": "ipython",
    "version": 3
   },
   "file_extension": ".py",
   "mimetype": "text/x-python",
   "name": "python",
   "nbconvert_exporter": "python",
   "pygments_lexer": "ipython3",
   "version": "3.9.13"
  }
 },
 "nbformat": 4,
 "nbformat_minor": 5
}

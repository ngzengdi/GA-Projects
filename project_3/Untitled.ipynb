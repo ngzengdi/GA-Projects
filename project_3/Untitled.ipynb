{
 "cells": [
  {
   "cell_type": "code",
   "execution_count": 26,
   "id": "bed51127-77a5-4837-8fbc-9b6359a398c9",
   "metadata": {},
   "outputs": [
    {
     "ename": "ImportError",
     "evalue": "cannot import name 'prefer_gpu' from 'thinc.api' (C:\\Users\\clair\\miniconda3\\envs\\dsi-sg\\lib\\site-packages\\thinc\\api.py)",
     "output_type": "error",
     "traceback": [
      "\u001b[1;31m---------------------------------------------------------------------------\u001b[0m",
      "\u001b[1;31mImportError\u001b[0m                               Traceback (most recent call last)",
      "Cell \u001b[1;32mIn [26], line 1\u001b[0m\n\u001b[1;32m----> 1\u001b[0m \u001b[38;5;28;01mimport\u001b[39;00m \u001b[38;5;21;01mspacy\u001b[39;00m\n",
      "File \u001b[1;32m~\\miniconda3\\envs\\dsi-sg\\lib\\site-packages\\spacy\\__init__.py:11\u001b[0m\n\u001b[0;32m      8\u001b[0m setup_default_warnings()  \u001b[38;5;66;03m# noqa: E402\u001b[39;00m\n\u001b[0;32m     10\u001b[0m \u001b[38;5;66;03m# These are imported as part of the API\u001b[39;00m\n\u001b[1;32m---> 11\u001b[0m \u001b[38;5;28;01mfrom\u001b[39;00m \u001b[38;5;21;01mthinc\u001b[39;00m\u001b[38;5;21;01m.\u001b[39;00m\u001b[38;5;21;01mapi\u001b[39;00m \u001b[38;5;28;01mimport\u001b[39;00m prefer_gpu, require_gpu, require_cpu  \u001b[38;5;66;03m# noqa: F401\u001b[39;00m\n\u001b[0;32m     12\u001b[0m \u001b[38;5;28;01mfrom\u001b[39;00m \u001b[38;5;21;01mthinc\u001b[39;00m\u001b[38;5;21;01m.\u001b[39;00m\u001b[38;5;21;01mapi\u001b[39;00m \u001b[38;5;28;01mimport\u001b[39;00m Config\n\u001b[0;32m     14\u001b[0m \u001b[38;5;28;01mfrom\u001b[39;00m \u001b[38;5;21;01m.\u001b[39;00m \u001b[38;5;28;01mimport\u001b[39;00m pipeline  \u001b[38;5;66;03m# noqa: F401\u001b[39;00m\n",
      "\u001b[1;31mImportError\u001b[0m: cannot import name 'prefer_gpu' from 'thinc.api' (C:\\Users\\clair\\miniconda3\\envs\\dsi-sg\\lib\\site-packages\\thinc\\api.py)"
     ]
    }
   ],
   "source": [
    "import spacy\n"
   ]
  },
  {
   "cell_type": "code",
   "execution_count": 25,
   "id": "425d084c-583a-4ff7-9628-7b909541eb71",
   "metadata": {},
   "outputs": [],
   "source": [
    "#import libraries\n",
    "import pandas as pd\n",
    "from datetime import datetime\n",
    "import requests\n",
    "import time"
   ]
  },
  {
   "cell_type": "code",
   "execution_count": 3,
   "id": "073fe0b2-2fca-4ddb-981f-e87a3caa1e3a",
   "metadata": {},
   "outputs": [],
   "source": [
    "# we use this function to convert responses to dataframes\n",
    "def df_from_response(res):\n",
    "    # initialize temp dataframe for batch of data in response\n",
    "    df = pd.DataFrame()\n",
    "    "
   ]
  },
  {
   "cell_type": "markdown",
   "id": "cf5380f5-5fad-4a8c-9fbd-a756545b7030",
   "metadata": {},
   "source": [
    " # loop through each post pulled from res and append to df\n",
    "for post in res.json()['data']['children']:\n",
    "        df = df.append({\n",
    "            'subreddit': post['data']['subreddit'],\n",
    "            'title': post['data']['title'],\n",
    "            'selftext': post['data']['selftext'],\n",
    "            'upvote_ratio': post['data']['upvote_ratio'],\n",
    "            'ups': post['data']['ups'],\n",
    "            'downs': post['data']['downs'],\n",
    "            'score': post['data']['score'],\n",
    "            'link_flair_css_class': post['data']['link_flair_css_class'],\n",
    "            'created_utc': datetime.fromtimestamp(post['data']['created_utc']).strftime('%Y-%m-%dT%H:%M:%SZ'),\n",
    "            'id': post['data']['id'],\n",
    "            'kind': post['kind']\n",
    "        }, ignore_index=True)\n",
    "\n",
    "return df"
   ]
  },
  {
   "cell_type": "code",
   "execution_count": null,
   "id": "bfc3c901-0db0-4df1-972b-ab1be98ad2dd",
   "metadata": {},
   "outputs": [],
   "source": []
  },
  {
   "cell_type": "code",
   "execution_count": null,
   "id": "d692c195-fb18-4af4-b698-38e45791a2f4",
   "metadata": {},
   "outputs": [],
   "source": []
  },
  {
   "cell_type": "code",
   "execution_count": null,
   "id": "46721938-d1da-48cf-8f16-82785e1728e3",
   "metadata": {},
   "outputs": [],
   "source": []
  },
  {
   "cell_type": "code",
   "execution_count": 18,
   "id": "719df29e-588f-4695-b7cd-fb0e1f1b8d14",
   "metadata": {},
   "outputs": [],
   "source": [
    "# enter in 'personal use script' and 'secret token'\n",
    "auth = requests.auth.HTTPBasicAuth('<P3AJtFenakMjO35Nx6fG9g>', '<YdfDJtA69WrWta3wriZjKKZXyJ9SMw>')"
   ]
  },
  {
   "cell_type": "code",
   "execution_count": 19,
   "id": "c456763a-97d5-4a43-b2a6-353de476783b",
   "metadata": {},
   "outputs": [],
   "source": [
    "# here we pass our login method (password), username, and password\n",
    "data = {'grant_type': 'password',\n",
    "        'username': '<Pure-Wear-6080>',\n",
    "        'password': '<TamanJurong>'}"
   ]
  },
  {
   "cell_type": "markdown",
   "id": "d8858880-7208-4eaa-83ea-f7d868a7ed6f",
   "metadata": {},
   "source": [
    "# setup our header info, which gives reddit a brief description of our app\n",
    "headers = {'User-Agent': 'MyBot/0.0.1'}"
   ]
  },
  {
   "cell_type": "code",
   "execution_count": 22,
   "id": "430cabde-04bc-48cd-b1ac-47d5907279f4",
   "metadata": {},
   "outputs": [],
   "source": [
    "# send our request for an OAuth token\n",
    "res = requests.post('https://www.reddit.com/api/v1/access_token',\n",
    "                    auth=auth, data=data, headers=headers)"
   ]
  },
  {
   "cell_type": "code",
   "execution_count": 23,
   "id": "0bd9fbe7-094f-4513-9358-2f316face022",
   "metadata": {},
   "outputs": [
    {
     "ename": "KeyError",
     "evalue": "'access_token'",
     "output_type": "error",
     "traceback": [
      "\u001b[1;31m---------------------------------------------------------------------------\u001b[0m",
      "\u001b[1;31mKeyError\u001b[0m                                  Traceback (most recent call last)",
      "Cell \u001b[1;32mIn [23], line 2\u001b[0m\n\u001b[0;32m      1\u001b[0m \u001b[38;5;66;03m# convert response to JSON and pull access_token value\u001b[39;00m\n\u001b[1;32m----> 2\u001b[0m TOKEN \u001b[38;5;241m=\u001b[39m \u001b[43mres\u001b[49m\u001b[38;5;241;43m.\u001b[39;49m\u001b[43mjson\u001b[49m\u001b[43m(\u001b[49m\u001b[43m)\u001b[49m\u001b[43m[\u001b[49m\u001b[38;5;124;43m'\u001b[39;49m\u001b[38;5;124;43maccess_token\u001b[39;49m\u001b[38;5;124;43m'\u001b[39;49m\u001b[43m]\u001b[49m\n",
      "\u001b[1;31mKeyError\u001b[0m: 'access_token'"
     ]
    }
   ],
   "source": [
    "# convert response to JSON and pull access_token value\n",
    "TOKEN = res.json()['access_token']"
   ]
  },
  {
   "cell_type": "markdown",
   "id": "f6ed53c5-7a0e-4a1b-bd64-30c04288ced4",
   "metadata": {
    "tags": []
   },
   "source": [
    "# add authorization to our headers dictionary\n",
    "headers = {**headers, **{'Authorization': f\"bearer {TOKEN}\"}}"
   ]
  },
  {
   "cell_type": "markdown",
   "id": "498d500a-9194-49d4-b7ac-6262976bab73",
   "metadata": {},
   "source": [
    "Subreddit1 : Flights"
   ]
  },
  {
   "cell_type": "code",
   "execution_count": 4,
   "id": "97e50856-666a-45fe-bc27-886456a97eef",
   "metadata": {},
   "outputs": [],
   "source": [
    "#getting the url\n",
    "subreddit_1_url = \"https://api.pushshift.io/reddit/search/submission/?subreddit=flights&size=500\""
   ]
  },
  {
   "cell_type": "markdown",
   "id": "68e5a6c3-7c24-44d9-bfd5-981512d4507d",
   "metadata": {},
   "source": [
    "Subreddit2 : Hotels"
   ]
  },
  {
   "cell_type": "code",
   "execution_count": 5,
   "id": "31609877-b39c-443c-8b92-37bb438c3ab7",
   "metadata": {},
   "outputs": [],
   "source": [
    "#getting the url\n",
    "subreddit_2_url = \"https://api.pushshift.io/reddit/search/submission/?subreddit=hotels&size=500\""
   ]
  },
  {
   "cell_type": "code",
   "execution_count": 6,
   "id": "56647044-9791-40b8-918b-f9d1352f48bb",
   "metadata": {},
   "outputs": [],
   "source": [
    "#make request\n",
    "res_1 = requests.get(subreddit_1_url)\n",
    "#number of requests\n",
    "time.sleep(2)"
   ]
  },
  {
   "cell_type": "code",
   "execution_count": 7,
   "id": "3f07544b-e5f3-4692-a498-b7f2cbe7855d",
   "metadata": {},
   "outputs": [
    {
     "data": {
      "text/plain": [
       "200"
      ]
     },
     "execution_count": 7,
     "metadata": {},
     "output_type": "execute_result"
    }
   ],
   "source": [
    "#check the status code\n",
    "res_1.status_code"
   ]
  },
  {
   "cell_type": "code",
   "execution_count": 8,
   "id": "3e4735fe-b59a-44fd-9976-48c726f248b9",
   "metadata": {},
   "outputs": [],
   "source": [
    "#make request\n",
    "res_2 = requests.get(subreddit_2_url)\n",
    "#number of requests\n",
    "time.sleep(2)"
   ]
  },
  {
   "cell_type": "code",
   "execution_count": 9,
   "id": "a8dfcf7c-051d-484b-8e54-4423cb527c06",
   "metadata": {},
   "outputs": [
    {
     "data": {
      "text/plain": [
       "200"
      ]
     },
     "execution_count": 9,
     "metadata": {},
     "output_type": "execute_result"
    }
   ],
   "source": [
    "#check the status code\n",
    "res_2.status_code"
   ]
  },
  {
   "cell_type": "code",
   "execution_count": 10,
   "id": "c049424c-ac6e-4816-afea-b8bc81c8d3d5",
   "metadata": {},
   "outputs": [],
   "source": [
    "#creating the json object\n",
    "results_1 = res_1.json()['data']"
   ]
  },
  {
   "cell_type": "code",
   "execution_count": 11,
   "id": "59b33b3d-886c-4945-b24e-d84adb27a7c9",
   "metadata": {},
   "outputs": [],
   "source": [
    "#creating the json object\n",
    "results_2 = res_2.json()['data']"
   ]
  },
  {
   "cell_type": "code",
   "execution_count": 12,
   "id": "ebd762b5-73e5-4dba-b0c4-833bb8cec935",
   "metadata": {},
   "outputs": [],
   "source": [
    "#creating the dataframe of subreddit 1\n",
    "subreddit_1_df = pd.DataFrame(results_1)"
   ]
  },
  {
   "cell_type": "code",
   "execution_count": 13,
   "id": "1900d594-4be1-43ca-b764-91b0188db6f0",
   "metadata": {},
   "outputs": [
    {
     "data": {
      "text/plain": [
       "(499, 93)"
      ]
     },
     "execution_count": 13,
     "metadata": {},
     "output_type": "execute_result"
    }
   ],
   "source": [
    "subreddit_1_df.shape"
   ]
  },
  {
   "cell_type": "code",
   "execution_count": 14,
   "id": "1b601ebd-d042-47d0-ace0-7ba5ecb14dca",
   "metadata": {},
   "outputs": [
    {
     "data": {
      "text/html": [
       "<div>\n",
       "<style scoped>\n",
       "    .dataframe tbody tr th:only-of-type {\n",
       "        vertical-align: middle;\n",
       "    }\n",
       "\n",
       "    .dataframe tbody tr th {\n",
       "        vertical-align: top;\n",
       "    }\n",
       "\n",
       "    .dataframe thead th {\n",
       "        text-align: right;\n",
       "    }\n",
       "</style>\n",
       "<table border=\"1\" class=\"dataframe\">\n",
       "  <thead>\n",
       "    <tr style=\"text-align: right;\">\n",
       "      <th></th>\n",
       "      <th>subreddit</th>\n",
       "      <th>selftext</th>\n",
       "      <th>author_fullname</th>\n",
       "      <th>gilded</th>\n",
       "      <th>title</th>\n",
       "      <th>link_flair_richtext</th>\n",
       "      <th>subreddit_name_prefixed</th>\n",
       "      <th>hidden</th>\n",
       "      <th>pwls</th>\n",
       "      <th>link_flair_css_class</th>\n",
       "      <th>...</th>\n",
       "      <th>num_crossposts</th>\n",
       "      <th>media</th>\n",
       "      <th>is_video</th>\n",
       "      <th>retrieved_utc</th>\n",
       "      <th>updated_utc</th>\n",
       "      <th>utc_datetime_str</th>\n",
       "      <th>media_metadata</th>\n",
       "      <th>poll_data</th>\n",
       "      <th>is_gallery</th>\n",
       "      <th>gallery_data</th>\n",
       "    </tr>\n",
       "  </thead>\n",
       "  <tbody>\n",
       "    <tr>\n",
       "      <th>0</th>\n",
       "      <td>Flights</td>\n",
       "      <td></td>\n",
       "      <td>t2_9wpssbnd</td>\n",
       "      <td>0</td>\n",
       "      <td>I'm an engineer with a design to reverse engin...</td>\n",
       "      <td>[]</td>\n",
       "      <td>r/Flights</td>\n",
       "      <td>False</td>\n",
       "      <td>6</td>\n",
       "      <td>images</td>\n",
       "      <td>...</td>\n",
       "      <td>0</td>\n",
       "      <td>None</td>\n",
       "      <td>False</td>\n",
       "      <td>1678761438</td>\n",
       "      <td>1678761439</td>\n",
       "      <td>2023-03-14 02:37:06</td>\n",
       "      <td>NaN</td>\n",
       "      <td>NaN</td>\n",
       "      <td>NaN</td>\n",
       "      <td>NaN</td>\n",
       "    </tr>\n",
       "    <tr>\n",
       "      <th>1</th>\n",
       "      <td>Flights</td>\n",
       "      <td>[removed]</td>\n",
       "      <td>t2_t7tp8zm5</td>\n",
       "      <td>0</td>\n",
       "      <td>TAP AIR FLIGHT SONG</td>\n",
       "      <td>[]</td>\n",
       "      <td>r/Flights</td>\n",
       "      <td>False</td>\n",
       "      <td>6</td>\n",
       "      <td>None</td>\n",
       "      <td>...</td>\n",
       "      <td>0</td>\n",
       "      <td>None</td>\n",
       "      <td>False</td>\n",
       "      <td>1678756708</td>\n",
       "      <td>1678756709</td>\n",
       "      <td>2023-03-14 01:18:15</td>\n",
       "      <td>NaN</td>\n",
       "      <td>NaN</td>\n",
       "      <td>NaN</td>\n",
       "      <td>NaN</td>\n",
       "    </tr>\n",
       "    <tr>\n",
       "      <th>2</th>\n",
       "      <td>Flights</td>\n",
       "      <td>Context: I got a flight centre gift card for $...</td>\n",
       "      <td>t2_3kl6aczr</td>\n",
       "      <td>0</td>\n",
       "      <td>what would you do? awful rule regarding Porter...</td>\n",
       "      <td>[]</td>\n",
       "      <td>r/Flights</td>\n",
       "      <td>False</td>\n",
       "      <td>6</td>\n",
       "      <td>None</td>\n",
       "      <td>...</td>\n",
       "      <td>0</td>\n",
       "      <td>None</td>\n",
       "      <td>False</td>\n",
       "      <td>1678753915</td>\n",
       "      <td>1678753916</td>\n",
       "      <td>2023-03-14 00:31:38</td>\n",
       "      <td>NaN</td>\n",
       "      <td>NaN</td>\n",
       "      <td>NaN</td>\n",
       "      <td>NaN</td>\n",
       "    </tr>\n",
       "    <tr>\n",
       "      <th>3</th>\n",
       "      <td>Flights</td>\n",
       "      <td>[removed]</td>\n",
       "      <td>t2_4rayi7px</td>\n",
       "      <td>0</td>\n",
       "      <td>EVA Air CC Verification</td>\n",
       "      <td>[]</td>\n",
       "      <td>r/Flights</td>\n",
       "      <td>False</td>\n",
       "      <td>6</td>\n",
       "      <td>None</td>\n",
       "      <td>...</td>\n",
       "      <td>0</td>\n",
       "      <td>None</td>\n",
       "      <td>False</td>\n",
       "      <td>1678749495</td>\n",
       "      <td>1678749496</td>\n",
       "      <td>2023-03-13 23:17:59</td>\n",
       "      <td>NaN</td>\n",
       "      <td>NaN</td>\n",
       "      <td>NaN</td>\n",
       "      <td>NaN</td>\n",
       "    </tr>\n",
       "    <tr>\n",
       "      <th>4</th>\n",
       "      <td>Flights</td>\n",
       "      <td>So I learned, don’t book through credit card t...</td>\n",
       "      <td>t2_73a9nkz0</td>\n",
       "      <td>0</td>\n",
       "      <td>Booked through capital one</td>\n",
       "      <td>[]</td>\n",
       "      <td>r/Flights</td>\n",
       "      <td>False</td>\n",
       "      <td>6</td>\n",
       "      <td>None</td>\n",
       "      <td>...</td>\n",
       "      <td>0</td>\n",
       "      <td>None</td>\n",
       "      <td>False</td>\n",
       "      <td>1678749273</td>\n",
       "      <td>1678749273</td>\n",
       "      <td>2023-03-13 23:14:15</td>\n",
       "      <td>NaN</td>\n",
       "      <td>NaN</td>\n",
       "      <td>NaN</td>\n",
       "      <td>NaN</td>\n",
       "    </tr>\n",
       "  </tbody>\n",
       "</table>\n",
       "<p>5 rows × 93 columns</p>\n",
       "</div>"
      ],
      "text/plain": [
       "  subreddit                                           selftext  \\\n",
       "0   Flights                                                      \n",
       "1   Flights                                          [removed]   \n",
       "2   Flights  Context: I got a flight centre gift card for $...   \n",
       "3   Flights                                          [removed]   \n",
       "4   Flights  So I learned, don’t book through credit card t...   \n",
       "\n",
       "  author_fullname  gilded                                              title  \\\n",
       "0     t2_9wpssbnd       0  I'm an engineer with a design to reverse engin...   \n",
       "1     t2_t7tp8zm5       0                                TAP AIR FLIGHT SONG   \n",
       "2     t2_3kl6aczr       0  what would you do? awful rule regarding Porter...   \n",
       "3     t2_4rayi7px       0                            EVA Air CC Verification   \n",
       "4     t2_73a9nkz0       0                         Booked through capital one   \n",
       "\n",
       "  link_flair_richtext subreddit_name_prefixed  hidden  pwls  \\\n",
       "0                  []               r/Flights   False     6   \n",
       "1                  []               r/Flights   False     6   \n",
       "2                  []               r/Flights   False     6   \n",
       "3                  []               r/Flights   False     6   \n",
       "4                  []               r/Flights   False     6   \n",
       "\n",
       "  link_flair_css_class  ...  num_crossposts media  is_video  retrieved_utc  \\\n",
       "0               images  ...               0  None     False     1678761438   \n",
       "1                 None  ...               0  None     False     1678756708   \n",
       "2                 None  ...               0  None     False     1678753915   \n",
       "3                 None  ...               0  None     False     1678749495   \n",
       "4                 None  ...               0  None     False     1678749273   \n",
       "\n",
       "  updated_utc     utc_datetime_str media_metadata poll_data  is_gallery  \\\n",
       "0  1678761439  2023-03-14 02:37:06            NaN       NaN         NaN   \n",
       "1  1678756709  2023-03-14 01:18:15            NaN       NaN         NaN   \n",
       "2  1678753916  2023-03-14 00:31:38            NaN       NaN         NaN   \n",
       "3  1678749496  2023-03-13 23:17:59            NaN       NaN         NaN   \n",
       "4  1678749273  2023-03-13 23:14:15            NaN       NaN         NaN   \n",
       "\n",
       "  gallery_data  \n",
       "0          NaN  \n",
       "1          NaN  \n",
       "2          NaN  \n",
       "3          NaN  \n",
       "4          NaN  \n",
       "\n",
       "[5 rows x 93 columns]"
      ]
     },
     "execution_count": 14,
     "metadata": {},
     "output_type": "execute_result"
    }
   ],
   "source": [
    "#check to see if it worked\n",
    "subreddit_1_df.head()"
   ]
  },
  {
   "cell_type": "code",
   "execution_count": 15,
   "id": "2e228227-d6a4-4d3f-8250-08c2d2a5130d",
   "metadata": {},
   "outputs": [],
   "source": [
    "#creating the dataframe of subreddit 2\n",
    "subreddit_2_df = pd.DataFrame(results_2)"
   ]
  },
  {
   "cell_type": "code",
   "execution_count": 16,
   "id": "deb7477c-b9dd-4dc8-bf2a-1d416da3d8b5",
   "metadata": {},
   "outputs": [
    {
     "data": {
      "text/plain": [
       "(500, 92)"
      ]
     },
     "execution_count": 16,
     "metadata": {},
     "output_type": "execute_result"
    }
   ],
   "source": [
    "subreddit_2_df.shape"
   ]
  },
  {
   "cell_type": "code",
   "execution_count": 17,
   "id": "30c63e95-88f6-4639-928f-80e51eb858e2",
   "metadata": {},
   "outputs": [
    {
     "data": {
      "text/html": [
       "<div>\n",
       "<style scoped>\n",
       "    .dataframe tbody tr th:only-of-type {\n",
       "        vertical-align: middle;\n",
       "    }\n",
       "\n",
       "    .dataframe tbody tr th {\n",
       "        vertical-align: top;\n",
       "    }\n",
       "\n",
       "    .dataframe thead th {\n",
       "        text-align: right;\n",
       "    }\n",
       "</style>\n",
       "<table border=\"1\" class=\"dataframe\">\n",
       "  <thead>\n",
       "    <tr style=\"text-align: right;\">\n",
       "      <th></th>\n",
       "      <th>subreddit</th>\n",
       "      <th>selftext</th>\n",
       "      <th>author_fullname</th>\n",
       "      <th>gilded</th>\n",
       "      <th>title</th>\n",
       "      <th>link_flair_richtext</th>\n",
       "      <th>subreddit_name_prefixed</th>\n",
       "      <th>hidden</th>\n",
       "      <th>pwls</th>\n",
       "      <th>link_flair_css_class</th>\n",
       "      <th>...</th>\n",
       "      <th>num_crossposts</th>\n",
       "      <th>media</th>\n",
       "      <th>is_video</th>\n",
       "      <th>retrieved_utc</th>\n",
       "      <th>updated_utc</th>\n",
       "      <th>utc_datetime_str</th>\n",
       "      <th>author_cakeday</th>\n",
       "      <th>crosspost_parent_list</th>\n",
       "      <th>url_overridden_by_dest</th>\n",
       "      <th>crosspost_parent</th>\n",
       "    </tr>\n",
       "  </thead>\n",
       "  <tbody>\n",
       "    <tr>\n",
       "      <th>0</th>\n",
       "      <td>hotels</td>\n",
       "      <td>I made a huge mistake booking a hotel for an u...</td>\n",
       "      <td>t2_15hx7g</td>\n",
       "      <td>0</td>\n",
       "      <td>Double booking + egregious hotel cancellation ...</td>\n",
       "      <td>[]</td>\n",
       "      <td>r/hotels</td>\n",
       "      <td>False</td>\n",
       "      <td>6</td>\n",
       "      <td>None</td>\n",
       "      <td>...</td>\n",
       "      <td>0</td>\n",
       "      <td>None</td>\n",
       "      <td>False</td>\n",
       "      <td>1678763021</td>\n",
       "      <td>1678763022</td>\n",
       "      <td>2023-03-14 03:03:29</td>\n",
       "      <td>NaN</td>\n",
       "      <td>NaN</td>\n",
       "      <td>NaN</td>\n",
       "      <td>NaN</td>\n",
       "    </tr>\n",
       "    <tr>\n",
       "      <th>1</th>\n",
       "      <td>hotels</td>\n",
       "      <td>Hello All! \\nI am currently applying for assis...</td>\n",
       "      <td>t2_a1jx5edk</td>\n",
       "      <td>0</td>\n",
       "      <td>Hotel Managment</td>\n",
       "      <td>[]</td>\n",
       "      <td>r/hotels</td>\n",
       "      <td>False</td>\n",
       "      <td>6</td>\n",
       "      <td>None</td>\n",
       "      <td>...</td>\n",
       "      <td>0</td>\n",
       "      <td>None</td>\n",
       "      <td>False</td>\n",
       "      <td>1678760137</td>\n",
       "      <td>1678760138</td>\n",
       "      <td>2023-03-14 02:15:21</td>\n",
       "      <td>NaN</td>\n",
       "      <td>NaN</td>\n",
       "      <td>NaN</td>\n",
       "      <td>NaN</td>\n",
       "    </tr>\n",
       "    <tr>\n",
       "      <th>2</th>\n",
       "      <td>hotels</td>\n",
       "      <td>[removed]</td>\n",
       "      <td>t2_umhk6tre</td>\n",
       "      <td>0</td>\n",
       "      <td>Parking pass</td>\n",
       "      <td>[]</td>\n",
       "      <td>r/hotels</td>\n",
       "      <td>False</td>\n",
       "      <td>6</td>\n",
       "      <td>None</td>\n",
       "      <td>...</td>\n",
       "      <td>0</td>\n",
       "      <td>None</td>\n",
       "      <td>False</td>\n",
       "      <td>1678759338</td>\n",
       "      <td>1678759338</td>\n",
       "      <td>2023-03-14 02:02:06</td>\n",
       "      <td>NaN</td>\n",
       "      <td>NaN</td>\n",
       "      <td>NaN</td>\n",
       "      <td>NaN</td>\n",
       "    </tr>\n",
       "    <tr>\n",
       "      <th>3</th>\n",
       "      <td>hotels</td>\n",
       "      <td>[removed]</td>\n",
       "      <td>t2_tggblfic</td>\n",
       "      <td>0</td>\n",
       "      <td>A Journey Through The Oceana Hotel Culinary Wo...</td>\n",
       "      <td>[]</td>\n",
       "      <td>r/hotels</td>\n",
       "      <td>False</td>\n",
       "      <td>6</td>\n",
       "      <td>None</td>\n",
       "      <td>...</td>\n",
       "      <td>0</td>\n",
       "      <td>None</td>\n",
       "      <td>False</td>\n",
       "      <td>1678731758</td>\n",
       "      <td>1678731758</td>\n",
       "      <td>2023-03-13 18:22:24</td>\n",
       "      <td>NaN</td>\n",
       "      <td>NaN</td>\n",
       "      <td>NaN</td>\n",
       "      <td>NaN</td>\n",
       "    </tr>\n",
       "    <tr>\n",
       "      <th>4</th>\n",
       "      <td>hotels</td>\n",
       "      <td>[removed]</td>\n",
       "      <td>t2_63yclmjaj</td>\n",
       "      <td>0</td>\n",
       "      <td>Chime Card at Las Vegas Hotels</td>\n",
       "      <td>[]</td>\n",
       "      <td>r/hotels</td>\n",
       "      <td>False</td>\n",
       "      <td>6</td>\n",
       "      <td>None</td>\n",
       "      <td>...</td>\n",
       "      <td>0</td>\n",
       "      <td>None</td>\n",
       "      <td>False</td>\n",
       "      <td>1678730650</td>\n",
       "      <td>1678730651</td>\n",
       "      <td>2023-03-13 18:03:52</td>\n",
       "      <td>NaN</td>\n",
       "      <td>NaN</td>\n",
       "      <td>NaN</td>\n",
       "      <td>NaN</td>\n",
       "    </tr>\n",
       "  </tbody>\n",
       "</table>\n",
       "<p>5 rows × 92 columns</p>\n",
       "</div>"
      ],
      "text/plain": [
       "  subreddit                                           selftext  \\\n",
       "0    hotels  I made a huge mistake booking a hotel for an u...   \n",
       "1    hotels  Hello All! \\nI am currently applying for assis...   \n",
       "2    hotels                                          [removed]   \n",
       "3    hotels                                          [removed]   \n",
       "4    hotels                                          [removed]   \n",
       "\n",
       "  author_fullname  gilded                                              title  \\\n",
       "0       t2_15hx7g       0  Double booking + egregious hotel cancellation ...   \n",
       "1     t2_a1jx5edk       0                                    Hotel Managment   \n",
       "2     t2_umhk6tre       0                                       Parking pass   \n",
       "3     t2_tggblfic       0  A Journey Through The Oceana Hotel Culinary Wo...   \n",
       "4    t2_63yclmjaj       0                     Chime Card at Las Vegas Hotels   \n",
       "\n",
       "  link_flair_richtext subreddit_name_prefixed  hidden  pwls  \\\n",
       "0                  []                r/hotels   False     6   \n",
       "1                  []                r/hotels   False     6   \n",
       "2                  []                r/hotels   False     6   \n",
       "3                  []                r/hotels   False     6   \n",
       "4                  []                r/hotels   False     6   \n",
       "\n",
       "  link_flair_css_class  ...  num_crossposts media  is_video  retrieved_utc  \\\n",
       "0                 None  ...               0  None     False     1678763021   \n",
       "1                 None  ...               0  None     False     1678760137   \n",
       "2                 None  ...               0  None     False     1678759338   \n",
       "3                 None  ...               0  None     False     1678731758   \n",
       "4                 None  ...               0  None     False     1678730650   \n",
       "\n",
       "  updated_utc     utc_datetime_str author_cakeday crosspost_parent_list  \\\n",
       "0  1678763022  2023-03-14 03:03:29            NaN                   NaN   \n",
       "1  1678760138  2023-03-14 02:15:21            NaN                   NaN   \n",
       "2  1678759338  2023-03-14 02:02:06            NaN                   NaN   \n",
       "3  1678731758  2023-03-13 18:22:24            NaN                   NaN   \n",
       "4  1678730651  2023-03-13 18:03:52            NaN                   NaN   \n",
       "\n",
       "   url_overridden_by_dest crosspost_parent  \n",
       "0                     NaN              NaN  \n",
       "1                     NaN              NaN  \n",
       "2                     NaN              NaN  \n",
       "3                     NaN              NaN  \n",
       "4                     NaN              NaN  \n",
       "\n",
       "[5 rows x 92 columns]"
      ]
     },
     "execution_count": 17,
     "metadata": {},
     "output_type": "execute_result"
    }
   ],
   "source": [
    "#check to see if it worked\n",
    "subreddit_2_df.head()"
   ]
  },
  {
   "cell_type": "code",
   "execution_count": null,
   "id": "1a9e4946-5ee5-4430-b164-7388b1d98f04",
   "metadata": {},
   "outputs": [],
   "source": []
  },
  {
   "cell_type": "code",
   "execution_count": null,
   "id": "5764423a-9be8-48b4-9ff2-8fc14c36164d",
   "metadata": {},
   "outputs": [],
   "source": []
  },
  {
   "cell_type": "code",
   "execution_count": null,
   "id": "44ee7597-bdba-47ac-8fad-56a64937d439",
   "metadata": {},
   "outputs": [],
   "source": []
  },
  {
   "cell_type": "code",
   "execution_count": null,
   "id": "a0db936d-6c35-471e-903a-8c2125354ce8",
   "metadata": {},
   "outputs": [],
   "source": [
    "# Update the Beatles dataframe with the 19,500 succeeding posts\n",
    "for i in range(39):\n",
    "    df_beatles = update_df(df_beatles, 'beatles')\n",
    "    if i in [10, 20, 30]:\n",
    "        print(df_beatles.shape)\n",
    "\n",
    "df_beatles.shape"
   ]
  }
 ],
 "metadata": {
  "kernelspec": {
   "display_name": "dsi-sg",
   "language": "python",
   "name": "dsi-sg"
  },
  "language_info": {
   "codemirror_mode": {
    "name": "ipython",
    "version": 3
   },
   "file_extension": ".py",
   "mimetype": "text/x-python",
   "name": "python",
   "nbconvert_exporter": "python",
   "pygments_lexer": "ipython3",
   "version": "3.9.13"
  }
 },
 "nbformat": 4,
 "nbformat_minor": 5
}
